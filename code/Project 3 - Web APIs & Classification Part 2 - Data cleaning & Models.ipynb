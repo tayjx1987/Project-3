{
 "cells": [
  {
   "cell_type": "markdown",
   "metadata": {},
   "source": [
    "**Project 3: Web APIs & Classification Part 2 - Data cleaning / Models**"
   ]
  },
  {
   "cell_type": "markdown",
   "metadata": {},
   "source": [
    "# Problem statement"
   ]
  },
  {
   "cell_type": "markdown",
   "metadata": {},
   "source": [
    "Using data obtained from webscraping, to train a classifier to predict which subreddit a given post came from.\n",
    "\n",
    "I will be scraping data from www.reddit.com. 2 subreddit will be selected and 1000 posts(each) will be scraped. The data from the post will then be fed to classifier models for training and to used to predict the subreddit which the testing post is from. "
   ]
  },
  {
   "cell_type": "markdown",
   "metadata": {},
   "source": [
    "##### Importing relevant libraries."
   ]
  },
  {
   "cell_type": "code",
   "execution_count": 1,
   "metadata": {
    "ExecuteTime": {
     "end_time": "2019-10-24T13:45:12.553839Z",
     "start_time": "2019-10-24T13:45:10.114387Z"
    }
   },
   "outputs": [],
   "source": [
    "import pandas as pd\n",
    "import numpy as np\n",
    "import matplotlib.pyplot as plt\n",
    "from sklearn.feature_extraction.text import CountVectorizer, TfidfVectorizer, HashingVectorizer, TfidfTransformer\n",
    "from sklearn.pipeline import Pipeline\n",
    "from sklearn.model_selection import train_test_split, GridSearchCV, cross_val_score\n",
    "from sklearn.linear_model import LogisticRegression\n",
    "from sklearn.neighbors import KNeighborsClassifier\n",
    "from sklearn.naive_bayes import MultinomialNB, GaussianNB\n",
    "from sklearn.pipeline import Pipeline\n",
    "from sklearn.metrics import classification_report, confusion_matrix, roc_auc_score\n",
    "from sklearn.ensemble import VotingClassifier, AdaBoostClassifier\n",
    "from sklearn.tree import DecisionTreeClassifier\n",
    "from bs4 import BeautifulSoup\n",
    "from nltk.corpus import stopwords\n",
    "from nltk.stem import WordNetLemmatizer\n",
    "from nltk.stem.porter import PorterStemmer\n",
    "import re\n",
    "%matplotlib inline"
   ]
  },
  {
   "cell_type": "markdown",
   "metadata": {},
   "source": [
    "# Data Cleaning"
   ]
  },
  {
   "cell_type": "markdown",
   "metadata": {},
   "source": [
    "## Importing data"
   ]
  },
  {
   "cell_type": "code",
   "execution_count": 2,
   "metadata": {
    "ExecuteTime": {
     "end_time": "2019-10-24T13:45:12.582404Z",
     "start_time": "2019-10-24T13:45:12.556491Z"
    }
   },
   "outputs": [],
   "source": [
    "df_parenting=pd.read_csv('../datasets/parenting.csv') #reading csv file"
   ]
  },
  {
   "cell_type": "code",
   "execution_count": 3,
   "metadata": {
    "ExecuteTime": {
     "end_time": "2019-10-24T13:45:12.605103Z",
     "start_time": "2019-10-24T13:45:12.584770Z"
    }
   },
   "outputs": [],
   "source": [
    "df_childfree=pd.read_csv('../datasets/childfree.csv') #reading csv file"
   ]
  },
  {
   "cell_type": "code",
   "execution_count": 4,
   "metadata": {
    "ExecuteTime": {
     "end_time": "2019-10-24T13:45:12.617563Z",
     "start_time": "2019-10-24T13:45:12.607536Z"
    },
    "scrolled": false
   },
   "outputs": [
    {
     "data": {
      "text/html": [
       "<div>\n",
       "<style scoped>\n",
       "    .dataframe tbody tr th:only-of-type {\n",
       "        vertical-align: middle;\n",
       "    }\n",
       "\n",
       "    .dataframe tbody tr th {\n",
       "        vertical-align: top;\n",
       "    }\n",
       "\n",
       "    .dataframe thead th {\n",
       "        text-align: right;\n",
       "    }\n",
       "</style>\n",
       "<table border=\"1\" class=\"dataframe\">\n",
       "  <thead>\n",
       "    <tr style=\"text-align: right;\">\n",
       "      <th></th>\n",
       "      <th>title</th>\n",
       "      <th>selftext</th>\n",
       "      <th>type</th>\n",
       "    </tr>\n",
       "  </thead>\n",
       "  <tbody>\n",
       "    <tr>\n",
       "      <th>0</th>\n",
       "      <td>future mommies get to skip the line !!!</td>\n",
       "      <td>my new potential workplace - a chain store wit...</td>\n",
       "      <td>childfree</td>\n",
       "    </tr>\n",
       "    <tr>\n",
       "      <th>1</th>\n",
       "      <td>Getting a vasectomy in the UK (M21)</td>\n",
       "      <td>Hi all,\\n\\nSorry for the upfront post but I've...</td>\n",
       "      <td>childfree</td>\n",
       "    </tr>\n",
       "    <tr>\n",
       "      <th>2</th>\n",
       "      <td>Apparently you only have the right to have you...</td>\n",
       "      <td>So this happened a few minutes ago:\\nWhile hav...</td>\n",
       "      <td>childfree</td>\n",
       "    </tr>\n",
       "    <tr>\n",
       "      <th>3</th>\n",
       "      <td>I see ads for young parents All. The. Time.</td>\n",
       "      <td>I clicked on the \"why do I see this ad?\" optio...</td>\n",
       "      <td>childfree</td>\n",
       "    </tr>\n",
       "    <tr>\n",
       "      <th>4</th>\n",
       "      <td>\"If you get pregnant this year, it will improv...</td>\n",
       "      <td>My husband and I have been married for less th...</td>\n",
       "      <td>childfree</td>\n",
       "    </tr>\n",
       "  </tbody>\n",
       "</table>\n",
       "</div>"
      ],
      "text/plain": [
       "                                               title  \\\n",
       "0            future mommies get to skip the line !!!   \n",
       "1                Getting a vasectomy in the UK (M21)   \n",
       "2  Apparently you only have the right to have you...   \n",
       "3        I see ads for young parents All. The. Time.   \n",
       "4  \"If you get pregnant this year, it will improv...   \n",
       "\n",
       "                                            selftext       type  \n",
       "0  my new potential workplace - a chain store wit...  childfree  \n",
       "1  Hi all,\\n\\nSorry for the upfront post but I've...  childfree  \n",
       "2  So this happened a few minutes ago:\\nWhile hav...  childfree  \n",
       "3  I clicked on the \"why do I see this ad?\" optio...  childfree  \n",
       "4  My husband and I have been married for less th...  childfree  "
      ]
     },
     "execution_count": 4,
     "metadata": {},
     "output_type": "execute_result"
    }
   ],
   "source": [
    "df_childfree.head()"
   ]
  },
  {
   "cell_type": "markdown",
   "metadata": {},
   "source": [
    "**Changing the target to 0 for childfree and 1 for parenting.**"
   ]
  },
  {
   "cell_type": "code",
   "execution_count": 5,
   "metadata": {
    "ExecuteTime": {
     "end_time": "2019-10-24T13:45:12.622168Z",
     "start_time": "2019-10-24T13:45:12.619355Z"
    }
   },
   "outputs": [],
   "source": [
    "df_childfree['type']=0 "
   ]
  },
  {
   "cell_type": "code",
   "execution_count": 6,
   "metadata": {
    "ExecuteTime": {
     "end_time": "2019-10-24T13:45:12.630939Z",
     "start_time": "2019-10-24T13:45:12.624234Z"
    },
    "scrolled": false
   },
   "outputs": [
    {
     "data": {
      "text/html": [
       "<div>\n",
       "<style scoped>\n",
       "    .dataframe tbody tr th:only-of-type {\n",
       "        vertical-align: middle;\n",
       "    }\n",
       "\n",
       "    .dataframe tbody tr th {\n",
       "        vertical-align: top;\n",
       "    }\n",
       "\n",
       "    .dataframe thead th {\n",
       "        text-align: right;\n",
       "    }\n",
       "</style>\n",
       "<table border=\"1\" class=\"dataframe\">\n",
       "  <thead>\n",
       "    <tr style=\"text-align: right;\">\n",
       "      <th></th>\n",
       "      <th>title</th>\n",
       "      <th>selftext</th>\n",
       "      <th>type</th>\n",
       "    </tr>\n",
       "  </thead>\n",
       "  <tbody>\n",
       "    <tr>\n",
       "      <th>0</th>\n",
       "      <td>future mommies get to skip the line !!!</td>\n",
       "      <td>my new potential workplace - a chain store wit...</td>\n",
       "      <td>0</td>\n",
       "    </tr>\n",
       "    <tr>\n",
       "      <th>1</th>\n",
       "      <td>Getting a vasectomy in the UK (M21)</td>\n",
       "      <td>Hi all,\\n\\nSorry for the upfront post but I've...</td>\n",
       "      <td>0</td>\n",
       "    </tr>\n",
       "    <tr>\n",
       "      <th>2</th>\n",
       "      <td>Apparently you only have the right to have you...</td>\n",
       "      <td>So this happened a few minutes ago:\\nWhile hav...</td>\n",
       "      <td>0</td>\n",
       "    </tr>\n",
       "    <tr>\n",
       "      <th>3</th>\n",
       "      <td>I see ads for young parents All. The. Time.</td>\n",
       "      <td>I clicked on the \"why do I see this ad?\" optio...</td>\n",
       "      <td>0</td>\n",
       "    </tr>\n",
       "    <tr>\n",
       "      <th>4</th>\n",
       "      <td>\"If you get pregnant this year, it will improv...</td>\n",
       "      <td>My husband and I have been married for less th...</td>\n",
       "      <td>0</td>\n",
       "    </tr>\n",
       "  </tbody>\n",
       "</table>\n",
       "</div>"
      ],
      "text/plain": [
       "                                               title  \\\n",
       "0            future mommies get to skip the line !!!   \n",
       "1                Getting a vasectomy in the UK (M21)   \n",
       "2  Apparently you only have the right to have you...   \n",
       "3        I see ads for young parents All. The. Time.   \n",
       "4  \"If you get pregnant this year, it will improv...   \n",
       "\n",
       "                                            selftext  type  \n",
       "0  my new potential workplace - a chain store wit...     0  \n",
       "1  Hi all,\\n\\nSorry for the upfront post but I've...     0  \n",
       "2  So this happened a few minutes ago:\\nWhile hav...     0  \n",
       "3  I clicked on the \"why do I see this ad?\" optio...     0  \n",
       "4  My husband and I have been married for less th...     0  "
      ]
     },
     "execution_count": 6,
     "metadata": {},
     "output_type": "execute_result"
    }
   ],
   "source": [
    "df_childfree.head()"
   ]
  },
  {
   "cell_type": "code",
   "execution_count": 7,
   "metadata": {
    "ExecuteTime": {
     "end_time": "2019-10-24T13:45:12.637855Z",
     "start_time": "2019-10-24T13:45:12.632775Z"
    },
    "scrolled": false
   },
   "outputs": [
    {
     "data": {
      "text/plain": [
       "title        0\n",
       "selftext    46\n",
       "type         0\n",
       "dtype: int64"
      ]
     },
     "execution_count": 7,
     "metadata": {},
     "output_type": "execute_result"
    }
   ],
   "source": [
    "df_childfree.isnull().sum() # Checking for null values."
   ]
  },
  {
   "cell_type": "markdown",
   "metadata": {},
   "source": [
    "There are 46 null selftext values."
   ]
  },
  {
   "cell_type": "code",
   "execution_count": 8,
   "metadata": {
    "ExecuteTime": {
     "end_time": "2019-10-24T13:45:12.644273Z",
     "start_time": "2019-10-24T13:45:12.640975Z"
    }
   },
   "outputs": [
    {
     "data": {
      "text/plain": [
       "(997, 3)"
      ]
     },
     "execution_count": 8,
     "metadata": {},
     "output_type": "execute_result"
    }
   ],
   "source": [
    "df_childfree.shape"
   ]
  },
  {
   "cell_type": "code",
   "execution_count": 9,
   "metadata": {
    "ExecuteTime": {
     "end_time": "2019-10-24T13:45:12.653067Z",
     "start_time": "2019-10-24T13:45:12.646897Z"
    }
   },
   "outputs": [
    {
     "data": {
      "text/html": [
       "<div>\n",
       "<style scoped>\n",
       "    .dataframe tbody tr th:only-of-type {\n",
       "        vertical-align: middle;\n",
       "    }\n",
       "\n",
       "    .dataframe tbody tr th {\n",
       "        vertical-align: top;\n",
       "    }\n",
       "\n",
       "    .dataframe thead th {\n",
       "        text-align: right;\n",
       "    }\n",
       "</style>\n",
       "<table border=\"1\" class=\"dataframe\">\n",
       "  <thead>\n",
       "    <tr style=\"text-align: right;\">\n",
       "      <th></th>\n",
       "      <th>title</th>\n",
       "      <th>selftext</th>\n",
       "      <th>type</th>\n",
       "    </tr>\n",
       "  </thead>\n",
       "  <tbody>\n",
       "    <tr>\n",
       "      <th>0</th>\n",
       "      <td>Thule Baby Seats for Bikes</td>\n",
       "      <td>I need help deciding between the Ridealong min...</td>\n",
       "      <td>parenting</td>\n",
       "    </tr>\n",
       "    <tr>\n",
       "      <th>1</th>\n",
       "      <td>My Kids [13M-11M] are not over the moon with S...</td>\n",
       "      <td>I got divorce 8 years and at the begging I was...</td>\n",
       "      <td>parenting</td>\n",
       "    </tr>\n",
       "    <tr>\n",
       "      <th>2</th>\n",
       "      <td>Do you think the use of technology discourages...</td>\n",
       "      <td>Hey everyone,\\n\\nWhat's your opinion on techno...</td>\n",
       "      <td>parenting</td>\n",
       "    </tr>\n",
       "    <tr>\n",
       "      <th>3</th>\n",
       "      <td>Parents,What would you do if your child's teac...</td>\n",
       "      <td>\\n\\nParents, what would you do if a teacher de...</td>\n",
       "      <td>parenting</td>\n",
       "    </tr>\n",
       "    <tr>\n",
       "      <th>4</th>\n",
       "      <td>My 11 week old baby seems to be getting \"bored...</td>\n",
       "      <td>My 11 week old can keep himself self entertain...</td>\n",
       "      <td>parenting</td>\n",
       "    </tr>\n",
       "  </tbody>\n",
       "</table>\n",
       "</div>"
      ],
      "text/plain": [
       "                                               title  \\\n",
       "0                         Thule Baby Seats for Bikes   \n",
       "1  My Kids [13M-11M] are not over the moon with S...   \n",
       "2  Do you think the use of technology discourages...   \n",
       "3  Parents,What would you do if your child's teac...   \n",
       "4  My 11 week old baby seems to be getting \"bored...   \n",
       "\n",
       "                                            selftext       type  \n",
       "0  I need help deciding between the Ridealong min...  parenting  \n",
       "1  I got divorce 8 years and at the begging I was...  parenting  \n",
       "2  Hey everyone,\\n\\nWhat's your opinion on techno...  parenting  \n",
       "3  \\n\\nParents, what would you do if a teacher de...  parenting  \n",
       "4  My 11 week old can keep himself self entertain...  parenting  "
      ]
     },
     "execution_count": 9,
     "metadata": {},
     "output_type": "execute_result"
    }
   ],
   "source": [
    "df_parenting.head()"
   ]
  },
  {
   "cell_type": "code",
   "execution_count": 10,
   "metadata": {
    "ExecuteTime": {
     "end_time": "2019-10-24T13:45:12.657407Z",
     "start_time": "2019-10-24T13:45:12.654724Z"
    }
   },
   "outputs": [],
   "source": [
    "df_parenting['type']=1"
   ]
  },
  {
   "cell_type": "code",
   "execution_count": 11,
   "metadata": {
    "ExecuteTime": {
     "end_time": "2019-10-24T13:45:12.665092Z",
     "start_time": "2019-10-24T13:45:12.658999Z"
    },
    "scrolled": true
   },
   "outputs": [
    {
     "data": {
      "text/html": [
       "<div>\n",
       "<style scoped>\n",
       "    .dataframe tbody tr th:only-of-type {\n",
       "        vertical-align: middle;\n",
       "    }\n",
       "\n",
       "    .dataframe tbody tr th {\n",
       "        vertical-align: top;\n",
       "    }\n",
       "\n",
       "    .dataframe thead th {\n",
       "        text-align: right;\n",
       "    }\n",
       "</style>\n",
       "<table border=\"1\" class=\"dataframe\">\n",
       "  <thead>\n",
       "    <tr style=\"text-align: right;\">\n",
       "      <th></th>\n",
       "      <th>title</th>\n",
       "      <th>selftext</th>\n",
       "      <th>type</th>\n",
       "    </tr>\n",
       "  </thead>\n",
       "  <tbody>\n",
       "    <tr>\n",
       "      <th>0</th>\n",
       "      <td>Thule Baby Seats for Bikes</td>\n",
       "      <td>I need help deciding between the Ridealong min...</td>\n",
       "      <td>1</td>\n",
       "    </tr>\n",
       "    <tr>\n",
       "      <th>1</th>\n",
       "      <td>My Kids [13M-11M] are not over the moon with S...</td>\n",
       "      <td>I got divorce 8 years and at the begging I was...</td>\n",
       "      <td>1</td>\n",
       "    </tr>\n",
       "    <tr>\n",
       "      <th>2</th>\n",
       "      <td>Do you think the use of technology discourages...</td>\n",
       "      <td>Hey everyone,\\n\\nWhat's your opinion on techno...</td>\n",
       "      <td>1</td>\n",
       "    </tr>\n",
       "    <tr>\n",
       "      <th>3</th>\n",
       "      <td>Parents,What would you do if your child's teac...</td>\n",
       "      <td>\\n\\nParents, what would you do if a teacher de...</td>\n",
       "      <td>1</td>\n",
       "    </tr>\n",
       "    <tr>\n",
       "      <th>4</th>\n",
       "      <td>My 11 week old baby seems to be getting \"bored...</td>\n",
       "      <td>My 11 week old can keep himself self entertain...</td>\n",
       "      <td>1</td>\n",
       "    </tr>\n",
       "  </tbody>\n",
       "</table>\n",
       "</div>"
      ],
      "text/plain": [
       "                                               title  \\\n",
       "0                         Thule Baby Seats for Bikes   \n",
       "1  My Kids [13M-11M] are not over the moon with S...   \n",
       "2  Do you think the use of technology discourages...   \n",
       "3  Parents,What would you do if your child's teac...   \n",
       "4  My 11 week old baby seems to be getting \"bored...   \n",
       "\n",
       "                                            selftext  type  \n",
       "0  I need help deciding between the Ridealong min...     1  \n",
       "1  I got divorce 8 years and at the begging I was...     1  \n",
       "2  Hey everyone,\\n\\nWhat's your opinion on techno...     1  \n",
       "3  \\n\\nParents, what would you do if a teacher de...     1  \n",
       "4  My 11 week old can keep himself self entertain...     1  "
      ]
     },
     "execution_count": 11,
     "metadata": {},
     "output_type": "execute_result"
    }
   ],
   "source": [
    "df_parenting.head()"
   ]
  },
  {
   "cell_type": "code",
   "execution_count": 12,
   "metadata": {
    "ExecuteTime": {
     "end_time": "2019-10-24T13:45:12.671576Z",
     "start_time": "2019-10-24T13:45:12.666839Z"
    },
    "scrolled": true
   },
   "outputs": [
    {
     "data": {
      "text/plain": [
       "title       0\n",
       "selftext    0\n",
       "type        0\n",
       "dtype: int64"
      ]
     },
     "execution_count": 12,
     "metadata": {},
     "output_type": "execute_result"
    }
   ],
   "source": [
    "df_parenting.isnull().sum() #Checking for null values"
   ]
  },
  {
   "cell_type": "code",
   "execution_count": 13,
   "metadata": {
    "ExecuteTime": {
     "end_time": "2019-10-24T13:45:12.676454Z",
     "start_time": "2019-10-24T13:45:12.673070Z"
    }
   },
   "outputs": [
    {
     "data": {
      "text/plain": [
       "(993, 3)"
      ]
     },
     "execution_count": 13,
     "metadata": {},
     "output_type": "execute_result"
    }
   ],
   "source": [
    "df_parenting.shape"
   ]
  },
  {
   "cell_type": "code",
   "execution_count": 14,
   "metadata": {
    "ExecuteTime": {
     "end_time": "2019-10-24T13:45:12.681505Z",
     "start_time": "2019-10-24T13:45:12.677965Z"
    }
   },
   "outputs": [],
   "source": [
    "df=pd.concat([df_childfree,df_parenting]) # Joining the 2 datasets "
   ]
  },
  {
   "cell_type": "code",
   "execution_count": 15,
   "metadata": {
    "ExecuteTime": {
     "end_time": "2019-10-24T13:45:12.686029Z",
     "start_time": "2019-10-24T13:45:12.683116Z"
    },
    "scrolled": false
   },
   "outputs": [
    {
     "data": {
      "text/plain": [
       "(1990, 3)"
      ]
     },
     "execution_count": 15,
     "metadata": {},
     "output_type": "execute_result"
    }
   ],
   "source": [
    "df.shape"
   ]
  },
  {
   "cell_type": "markdown",
   "metadata": {},
   "source": [
    "**Creating new column 'all' to combine the title and selftext**"
   ]
  },
  {
   "cell_type": "code",
   "execution_count": 16,
   "metadata": {
    "ExecuteTime": {
     "end_time": "2019-10-24T13:45:12.702912Z",
     "start_time": "2019-10-24T13:45:12.687577Z"
    }
   },
   "outputs": [],
   "source": [
    "df['all']=df['title']+' '+df['selftext'] "
   ]
  },
  {
   "cell_type": "code",
   "execution_count": 17,
   "metadata": {
    "ExecuteTime": {
     "end_time": "2019-10-24T13:45:12.707518Z",
     "start_time": "2019-10-24T13:45:12.704351Z"
    }
   },
   "outputs": [],
   "source": [
    "df.reset_index(inplace=True)"
   ]
  },
  {
   "cell_type": "code",
   "execution_count": 18,
   "metadata": {
    "ExecuteTime": {
     "end_time": "2019-10-24T13:45:12.716620Z",
     "start_time": "2019-10-24T13:45:12.709334Z"
    },
    "scrolled": true
   },
   "outputs": [
    {
     "data": {
      "text/html": [
       "<div>\n",
       "<style scoped>\n",
       "    .dataframe tbody tr th:only-of-type {\n",
       "        vertical-align: middle;\n",
       "    }\n",
       "\n",
       "    .dataframe tbody tr th {\n",
       "        vertical-align: top;\n",
       "    }\n",
       "\n",
       "    .dataframe thead th {\n",
       "        text-align: right;\n",
       "    }\n",
       "</style>\n",
       "<table border=\"1\" class=\"dataframe\">\n",
       "  <thead>\n",
       "    <tr style=\"text-align: right;\">\n",
       "      <th></th>\n",
       "      <th>index</th>\n",
       "      <th>title</th>\n",
       "      <th>selftext</th>\n",
       "      <th>type</th>\n",
       "      <th>all</th>\n",
       "    </tr>\n",
       "  </thead>\n",
       "  <tbody>\n",
       "    <tr>\n",
       "      <th>0</th>\n",
       "      <td>0</td>\n",
       "      <td>future mommies get to skip the line !!!</td>\n",
       "      <td>my new potential workplace - a chain store wit...</td>\n",
       "      <td>0</td>\n",
       "      <td>future mommies get to skip the line !!! my new...</td>\n",
       "    </tr>\n",
       "    <tr>\n",
       "      <th>1</th>\n",
       "      <td>1</td>\n",
       "      <td>Getting a vasectomy in the UK (M21)</td>\n",
       "      <td>Hi all,\\n\\nSorry for the upfront post but I've...</td>\n",
       "      <td>0</td>\n",
       "      <td>Getting a vasectomy in the UK (M21) Hi all,\\n\\...</td>\n",
       "    </tr>\n",
       "    <tr>\n",
       "      <th>2</th>\n",
       "      <td>2</td>\n",
       "      <td>Apparently you only have the right to have you...</td>\n",
       "      <td>So this happened a few minutes ago:\\nWhile hav...</td>\n",
       "      <td>0</td>\n",
       "      <td>Apparently you only have the right to have you...</td>\n",
       "    </tr>\n",
       "    <tr>\n",
       "      <th>3</th>\n",
       "      <td>3</td>\n",
       "      <td>I see ads for young parents All. The. Time.</td>\n",
       "      <td>I clicked on the \"why do I see this ad?\" optio...</td>\n",
       "      <td>0</td>\n",
       "      <td>I see ads for young parents All. The. Time. I ...</td>\n",
       "    </tr>\n",
       "    <tr>\n",
       "      <th>4</th>\n",
       "      <td>4</td>\n",
       "      <td>\"If you get pregnant this year, it will improv...</td>\n",
       "      <td>My husband and I have been married for less th...</td>\n",
       "      <td>0</td>\n",
       "      <td>\"If you get pregnant this year, it will improv...</td>\n",
       "    </tr>\n",
       "  </tbody>\n",
       "</table>\n",
       "</div>"
      ],
      "text/plain": [
       "   index                                              title  \\\n",
       "0      0            future mommies get to skip the line !!!   \n",
       "1      1                Getting a vasectomy in the UK (M21)   \n",
       "2      2  Apparently you only have the right to have you...   \n",
       "3      3        I see ads for young parents All. The. Time.   \n",
       "4      4  \"If you get pregnant this year, it will improv...   \n",
       "\n",
       "                                            selftext  type  \\\n",
       "0  my new potential workplace - a chain store wit...     0   \n",
       "1  Hi all,\\n\\nSorry for the upfront post but I've...     0   \n",
       "2  So this happened a few minutes ago:\\nWhile hav...     0   \n",
       "3  I clicked on the \"why do I see this ad?\" optio...     0   \n",
       "4  My husband and I have been married for less th...     0   \n",
       "\n",
       "                                                 all  \n",
       "0  future mommies get to skip the line !!! my new...  \n",
       "1  Getting a vasectomy in the UK (M21) Hi all,\\n\\...  \n",
       "2  Apparently you only have the right to have you...  \n",
       "3  I see ads for young parents All. The. Time. I ...  \n",
       "4  \"If you get pregnant this year, it will improv...  "
      ]
     },
     "execution_count": 18,
     "metadata": {},
     "output_type": "execute_result"
    }
   ],
   "source": [
    "df.head()"
   ]
  },
  {
   "cell_type": "code",
   "execution_count": 19,
   "metadata": {
    "ExecuteTime": {
     "end_time": "2019-10-24T13:45:12.724539Z",
     "start_time": "2019-10-24T13:45:12.718289Z"
    }
   },
   "outputs": [
    {
     "data": {
      "text/plain": [
       "index        0\n",
       "title        0\n",
       "selftext    46\n",
       "type         0\n",
       "all         46\n",
       "dtype: int64"
      ]
     },
     "execution_count": 19,
     "metadata": {},
     "output_type": "execute_result"
    }
   ],
   "source": [
    "df.isnull().sum() "
   ]
  },
  {
   "cell_type": "markdown",
   "metadata": {},
   "source": [
    "**Some selftext is nullvalues. This affect the result of column 'all'. To replace null values in 'all' column with the title.**"
   ]
  },
  {
   "cell_type": "code",
   "execution_count": 20,
   "metadata": {
    "ExecuteTime": {
     "end_time": "2019-10-24T13:45:12.729287Z",
     "start_time": "2019-10-24T13:45:12.726004Z"
    }
   },
   "outputs": [],
   "source": [
    "nullindex=df[df['all'].isnull()]['all'].index #getting the index of nullvalues in 'all' column"
   ]
  },
  {
   "cell_type": "code",
   "execution_count": 21,
   "metadata": {
    "ExecuteTime": {
     "end_time": "2019-10-24T13:45:12.761046Z",
     "start_time": "2019-10-24T13:45:12.731070Z"
    }
   },
   "outputs": [],
   "source": [
    "for x in nullindex:\n",
    "    df.loc[x,'all']=df.loc[x,'title']"
   ]
  },
  {
   "cell_type": "markdown",
   "metadata": {},
   "source": [
    "## Data Dictionary"
   ]
  },
  {
   "cell_type": "markdown",
   "metadata": {},
   "source": [
    "|Feature|Type|Description|\n",
    "|---|---|---|\n",
    "|title|object|Title of reddit post|\n",
    "|selftext|object|Main Body content of reddit post|\n",
    "|type|int|Indicates which reddit the post comes from (0:childfree, 1:parenting)|\n",
    "|all|object|Title and main body content of reddit post|"
   ]
  },
  {
   "cell_type": "markdown",
   "metadata": {},
   "source": [
    "## Train test split"
   ]
  },
  {
   "cell_type": "code",
   "execution_count": 22,
   "metadata": {
    "ExecuteTime": {
     "end_time": "2019-10-24T13:45:12.766028Z",
     "start_time": "2019-10-24T13:45:12.762574Z"
    }
   },
   "outputs": [],
   "source": [
    "X=df[['all']] # column 'all' contain both title and main body content\n",
    "y=df['type'] # target variable"
   ]
  },
  {
   "cell_type": "code",
   "execution_count": 23,
   "metadata": {
    "ExecuteTime": {
     "end_time": "2019-10-24T13:45:12.776907Z",
     "start_time": "2019-10-24T13:45:12.771534Z"
    }
   },
   "outputs": [],
   "source": [
    "# creating train test set with stratify=y to make sure we have both class in both sets\n",
    "X_train, X_test, y_train, y_test = train_test_split(X,y,test_size=0.3,stratify=y,random_state=42) "
   ]
  },
  {
   "cell_type": "markdown",
   "metadata": {},
   "source": [
    "## Bag of words"
   ]
  },
  {
   "cell_type": "code",
   "execution_count": 24,
   "metadata": {
    "ExecuteTime": {
     "end_time": "2019-10-24T13:45:12.782526Z",
     "start_time": "2019-10-24T13:45:12.780621Z"
    }
   },
   "outputs": [],
   "source": [
    "#instantiate lemmatizer and stemmer\n",
    "lemmatizer = WordNetLemmatizer()\n",
    "p_stemmer = PorterStemmer()"
   ]
  },
  {
   "cell_type": "markdown",
   "metadata": {},
   "source": [
    "**Function to return a list of words/numbers after lemmatizing and stemming and remving stopwords.**"
   ]
  },
  {
   "cell_type": "code",
   "execution_count": 25,
   "metadata": {
    "ExecuteTime": {
     "end_time": "2019-10-24T13:45:12.788213Z",
     "start_time": "2019-10-24T13:45:12.784206Z"
    }
   },
   "outputs": [],
   "source": [
    "def review_to_words(content):\n",
    "    # Function to convert a raw review to a string of words\n",
    "    # The input is a single string (title + main body post), and \n",
    "    # the output is a single string (a preprocessed title + main body post)\n",
    "    \n",
    "    # 1. Remove non-alphanumeric and \\n\n",
    "    letters_only = re.sub(\"[^a-zA-Z0-9]\", \" \", content).replace('\\n', ' ')\n",
    "    \n",
    "    # 2. Convert to lower case, split into individual words.\n",
    "    words = letters_only.lower().split()\n",
    "    \n",
    "    # 3. In Python, searching a set is much faster than searching\n",
    "    # a list, so convert the stop words to a set.\n",
    "    stops = set(stopwords.words('english'))\n",
    "    stops.update(['childfree','child-free']) # Adding subject as stopwords\n",
    "    \n",
    "    # 4. Remove stop words, lemmatize and stem words\n",
    "    meaningful_words = [lemmatizer.lemmatize(w) for w in words if not w in stops]\n",
    "    meaningful_words = [p_stemmer.stem(w) for w in meaningful_words]\n",
    "    \n",
    "    # 5. Join the words back into one string separated by space, \n",
    "    # and return the result.\n",
    "    return(\" \".join(meaningful_words))"
   ]
  },
  {
   "cell_type": "markdown",
   "metadata": {},
   "source": [
    "**To loop through the X_train and X_test 'all' columns to remove stopwords and to lemmarize and stem words. The words will be stored into a list of clean_train and clean_test.**"
   ]
  },
  {
   "cell_type": "code",
   "execution_count": 26,
   "metadata": {
    "ExecuteTime": {
     "end_time": "2019-10-24T13:45:12.791777Z",
     "start_time": "2019-10-24T13:45:12.789859Z"
    }
   },
   "outputs": [],
   "source": [
    "clean_train = [] #training set\n",
    "clean_test = [] #testing set"
   ]
  },
  {
   "cell_type": "code",
   "execution_count": 27,
   "metadata": {
    "ExecuteTime": {
     "end_time": "2019-10-24T13:45:19.018808Z",
     "start_time": "2019-10-24T13:45:12.793436Z"
    }
   },
   "outputs": [],
   "source": [
    "for data in X_train['all']:\n",
    "    # Convert review to words, then append to clean_train_title.\n",
    "    clean_train.append(review_to_words(data))\n",
    "\n",
    "for data in X_test['all']:\n",
    "    # Convert review to words, then append to clean_test_title.\n",
    "    clean_test.append(review_to_words(data))"
   ]
  },
  {
   "cell_type": "markdown",
   "metadata": {},
   "source": [
    "# Modelling"
   ]
  },
  {
   "cell_type": "markdown",
   "metadata": {},
   "source": [
    "## Baseline model"
   ]
  },
  {
   "cell_type": "code",
   "execution_count": 28,
   "metadata": {
    "ExecuteTime": {
     "end_time": "2019-10-24T13:45:19.026660Z",
     "start_time": "2019-10-24T13:45:19.020932Z"
    }
   },
   "outputs": [
    {
     "data": {
      "text/plain": [
       "0    0.500838\n",
       "1    0.499162\n",
       "Name: type, dtype: float64"
      ]
     },
     "execution_count": 28,
     "metadata": {},
     "output_type": "execute_result"
    }
   ],
   "source": [
    "y_test.value_counts(normalize=True)"
   ]
  },
  {
   "cell_type": "markdown",
   "metadata": {},
   "source": [
    "**The probability of predicting either childfree(0) or parenting(1) is around 0.5.**"
   ]
  },
  {
   "cell_type": "markdown",
   "metadata": {},
   "source": [
    "I plan to use 3 types of Vectorizer -  ***CountVectorizer, TfidfVectorizer, HashingVectorizer.*** These will break down the  words and the values will then be fed through classifiers to determine which subreddit the post is from."
   ]
  },
  {
   "cell_type": "markdown",
   "metadata": {},
   "source": [
    "## CountVectorizer path"
   ]
  },
  {
   "cell_type": "markdown",
   "metadata": {},
   "source": [
    "##### CountVectorizer tokenize a collection of text documents and encode each document. This return encoded vectors which are occurrence for each word. This vectors can be pushed to classifier models or machine learning algorithm."
   ]
  },
  {
   "cell_type": "markdown",
   "metadata": {},
   "source": [
    "### Tokenize data"
   ]
  },
  {
   "cell_type": "code",
   "execution_count": 29,
   "metadata": {
    "ExecuteTime": {
     "end_time": "2019-10-24T13:45:19.031061Z",
     "start_time": "2019-10-24T13:45:19.028767Z"
    }
   },
   "outputs": [],
   "source": [
    "cvec = CountVectorizer() #instantiate model"
   ]
  },
  {
   "cell_type": "code",
   "execution_count": 30,
   "metadata": {
    "ExecuteTime": {
     "end_time": "2019-10-24T13:45:19.228997Z",
     "start_time": "2019-10-24T13:45:19.032777Z"
    }
   },
   "outputs": [],
   "source": [
    "train_data_cvec = cvec.fit_transform(clean_train) #fit the model to clean_train and transform the data\n",
    "test_data_cvec = cvec.transform(clean_test) #transform the data of clean_test using the same cvec\n",
    "train_data_cvec = train_data_cvec.todense()# The matrix is sparse. Sparse matrices can cause problems with regards to space and time complexity. Todense() helps store the data more efficiently\n",
    "test_data_cvec = test_data_cvec.todense() #Todense() helps store the data more efficiently"
   ]
  },
  {
   "cell_type": "code",
   "execution_count": 31,
   "metadata": {
    "ExecuteTime": {
     "end_time": "2019-10-24T13:45:19.233820Z",
     "start_time": "2019-10-24T13:45:19.230606Z"
    },
    "scrolled": false
   },
   "outputs": [
    {
     "data": {
      "text/plain": [
       "(1393, 8428)"
      ]
     },
     "execution_count": 31,
     "metadata": {},
     "output_type": "execute_result"
    }
   ],
   "source": [
    "train_data_cvec.shape"
   ]
  },
  {
   "cell_type": "markdown",
   "metadata": {},
   "source": [
    "### Cross Validation"
   ]
  },
  {
   "cell_type": "markdown",
   "metadata": {},
   "source": [
    "**We will be deploying 4 classifier models and using cross val score to determine which model will produce the best results.**"
   ]
  },
  {
   "cell_type": "code",
   "execution_count": 32,
   "metadata": {
    "ExecuteTime": {
     "end_time": "2019-10-24T13:45:19.238101Z",
     "start_time": "2019-10-24T13:45:19.235506Z"
    }
   },
   "outputs": [],
   "source": [
    "lr=LogisticRegression() \n",
    "nb = MultinomialNB() \n",
    "gb = GaussianNB()\n",
    "ada = AdaBoostClassifier()"
   ]
  },
  {
   "cell_type": "code",
   "execution_count": 33,
   "metadata": {
    "ExecuteTime": {
     "end_time": "2019-10-24T13:46:44.609328Z",
     "start_time": "2019-10-24T13:45:19.239834Z"
    },
    "scrolled": false
   },
   "outputs": [
    {
     "name": "stderr",
     "output_type": "stream",
     "text": [
      "/Users/jiaxing/anaconda3/lib/python3.7/site-packages/sklearn/linear_model/logistic.py:432: FutureWarning: Default solver will be changed to 'lbfgs' in 0.22. Specify a solver to silence this warning.\n",
      "  FutureWarning)\n",
      "/Users/jiaxing/anaconda3/lib/python3.7/site-packages/sklearn/linear_model/logistic.py:432: FutureWarning: Default solver will be changed to 'lbfgs' in 0.22. Specify a solver to silence this warning.\n",
      "  FutureWarning)\n",
      "/Users/jiaxing/anaconda3/lib/python3.7/site-packages/sklearn/linear_model/logistic.py:432: FutureWarning: Default solver will be changed to 'lbfgs' in 0.22. Specify a solver to silence this warning.\n",
      "  FutureWarning)\n",
      "/Users/jiaxing/anaconda3/lib/python3.7/site-packages/sklearn/linear_model/logistic.py:432: FutureWarning: Default solver will be changed to 'lbfgs' in 0.22. Specify a solver to silence this warning.\n",
      "  FutureWarning)\n",
      "/Users/jiaxing/anaconda3/lib/python3.7/site-packages/sklearn/linear_model/logistic.py:432: FutureWarning: Default solver will be changed to 'lbfgs' in 0.22. Specify a solver to silence this warning.\n",
      "  FutureWarning)\n",
      "/Users/jiaxing/anaconda3/lib/python3.7/site-packages/sklearn/linear_model/logistic.py:432: FutureWarning: Default solver will be changed to 'lbfgs' in 0.22. Specify a solver to silence this warning.\n",
      "  FutureWarning)\n",
      "/Users/jiaxing/anaconda3/lib/python3.7/site-packages/sklearn/linear_model/logistic.py:432: FutureWarning: Default solver will be changed to 'lbfgs' in 0.22. Specify a solver to silence this warning.\n",
      "  FutureWarning)\n",
      "/Users/jiaxing/anaconda3/lib/python3.7/site-packages/sklearn/linear_model/logistic.py:432: FutureWarning: Default solver will be changed to 'lbfgs' in 0.22. Specify a solver to silence this warning.\n",
      "  FutureWarning)\n",
      "/Users/jiaxing/anaconda3/lib/python3.7/site-packages/sklearn/linear_model/logistic.py:432: FutureWarning: Default solver will be changed to 'lbfgs' in 0.22. Specify a solver to silence this warning.\n",
      "  FutureWarning)\n",
      "/Users/jiaxing/anaconda3/lib/python3.7/site-packages/sklearn/linear_model/logistic.py:432: FutureWarning: Default solver will be changed to 'lbfgs' in 0.22. Specify a solver to silence this warning.\n",
      "  FutureWarning)\n"
     ]
    },
    {
     "name": "stdout",
     "output_type": "stream",
     "text": [
      "0.8958971208126666\n",
      "0.9102964833102462\n",
      "0.7487353471260259\n",
      "0.8736769590538749\n"
     ]
    }
   ],
   "source": [
    "print(cross_val_score(lr,train_data_cvec,y_train,cv=10).mean())\n",
    "print(cross_val_score(nb,train_data_cvec,y_train,cv=10).mean())\n",
    "print(cross_val_score(gb,train_data_cvec,y_train,cv=10).mean())\n",
    "print(cross_val_score(ada,train_data_cvec,y_train,cv=10).mean())"
   ]
  },
  {
   "cell_type": "markdown",
   "metadata": {},
   "source": [
    "**MultinomialNB gives the best accuracy. Hence we will deploy MultinomialNB to further test on our train and test data.**"
   ]
  },
  {
   "cell_type": "code",
   "execution_count": 34,
   "metadata": {
    "ExecuteTime": {
     "end_time": "2019-10-24T13:46:44.704948Z",
     "start_time": "2019-10-24T13:46:44.611135Z"
    }
   },
   "outputs": [
    {
     "data": {
      "text/plain": [
       "0.9748743718592965"
      ]
     },
     "execution_count": 34,
     "metadata": {},
     "output_type": "execute_result"
    }
   ],
   "source": [
    "nb.fit(train_data_cvec,y_train)\n",
    "nb.score(train_data_cvec,y_train)"
   ]
  },
  {
   "cell_type": "code",
   "execution_count": 35,
   "metadata": {
    "ExecuteTime": {
     "end_time": "2019-10-24T13:46:44.725749Z",
     "start_time": "2019-10-24T13:46:44.707049Z"
    },
    "scrolled": false
   },
   "outputs": [
    {
     "data": {
      "text/plain": [
       "0.9296482412060302"
      ]
     },
     "execution_count": 35,
     "metadata": {},
     "output_type": "execute_result"
    }
   ],
   "source": [
    "nb.score(test_data_cvec,y_test)"
   ]
  },
  {
   "cell_type": "markdown",
   "metadata": {},
   "source": [
    "**The accuracy is high but the model is overfit to the training data.**"
   ]
  },
  {
   "cell_type": "markdown",
   "metadata": {},
   "source": [
    "### GridSearch"
   ]
  },
  {
   "cell_type": "markdown",
   "metadata": {},
   "source": [
    "**Performing Gridsearch to find the optimal parameters.**"
   ]
  },
  {
   "cell_type": "code",
   "execution_count": 36,
   "metadata": {
    "ExecuteTime": {
     "end_time": "2019-10-24T13:46:44.732150Z",
     "start_time": "2019-10-24T13:46:44.727720Z"
    }
   },
   "outputs": [],
   "source": [
    "pipe_cvec = Pipeline([\n",
    "    ('cvec', CountVectorizer(analyzer = \"word\",\n",
    "                             tokenizer = None,\n",
    "                             preprocessor = None,\n",
    "                             stop_words = None)),\n",
    "    ('nb', MultinomialNB()),\n",
    "])\n",
    "pipe_params = {\n",
    "    'cvec__max_features': [1000, 1500, 2500, 3000],\n",
    "    'cvec__ngram_range': [(1,1), (1,2), (1,3)],\n",
    "    'nb__alpha':np.linspace(2, 3, 10)\n",
    "}\n",
    "gs_cvec = GridSearchCV(pipe_cvec, param_grid=pipe_params, cv=10, n_jobs=-1)"
   ]
  },
  {
   "cell_type": "markdown",
   "metadata": {},
   "source": [
    "**Fitting model to generate score and best params used.**"
   ]
  },
  {
   "cell_type": "code",
   "execution_count": 37,
   "metadata": {
    "ExecuteTime": {
     "end_time": "2019-10-24T13:49:12.196933Z",
     "start_time": "2019-10-24T13:46:44.734247Z"
    }
   },
   "outputs": [
    {
     "data": {
      "text/plain": [
       "GridSearchCV(cv=10, error_score='raise-deprecating',\n",
       "             estimator=Pipeline(memory=None,\n",
       "                                steps=[('cvec',\n",
       "                                        CountVectorizer(analyzer='word',\n",
       "                                                        binary=False,\n",
       "                                                        decode_error='strict',\n",
       "                                                        dtype=<class 'numpy.int64'>,\n",
       "                                                        encoding='utf-8',\n",
       "                                                        input='content',\n",
       "                                                        lowercase=True,\n",
       "                                                        max_df=1.0,\n",
       "                                                        max_features=None,\n",
       "                                                        min_df=1,\n",
       "                                                        ngram_range=(1, 1),\n",
       "                                                        preprocessor=None,\n",
       "                                                        stop_words=None,\n",
       "                                                        strip_accents=None,\n",
       "                                                        to...\n",
       "                                                      class_prior=None,\n",
       "                                                      fit_prior=True))],\n",
       "                                verbose=False),\n",
       "             iid='warn', n_jobs=-1,\n",
       "             param_grid={'cvec__max_features': [1000, 1500, 2500, 3000],\n",
       "                         'cvec__ngram_range': [(1, 1), (1, 2), (1, 3)],\n",
       "                         'nb__alpha': array([2.        , 2.11111111, 2.22222222, 2.33333333, 2.44444444,\n",
       "       2.55555556, 2.66666667, 2.77777778, 2.88888889, 3.        ])},\n",
       "             pre_dispatch='2*n_jobs', refit=True, return_train_score=False,\n",
       "             scoring=None, verbose=0)"
      ]
     },
     "execution_count": 37,
     "metadata": {},
     "output_type": "execute_result"
    }
   ],
   "source": [
    "gs_cvec.fit(clean_train,y_train)"
   ]
  },
  {
   "cell_type": "code",
   "execution_count": 38,
   "metadata": {
    "ExecuteTime": {
     "end_time": "2019-10-24T13:49:12.204630Z",
     "start_time": "2019-10-24T13:49:12.200510Z"
    },
    "scrolled": false
   },
   "outputs": [
    {
     "name": "stdout",
     "output_type": "stream",
     "text": [
      "{'cvec__max_features': 2500, 'cvec__ngram_range': (1, 2), 'nb__alpha': 2.111111111111111}\n",
      "0.9073941134242641\n"
     ]
    }
   ],
   "source": [
    "print(gs_cvec.best_params_)\n",
    "print(gs_cvec.best_score_)"
   ]
  },
  {
   "cell_type": "markdown",
   "metadata": {},
   "source": [
    "**With the best params as above, we will instantiate new model and countvectoriser.**"
   ]
  },
  {
   "cell_type": "markdown",
   "metadata": {},
   "source": [
    "### Final model with CountVectorizer"
   ]
  },
  {
   "cell_type": "code",
   "execution_count": 39,
   "metadata": {
    "ExecuteTime": {
     "end_time": "2019-10-24T13:49:12.211363Z",
     "start_time": "2019-10-24T13:49:12.207495Z"
    }
   },
   "outputs": [],
   "source": [
    "cvec = CountVectorizer(max_features = 2500,\n",
    "                           ngram_range= (1, 2))"
   ]
  },
  {
   "cell_type": "code",
   "execution_count": 40,
   "metadata": {
    "ExecuteTime": {
     "end_time": "2019-10-24T13:49:12.902814Z",
     "start_time": "2019-10-24T13:49:12.213562Z"
    }
   },
   "outputs": [],
   "source": [
    "train_data_cvec = cvec.fit_transform(clean_train)\n",
    "test_data_cvec = cvec.transform(clean_test)\n",
    "train_data_cvec = train_data_cvec.todense()\n",
    "test_data_cvec = test_data_cvec.todense()"
   ]
  },
  {
   "cell_type": "code",
   "execution_count": 41,
   "metadata": {
    "ExecuteTime": {
     "end_time": "2019-10-24T13:49:12.959943Z",
     "start_time": "2019-10-24T13:49:12.904807Z"
    },
    "scrolled": true
   },
   "outputs": [
    {
     "name": "stdout",
     "output_type": "stream",
     "text": [
      "0.9468772433596554\n",
      "0.931323283082077\n"
     ]
    }
   ],
   "source": [
    "nb_cvec = MultinomialNB(alpha=2.111111111111111)\n",
    "nb_cvec.fit(train_data_cvec,y_train)\n",
    "print(nb_cvec.score(train_data_cvec,y_train))\n",
    "print(nb_cvec.score(test_data_cvec,y_test))"
   ]
  },
  {
   "cell_type": "code",
   "execution_count": 42,
   "metadata": {
    "ExecuteTime": {
     "end_time": "2019-10-24T13:49:12.971723Z",
     "start_time": "2019-10-24T13:49:12.962199Z"
    }
   },
   "outputs": [],
   "source": [
    "tn, fp, fn, tp=confusion_matrix(y_test, nb_cvec.predict(test_data_cvec)).ravel() #True negative, False positive, false negative and true positive"
   ]
  },
  {
   "cell_type": "code",
   "execution_count": 43,
   "metadata": {
    "ExecuteTime": {
     "end_time": "2019-10-24T13:49:12.986367Z",
     "start_time": "2019-10-24T13:49:12.974120Z"
    },
    "scrolled": false
   },
   "outputs": [
    {
     "name": "stdout",
     "output_type": "stream",
     "text": [
      "              precision    recall  f1-score   support\n",
      "\n",
      "           0       0.93      0.93      0.93       299\n",
      "           1       0.93      0.93      0.93       298\n",
      "\n",
      "    accuracy                           0.93       597\n",
      "   macro avg       0.93      0.93      0.93       597\n",
      "weighted avg       0.93      0.93      0.93       597\n",
      "\n"
     ]
    }
   ],
   "source": [
    "print(classification_report(y_test, nb_cvec.predict(test_data_cvec)))"
   ]
  },
  {
   "cell_type": "code",
   "execution_count": 44,
   "metadata": {
    "ExecuteTime": {
     "end_time": "2019-10-24T13:49:12.994377Z",
     "start_time": "2019-10-24T13:49:12.988870Z"
    },
    "scrolled": false
   },
   "outputs": [
    {
     "name": "stdout",
     "output_type": "stream",
     "text": [
      "Accuracy = 0.931\n",
      "Misclassification Rate = 0.069\n",
      "Sensitivity = 0.933\n",
      "Specificity = 0.93\n",
      "Precision = 0.93\n"
     ]
    }
   ],
   "source": [
    "print(f'Accuracy = {round((tp + tn) /(tn+ fp+ fn+ tp),3)}')\n",
    "print(f'Misclassification Rate = {round((fp + fn) /(tn+ fp+ fn+ tp),3)}')\n",
    "print(f'Sensitivity = {round(tp /(fn+ tp),3)}')\n",
    "print(f'Specificity = {round(tn /(fp+ tn),3)}')\n",
    "print(f'Precision = {round(tp /(fp+ tp),3)}')"
   ]
  },
  {
   "cell_type": "markdown",
   "metadata": {},
   "source": [
    "**6.9% of the posts are misclassified and 93.1% of the post are correctly labelled. Due to the nature of the posts, False positive and False negative are equally bad. It may invite unneccesary comments.**"
   ]
  },
  {
   "cell_type": "markdown",
   "metadata": {},
   "source": [
    "### Receiver Operating Characteristic Curve"
   ]
  },
  {
   "cell_type": "markdown",
   "metadata": {},
   "source": [
    "**Ploting the ROC curve to see how the model performs compared to baseline model.**"
   ]
  },
  {
   "cell_type": "code",
   "execution_count": 45,
   "metadata": {
    "ExecuteTime": {
     "end_time": "2019-10-24T13:49:13.011339Z",
     "start_time": "2019-10-24T13:49:12.997467Z"
    }
   },
   "outputs": [],
   "source": [
    "pred_proba_cvec = [i[1] for i in nb_cvec.predict_proba(test_data_cvec)]\n",
    "\n",
    "pred_df_cvec = pd.DataFrame({'true_values': y_test, # Creating Dataframe to store all the true y\n",
    "                        'pred_probs':pred_proba_cvec})"
   ]
  },
  {
   "cell_type": "code",
   "execution_count": 46,
   "metadata": {
    "ExecuteTime": {
     "end_time": "2019-10-24T13:49:13.019951Z",
     "start_time": "2019-10-24T13:49:13.013681Z"
    }
   },
   "outputs": [
    {
     "name": "stdout",
     "output_type": "stream",
     "text": [
      "0.9738950865300442\n"
     ]
    }
   ],
   "source": [
    "print(roc_auc_score(y_test,pred_proba_cvec)) ## Area Under the ROC Curve"
   ]
  },
  {
   "cell_type": "code",
   "execution_count": 47,
   "metadata": {
    "ExecuteTime": {
     "end_time": "2019-10-24T13:49:14.100665Z",
     "start_time": "2019-10-24T13:49:13.022168Z"
    },
    "scrolled": false
   },
   "outputs": [
    {
     "data": {
      "image/png": "[encoded data removed]",
      "text/plain": [
       "<Figure size 720x504 with 1 Axes>"
      ]
     },
     "metadata": {
      "needs_background": "light"
     },
     "output_type": "display_data"
    }
   ],
   "source": [
    "# Create figure.\n",
    "plt.figure(figsize = (10,7))\n",
    "\n",
    "# Create threshold values.\n",
    "thresholds = np.linspace(0, 1, 200)\n",
    "\n",
    "# Define function to calculate sensitivity. (True positive rate.)\n",
    "def TPR(df, true_col, pred_prob_col, threshold):\n",
    "    true_positive = df[(df[true_col] == 1) & (df[pred_prob_col] > threshold)].shape[0]\n",
    "    false_negative = df[(df[true_col] == 1) & (df[pred_prob_col] < threshold)].shape[0]\n",
    "    return true_positive / (true_positive + false_negative)\n",
    "\n",
    "# Define function to calculate 1 - specificity. (False positive rate.)\n",
    "def FPR(df, true_col, pred_prob_col, threshold):\n",
    "    true_negative = df[(df[true_col] == 0) & (df[pred_prob_col] <= threshold)].shape[0]\n",
    "    false_positive = df[(df[true_col] == 0) & (df[pred_prob_col] > threshold)].shape[0]\n",
    "    return 1 - (true_negative / (true_negative + false_positive))\n",
    "    \n",
    "# Calculate sensitivity & 1-specificity for each threshold between 0 and 1.\n",
    "tpr_values_nb_cvec = [TPR(pred_df_cvec, 'true_values', 'pred_probs', prob) for prob in thresholds]\n",
    "fpr_values_nb_cvec = [FPR(pred_df_cvec, 'true_values', 'pred_probs', prob) for prob in thresholds]\n",
    "\n",
    "# Plot ROC curve.\n",
    "plt.plot(fpr_values_nb_cvec, # False Positive Rate on X-axis\n",
    "         tpr_values_nb_cvec, # True Positive Rate on Y-axis\n",
    "         label='ROC Curve')\n",
    "\n",
    "# Plot baseline. (Perfect overlap between the two populations.)\n",
    "plt.plot(np.linspace(0, 1, 200),\n",
    "         np.linspace(0, 1, 200),\n",
    "         label='baseline',\n",
    "         linestyle='--')\n",
    "\n",
    "# Label axes.\n",
    "plt.title('Receiver Operating Characteristic Curve', fontsize=22)\n",
    "plt.ylabel('Sensitivity', fontsize=18)\n",
    "plt.xlabel('1 - Specificity', fontsize=18)\n",
    "\n",
    "# Create legend.\n",
    "plt.legend(fontsize=16);"
   ]
  },
  {
   "cell_type": "markdown",
   "metadata": {},
   "source": [
    "**We can see that the model is performing better than the baseline model. The ROC curve shows the trade-off between sensitivity (or TPR) and specificity (1 – FPR). Classifiers that give curves closer to the top-left corner indicate a better performance.**"
   ]
  },
  {
   "cell_type": "markdown",
   "metadata": {},
   "source": [
    "#### Top 20 words"
   ]
  },
  {
   "cell_type": "code",
   "execution_count": 48,
   "metadata": {
    "ExecuteTime": {
     "end_time": "2019-10-24T13:49:14.370702Z",
     "start_time": "2019-10-24T13:49:14.103057Z"
    },
    "scrolled": true
   },
   "outputs": [
    {
     "data": {
      "text/plain": [
       "<matplotlib.axes._subplots.AxesSubplot at 0x1a1d575a90>"
      ]
     },
     "execution_count": 48,
     "metadata": {},
     "output_type": "execute_result"
    },
    {
     "data": {
      "image/png": "[encoded data removed]",
      "text/plain": [
       "<Figure size 1008x504 with 1 Axes>"
      ]
     },
     "metadata": {
      "needs_background": "light"
     },
     "output_type": "display_data"
    }
   ],
   "source": [
    "wordslen=train_data_cvec.sum(axis=0)\n",
    "features=cvec.get_feature_names()\n",
    "data=pd.DataFrame(np.squeeze(np.asarray(wordslen)),index=features)\n",
    "data.sort_values(by=0,ascending=False).head(20).plot(kind='barh',figsize=(14,7))"
   ]
  },
  {
   "cell_type": "markdown",
   "metadata": {},
   "source": [
    "**The top 20 words collected by CountVectoiser in the data are as above.**"
   ]
  },
  {
   "cell_type": "markdown",
   "metadata": {},
   "source": [
    "## TfidfVectorizer path"
   ]
  },
  {
   "cell_type": "markdown",
   "metadata": {},
   "source": [
    "Term Frequency-Inverse Document Frequency (TF-IDF) tokenize documents and highlight words that are more rare. Scores assigned to each word, with rarer words more weight. This return encoded document vectors which will be fed through the models."
   ]
  },
  {
   "cell_type": "markdown",
   "metadata": {},
   "source": [
    "### Tokenize Data"
   ]
  },
  {
   "cell_type": "code",
   "execution_count": 49,
   "metadata": {
    "ExecuteTime": {
     "end_time": "2019-10-24T13:49:14.375259Z",
     "start_time": "2019-10-24T13:49:14.372860Z"
    }
   },
   "outputs": [],
   "source": [
    "tvec = TfidfVectorizer() #instantiate model"
   ]
  },
  {
   "cell_type": "code",
   "execution_count": 50,
   "metadata": {
    "ExecuteTime": {
     "end_time": "2019-10-24T13:49:14.509838Z",
     "start_time": "2019-10-24T13:49:14.377215Z"
    }
   },
   "outputs": [
    {
     "data": {
      "text/plain": [
       "TfidfVectorizer(analyzer='word', binary=False, decode_error='strict',\n",
       "                dtype=<class 'numpy.float64'>, encoding='utf-8',\n",
       "                input='content', lowercase=True, max_df=1.0, max_features=None,\n",
       "                min_df=1, ngram_range=(1, 1), norm='l2', preprocessor=None,\n",
       "                smooth_idf=True, stop_words=None, strip_accents=None,\n",
       "                sublinear_tf=False, token_pattern='(?u)\\\\b\\\\w\\\\w+\\\\b',\n",
       "                tokenizer=None, use_idf=True, vocabulary=None)"
      ]
     },
     "execution_count": 50,
     "metadata": {},
     "output_type": "execute_result"
    }
   ],
   "source": [
    "tvec.fit(clean_train) # fit model to training data first"
   ]
  },
  {
   "cell_type": "code",
   "execution_count": 51,
   "metadata": {
    "ExecuteTime": {
     "end_time": "2019-10-24T13:49:14.727916Z",
     "start_time": "2019-10-24T13:49:14.511897Z"
    }
   },
   "outputs": [],
   "source": [
    "train_data_tvec=tvec.transform(clean_train) #transform clean data\n",
    "test_data_tvec=tvec.transform(clean_test) #transform test data\n",
    "train_data_tvec=train_data_tvec.todense() # The matrix is sparse. Sparse matrices can cause problems with regards to space and time complexity. Todense() helps store the data more efficiently\n",
    "test_data_tvec=test_data_tvec.todense() #Todense() helps store the data more efficiently"
   ]
  },
  {
   "cell_type": "markdown",
   "metadata": {},
   "source": [
    "### Cross Validation"
   ]
  },
  {
   "cell_type": "code",
   "execution_count": 52,
   "metadata": {
    "ExecuteTime": {
     "end_time": "2019-10-24T13:50:48.294233Z",
     "start_time": "2019-10-24T13:49:14.729864Z"
    },
    "scrolled": true
   },
   "outputs": [
    {
     "name": "stderr",
     "output_type": "stream",
     "text": [
      "/Users/jiaxing/anaconda3/lib/python3.7/site-packages/sklearn/linear_model/logistic.py:432: FutureWarning: Default solver will be changed to 'lbfgs' in 0.22. Specify a solver to silence this warning.\n",
      "  FutureWarning)\n",
      "/Users/jiaxing/anaconda3/lib/python3.7/site-packages/sklearn/linear_model/logistic.py:432: FutureWarning: Default solver will be changed to 'lbfgs' in 0.22. Specify a solver to silence this warning.\n",
      "  FutureWarning)\n",
      "/Users/jiaxing/anaconda3/lib/python3.7/site-packages/sklearn/linear_model/logistic.py:432: FutureWarning: Default solver will be changed to 'lbfgs' in 0.22. Specify a solver to silence this warning.\n",
      "  FutureWarning)\n",
      "/Users/jiaxing/anaconda3/lib/python3.7/site-packages/sklearn/linear_model/logistic.py:432: FutureWarning: Default solver will be changed to 'lbfgs' in 0.22. Specify a solver to silence this warning.\n",
      "  FutureWarning)\n",
      "/Users/jiaxing/anaconda3/lib/python3.7/site-packages/sklearn/linear_model/logistic.py:432: FutureWarning: Default solver will be changed to 'lbfgs' in 0.22. Specify a solver to silence this warning.\n",
      "  FutureWarning)\n",
      "/Users/jiaxing/anaconda3/lib/python3.7/site-packages/sklearn/linear_model/logistic.py:432: FutureWarning: Default solver will be changed to 'lbfgs' in 0.22. Specify a solver to silence this warning.\n",
      "  FutureWarning)\n",
      "/Users/jiaxing/anaconda3/lib/python3.7/site-packages/sklearn/linear_model/logistic.py:432: FutureWarning: Default solver will be changed to 'lbfgs' in 0.22. Specify a solver to silence this warning.\n",
      "  FutureWarning)\n",
      "/Users/jiaxing/anaconda3/lib/python3.7/site-packages/sklearn/linear_model/logistic.py:432: FutureWarning: Default solver will be changed to 'lbfgs' in 0.22. Specify a solver to silence this warning.\n",
      "  FutureWarning)\n",
      "/Users/jiaxing/anaconda3/lib/python3.7/site-packages/sklearn/linear_model/logistic.py:432: FutureWarning: Default solver will be changed to 'lbfgs' in 0.22. Specify a solver to silence this warning.\n",
      "  FutureWarning)\n",
      "/Users/jiaxing/anaconda3/lib/python3.7/site-packages/sklearn/linear_model/logistic.py:432: FutureWarning: Default solver will be changed to 'lbfgs' in 0.22. Specify a solver to silence this warning.\n",
      "  FutureWarning)\n"
     ]
    },
    {
     "name": "stdout",
     "output_type": "stream",
     "text": [
      "0.9124134232986283\n",
      "0.9045771333243963\n",
      "0.7372603780329774\n",
      "0.8571660187378048\n"
     ]
    }
   ],
   "source": [
    "print(cross_val_score(lr,train_data_tvec,y_train,cv=10).mean())\n",
    "print(cross_val_score(nb,train_data_tvec,y_train,cv=10).mean())\n",
    "print(cross_val_score(gb,train_data_tvec,y_train,cv=10).mean())\n",
    "print(cross_val_score(ada,train_data_tvec,y_train,cv=10).mean())"
   ]
  },
  {
   "cell_type": "markdown",
   "metadata": {},
   "source": [
    "**Logresstic regression produces the best accuracy. This model will be further scored on the training data and testing data.**"
   ]
  },
  {
   "cell_type": "code",
   "execution_count": 53,
   "metadata": {
    "ExecuteTime": {
     "end_time": "2019-10-24T13:50:48.339488Z",
     "start_time": "2019-10-24T13:50:48.296584Z"
    }
   },
   "outputs": [
    {
     "name": "stderr",
     "output_type": "stream",
     "text": [
      "/Users/jiaxing/anaconda3/lib/python3.7/site-packages/sklearn/linear_model/logistic.py:432: FutureWarning: Default solver will be changed to 'lbfgs' in 0.22. Specify a solver to silence this warning.\n",
      "  FutureWarning)\n"
     ]
    },
    {
     "data": {
      "text/plain": [
       "0.9791816223977028"
      ]
     },
     "execution_count": 53,
     "metadata": {},
     "output_type": "execute_result"
    }
   ],
   "source": [
    "lr.fit(train_data_tvec,y_train) \n",
    "lr.score(train_data_tvec,y_train)"
   ]
  },
  {
   "cell_type": "code",
   "execution_count": 54,
   "metadata": {
    "ExecuteTime": {
     "end_time": "2019-10-24T13:50:48.353324Z",
     "start_time": "2019-10-24T13:50:48.341691Z"
    }
   },
   "outputs": [
    {
     "data": {
      "text/plain": [
       "0.9195979899497487"
      ]
     },
     "execution_count": 54,
     "metadata": {},
     "output_type": "execute_result"
    }
   ],
   "source": [
    "lr.score(test_data_tvec,y_test)"
   ]
  },
  {
   "cell_type": "markdown",
   "metadata": {},
   "source": [
    "**The accuracy is high but the model is overfit to the training data. Accuracy is similar but lower than first model. Girdsearch to be performed to find the optimal parameters.**"
   ]
  },
  {
   "cell_type": "markdown",
   "metadata": {},
   "source": [
    "### Gridsearch"
   ]
  },
  {
   "cell_type": "code",
   "execution_count": 55,
   "metadata": {
    "ExecuteTime": {
     "end_time": "2019-10-24T13:50:48.362202Z",
     "start_time": "2019-10-24T13:50:48.356016Z"
    }
   },
   "outputs": [],
   "source": [
    "pipe_tvec = Pipeline([\n",
    "    ('tvec', TfidfVectorizer()),\n",
    "    ('lr', LogisticRegression()),\n",
    "])\n",
    "pipe_params = {\n",
    "    'tvec__max_features': [2500, 3000, 4000, 4500],\n",
    "    'tvec__ngram_range': [(1,1), (1,2), (1,3)],\n",
    "    'lr__C': np.linspace(3.5, 4.5, 5)\n",
    "}\n",
    "gs_tvec = GridSearchCV(pipe_tvec, param_grid=pipe_params, cv=10, n_jobs=-1)"
   ]
  },
  {
   "cell_type": "code",
   "execution_count": 56,
   "metadata": {
    "ExecuteTime": {
     "end_time": "2019-10-24T13:51:58.855363Z",
     "start_time": "2019-10-24T13:50:48.366189Z"
    },
    "scrolled": true
   },
   "outputs": [
    {
     "name": "stderr",
     "output_type": "stream",
     "text": [
      "/Users/jiaxing/anaconda3/lib/python3.7/site-packages/sklearn/linear_model/logistic.py:432: FutureWarning: Default solver will be changed to 'lbfgs' in 0.22. Specify a solver to silence this warning.\n",
      "  FutureWarning)\n"
     ]
    },
    {
     "data": {
      "text/plain": [
       "GridSearchCV(cv=10, error_score='raise-deprecating',\n",
       "             estimator=Pipeline(memory=None,\n",
       "                                steps=[('tvec',\n",
       "                                        TfidfVectorizer(analyzer='word',\n",
       "                                                        binary=False,\n",
       "                                                        decode_error='strict',\n",
       "                                                        dtype=<class 'numpy.float64'>,\n",
       "                                                        encoding='utf-8',\n",
       "                                                        input='content',\n",
       "                                                        lowercase=True,\n",
       "                                                        max_df=1.0,\n",
       "                                                        max_features=None,\n",
       "                                                        min_df=1,\n",
       "                                                        ngram_range=(1, 1),\n",
       "                                                        norm='l2',\n",
       "                                                        preprocessor=None,\n",
       "                                                        smooth_idf=True,\n",
       "                                                        stop_word...\n",
       "                                                           n_jobs=None,\n",
       "                                                           penalty='l2',\n",
       "                                                           random_state=None,\n",
       "                                                           solver='warn',\n",
       "                                                           tol=0.0001,\n",
       "                                                           verbose=0,\n",
       "                                                           warm_start=False))],\n",
       "                                verbose=False),\n",
       "             iid='warn', n_jobs=-1,\n",
       "             param_grid={'lr__C': array([3.5 , 3.75, 4.  , 4.25, 4.5 ]),\n",
       "                         'tvec__max_features': [2500, 3000, 4000, 4500],\n",
       "                         'tvec__ngram_range': [(1, 1), (1, 2), (1, 3)]},\n",
       "             pre_dispatch='2*n_jobs', refit=True, return_train_score=False,\n",
       "             scoring=None, verbose=0)"
      ]
     },
     "execution_count": 56,
     "metadata": {},
     "output_type": "execute_result"
    }
   ],
   "source": [
    "gs_tvec.fit(clean_train,y_train)"
   ]
  },
  {
   "cell_type": "code",
   "execution_count": 57,
   "metadata": {
    "ExecuteTime": {
     "end_time": "2019-10-24T13:51:58.860588Z",
     "start_time": "2019-10-24T13:51:58.857684Z"
    },
    "scrolled": true
   },
   "outputs": [
    {
     "name": "stdout",
     "output_type": "stream",
     "text": [
      "{'lr__C': 3.5, 'tvec__max_features': 3000, 'tvec__ngram_range': (1, 2)}\n",
      "0.9203158650394831\n"
     ]
    }
   ],
   "source": [
    "print(gs_tvec.best_params_)\n",
    "print(gs_tvec.best_score_)"
   ]
  },
  {
   "cell_type": "markdown",
   "metadata": {},
   "source": [
    "### Final Model with TF-IDF"
   ]
  },
  {
   "cell_type": "code",
   "execution_count": 58,
   "metadata": {
    "ExecuteTime": {
     "end_time": "2019-10-24T13:51:58.865005Z",
     "start_time": "2019-10-24T13:51:58.862391Z"
    }
   },
   "outputs": [],
   "source": [
    "tvec = TfidfVectorizer(max_features=3000, ngram_range=(1,2)) #instantiate new model"
   ]
  },
  {
   "cell_type": "code",
   "execution_count": 59,
   "metadata": {
    "ExecuteTime": {
     "end_time": "2019-10-24T13:51:59.329948Z",
     "start_time": "2019-10-24T13:51:58.867132Z"
    }
   },
   "outputs": [
    {
     "data": {
      "text/plain": [
       "TfidfVectorizer(analyzer='word', binary=False, decode_error='strict',\n",
       "                dtype=<class 'numpy.float64'>, encoding='utf-8',\n",
       "                input='content', lowercase=True, max_df=1.0, max_features=3000,\n",
       "                min_df=1, ngram_range=(1, 2), norm='l2', preprocessor=None,\n",
       "                smooth_idf=True, stop_words=None, strip_accents=None,\n",
       "                sublinear_tf=False, token_pattern='(?u)\\\\b\\\\w\\\\w+\\\\b',\n",
       "                tokenizer=None, use_idf=True, vocabulary=None)"
      ]
     },
     "execution_count": 59,
     "metadata": {},
     "output_type": "execute_result"
    }
   ],
   "source": [
    "tvec.fit(clean_train) # fit model to training data first"
   ]
  },
  {
   "cell_type": "code",
   "execution_count": 60,
   "metadata": {
    "ExecuteTime": {
     "end_time": "2019-10-24T13:51:59.619571Z",
     "start_time": "2019-10-24T13:51:59.331867Z"
    }
   },
   "outputs": [],
   "source": [
    "train_data_tvec=tvec.transform(clean_train) #transform clean data\n",
    "test_data_tvec=tvec.transform(clean_test) #transform test data\n",
    "train_data_tvec=train_data_tvec.todense() # The matrix is sparse. Sparse matrices can cause problems with regards to space and time complexity.\n",
    "test_data_tvec=test_data_tvec.todense() #Todense() helps store the data more efficiently"
   ]
  },
  {
   "cell_type": "code",
   "execution_count": 61,
   "metadata": {
    "ExecuteTime": {
     "end_time": "2019-10-24T13:51:59.644916Z",
     "start_time": "2019-10-24T13:51:59.621459Z"
    }
   },
   "outputs": [
    {
     "name": "stderr",
     "output_type": "stream",
     "text": [
      "/Users/jiaxing/anaconda3/lib/python3.7/site-packages/sklearn/linear_model/logistic.py:432: FutureWarning: Default solver will be changed to 'lbfgs' in 0.22. Specify a solver to silence this warning.\n",
      "  FutureWarning)\n"
     ]
    },
    {
     "data": {
      "text/plain": [
       "0.9928212491026561"
      ]
     },
     "execution_count": 61,
     "metadata": {},
     "output_type": "execute_result"
    }
   ],
   "source": [
    "lr_tvec=LogisticRegression(C=3.5)\n",
    "lr_tvec.fit(train_data_tvec,y_train) \n",
    "lr_tvec.score(train_data_tvec,y_train)"
   ]
  },
  {
   "cell_type": "code",
   "execution_count": 62,
   "metadata": {
    "ExecuteTime": {
     "end_time": "2019-10-24T13:51:59.653753Z",
     "start_time": "2019-10-24T13:51:59.646910Z"
    },
    "scrolled": true
   },
   "outputs": [
    {
     "data": {
      "text/plain": [
       "0.9413735343383585"
      ]
     },
     "execution_count": 62,
     "metadata": {},
     "output_type": "execute_result"
    }
   ],
   "source": [
    "lr_tvec.score(test_data_tvec,y_test)"
   ]
  },
  {
   "cell_type": "code",
   "execution_count": 63,
   "metadata": {
    "ExecuteTime": {
     "end_time": "2019-10-24T13:51:59.661651Z",
     "start_time": "2019-10-24T13:51:59.655810Z"
    },
    "scrolled": true
   },
   "outputs": [],
   "source": [
    "tn, fp, fn, tp =confusion_matrix(y_test, \n",
    "                 lr_tvec.predict(test_data_tvec)).ravel()"
   ]
  },
  {
   "cell_type": "code",
   "execution_count": 64,
   "metadata": {
    "ExecuteTime": {
     "end_time": "2019-10-24T13:51:59.672581Z",
     "start_time": "2019-10-24T13:51:59.663647Z"
    },
    "scrolled": false
   },
   "outputs": [
    {
     "name": "stdout",
     "output_type": "stream",
     "text": [
      "              precision    recall  f1-score   support\n",
      "\n",
      "           0       0.95      0.93      0.94       299\n",
      "           1       0.93      0.95      0.94       298\n",
      "\n",
      "    accuracy                           0.94       597\n",
      "   macro avg       0.94      0.94      0.94       597\n",
      "weighted avg       0.94      0.94      0.94       597\n",
      "\n"
     ]
    }
   ],
   "source": [
    "print(classification_report(y_test, lr_tvec.predict(test_data_tvec)))"
   ]
  },
  {
   "cell_type": "code",
   "execution_count": 65,
   "metadata": {
    "ExecuteTime": {
     "end_time": "2019-10-24T13:51:59.679170Z",
     "start_time": "2019-10-24T13:51:59.674661Z"
    },
    "scrolled": true
   },
   "outputs": [
    {
     "name": "stdout",
     "output_type": "stream",
     "text": [
      "Accuracy = 0.941\n",
      "Misclassification Rate = 0.059\n",
      "Sensitivity = 0.95\n",
      "Specificity = 0.933\n",
      "Precision = 0.934\n"
     ]
    }
   ],
   "source": [
    "print(f'Accuracy = {round((tp + tn) /(tn+ fp+ fn+ tp),3)}')\n",
    "print(f'Misclassification Rate = {round((fp + fn) /(tn+ fp+ fn+ tp),3)}')\n",
    "print(f'Sensitivity = {round(tp /(fn+ tp),3)}')\n",
    "print(f'Specificity = {round(tn /(fp+ tn),3)}')\n",
    "print(f'Precision = {round(tp /(fp+ tp),3)}')"
   ]
  },
  {
   "cell_type": "markdown",
   "metadata": {},
   "source": [
    "##### 5.9% of the posts are misclassified and 94.1% of the post are correctly labelled. Due to the nature of the posts, False positive and False negative are equally bad. It may invite unneccesary comments."
   ]
  },
  {
   "cell_type": "markdown",
   "metadata": {},
   "source": [
    "### Receiver Operating Characteristic Curve"
   ]
  },
  {
   "cell_type": "code",
   "execution_count": 66,
   "metadata": {
    "ExecuteTime": {
     "end_time": "2019-10-24T13:51:59.687476Z",
     "start_time": "2019-10-24T13:51:59.681285Z"
    }
   },
   "outputs": [],
   "source": [
    "pred_proba_tvec = [i[1] for i in lr_tvec.predict_proba(test_data_tvec)]\n",
    "\n",
    "pred_df_tvec = pd.DataFrame({'true_values': y_test,\n",
    "                        'pred_probs':pred_proba_tvec})"
   ]
  },
  {
   "cell_type": "code",
   "execution_count": null,
   "metadata": {
    "ExecuteTime": {
     "end_time": "2019-10-24T14:22:22.196622Z",
     "start_time": "2019-10-24T14:21:42.330Z"
    }
   },
   "outputs": [],
   "source": [
    "print(roc_auc_score(y_test,pred_proba_tvec)) ## Area Under the ROC Curve"
   ]
  },
  {
   "cell_type": "code",
   "execution_count": 67,
   "metadata": {
    "ExecuteTime": {
     "end_time": "2019-10-24T13:52:00.585738Z",
     "start_time": "2019-10-24T13:51:59.689548Z"
    },
    "scrolled": false
   },
   "outputs": [
    {
     "data": {
      "image/png": "[encoded data removed]",
      "text/plain": [
       "<Figure size 720x504 with 1 Axes>"
      ]
     },
     "metadata": {
      "needs_background": "light"
     },
     "output_type": "display_data"
    }
   ],
   "source": [
    "# Create figure.\n",
    "plt.figure(figsize = (10,7))\n",
    "\n",
    "# Create threshold values.\n",
    "thresholds = np.linspace(0, 1, 200)\n",
    "\n",
    "# Define function to calculate sensitivity. (True positive rate.)\n",
    "def TPR(df, true_col, pred_prob_col, threshold):\n",
    "    true_positive = df[(df[true_col] == 1) & (df[pred_prob_col] >= threshold)].shape[0]\n",
    "    false_negative = df[(df[true_col] == 1) & (df[pred_prob_col] < threshold)].shape[0]\n",
    "    return true_positive / (true_positive + false_negative)\n",
    "\n",
    "# Define function to calculate 1 - specificity. (False positive rate.)\n",
    "def FPR(df, true_col, pred_prob_col, threshold):\n",
    "    true_negative = df[(df[true_col] == 0) & (df[pred_prob_col] <= threshold)].shape[0]\n",
    "    false_positive = df[(df[true_col] == 0) & (df[pred_prob_col] > threshold)].shape[0]\n",
    "    return 1 - (true_negative / (true_negative + false_positive))\n",
    "    \n",
    "# Calculate sensitivity & 1-specificity for each threshold between 0 and 1.\n",
    "tpr_values_lr_tvec = [TPR(pred_df_tvec, 'true_values', 'pred_probs', prob) for prob in thresholds]\n",
    "fpr_values_lr_tvec = [FPR(pred_df_tvec, 'true_values', 'pred_probs', prob) for prob in thresholds]\n",
    "\n",
    "# Plot ROC curve.\n",
    "plt.plot(fpr_values_lr_tvec, # False Positive Rate on X-axis\n",
    "         tpr_values_lr_tvec, # True Positive Rate on Y-axis\n",
    "         label='ROC Curve')\n",
    "\n",
    "# Plot baseline. (Perfect overlap between the two populations.)\n",
    "plt.plot(np.linspace(0, 1, 200),\n",
    "         np.linspace(0, 1, 200),\n",
    "         label='baseline',\n",
    "         linestyle='--')\n",
    "\n",
    "# Label axes.\n",
    "plt.title('Receiver Operating Characteristic Curve', fontsize=22)\n",
    "plt.ylabel('Sensitivity', fontsize=18)\n",
    "plt.xlabel('1 - Specificity', fontsize=18)\n",
    "\n",
    "# Create legend.\n",
    "plt.legend(fontsize=16);"
   ]
  },
  {
   "cell_type": "markdown",
   "metadata": {},
   "source": [
    "**We can see that the model is performing better than the baseline model.**"
   ]
  },
  {
   "cell_type": "markdown",
   "metadata": {},
   "source": [
    "## HashingVectorizer path"
   ]
  },
  {
   "cell_type": "markdown",
   "metadata": {},
   "source": [
    "HashingVectorizer hash words, converts them to integars then tokenize and encode documents as needed."
   ]
  },
  {
   "cell_type": "markdown",
   "metadata": {},
   "source": [
    "### Tokenize Data"
   ]
  },
  {
   "cell_type": "code",
   "execution_count": 68,
   "metadata": {
    "ExecuteTime": {
     "end_time": "2019-10-24T13:52:00.603289Z",
     "start_time": "2019-10-24T13:52:00.601156Z"
    }
   },
   "outputs": [],
   "source": [
    "hvec =HashingVectorizer(alternate_sign=False)# instantiate model"
   ]
  },
  {
   "cell_type": "code",
   "execution_count": 69,
   "metadata": {
    "ExecuteTime": {
     "end_time": "2019-10-24T13:52:00.615743Z",
     "start_time": "2019-10-24T13:52:00.611708Z"
    }
   },
   "outputs": [
    {
     "data": {
      "text/plain": [
       "HashingVectorizer(alternate_sign=False, analyzer='word', binary=False,\n",
       "                  decode_error='strict', dtype=<class 'numpy.float64'>,\n",
       "                  encoding='utf-8', input='content', lowercase=True,\n",
       "                  n_features=1048576, ngram_range=(1, 1), norm='l2',\n",
       "                  preprocessor=None, stop_words=None, strip_accents=None,\n",
       "                  token_pattern='(?u)\\\\b\\\\w\\\\w+\\\\b', tokenizer=None)"
      ]
     },
     "execution_count": 69,
     "metadata": {},
     "output_type": "execute_result"
    }
   ],
   "source": [
    "hvec.fit(clean_train)"
   ]
  },
  {
   "cell_type": "code",
   "execution_count": 70,
   "metadata": {
    "ExecuteTime": {
     "end_time": "2019-10-24T13:52:01.015802Z",
     "start_time": "2019-10-24T13:52:00.617685Z"
    }
   },
   "outputs": [],
   "source": [
    "train_data_hvec=hvec.transform(clean_train)\n",
    "test_data_hvec=hvec.transform(clean_test)\n",
    "train_data_hvec=train_data_hvec.todense()\n",
    "test_data_hvec=test_data_hvec.todense()"
   ]
  },
  {
   "cell_type": "markdown",
   "metadata": {},
   "source": [
    "### Cross Validation"
   ]
  },
  {
   "cell_type": "code",
   "execution_count": 233,
   "metadata": {
    "ExecuteTime": {
     "end_time": "2019-10-24T15:11:42.383002Z",
     "start_time": "2019-10-24T15:10:39.263393Z"
    },
    "scrolled": false
   },
   "outputs": [
    {
     "name": "stderr",
     "output_type": "stream",
     "text": [
      "/Users/jiaxing/anaconda3/lib/python3.7/site-packages/sklearn/linear_model/logistic.py:432: FutureWarning: Default solver will be changed to 'lbfgs' in 0.22. Specify a solver to silence this warning.\n",
      "  FutureWarning)\n",
      "/Users/jiaxing/anaconda3/lib/python3.7/site-packages/sklearn/linear_model/logistic.py:432: FutureWarning: Default solver will be changed to 'lbfgs' in 0.22. Specify a solver to silence this warning.\n",
      "  FutureWarning)\n",
      "/Users/jiaxing/anaconda3/lib/python3.7/site-packages/sklearn/linear_model/logistic.py:432: FutureWarning: Default solver will be changed to 'lbfgs' in 0.22. Specify a solver to silence this warning.\n",
      "  FutureWarning)\n",
      "/Users/jiaxing/anaconda3/lib/python3.7/site-packages/sklearn/linear_model/logistic.py:432: FutureWarning: Default solver will be changed to 'lbfgs' in 0.22. Specify a solver to silence this warning.\n",
      "  FutureWarning)\n",
      "/Users/jiaxing/anaconda3/lib/python3.7/site-packages/sklearn/linear_model/logistic.py:432: FutureWarning: Default solver will be changed to 'lbfgs' in 0.22. Specify a solver to silence this warning.\n",
      "  FutureWarning)\n",
      "/Users/jiaxing/anaconda3/lib/python3.7/site-packages/sklearn/linear_model/logistic.py:432: FutureWarning: Default solver will be changed to 'lbfgs' in 0.22. Specify a solver to silence this warning.\n",
      "  FutureWarning)\n",
      "/Users/jiaxing/anaconda3/lib/python3.7/site-packages/sklearn/linear_model/logistic.py:432: FutureWarning: Default solver will be changed to 'lbfgs' in 0.22. Specify a solver to silence this warning.\n",
      "  FutureWarning)\n",
      "/Users/jiaxing/anaconda3/lib/python3.7/site-packages/sklearn/linear_model/logistic.py:432: FutureWarning: Default solver will be changed to 'lbfgs' in 0.22. Specify a solver to silence this warning.\n",
      "  FutureWarning)\n",
      "/Users/jiaxing/anaconda3/lib/python3.7/site-packages/sklearn/linear_model/logistic.py:432: FutureWarning: Default solver will be changed to 'lbfgs' in 0.22. Specify a solver to silence this warning.\n",
      "  FutureWarning)\n",
      "/Users/jiaxing/anaconda3/lib/python3.7/site-packages/sklearn/linear_model/logistic.py:432: FutureWarning: Default solver will be changed to 'lbfgs' in 0.22. Specify a solver to silence this warning.\n",
      "  FutureWarning)\n"
     ]
    },
    {
     "name": "stdout",
     "output_type": "stream",
     "text": [
      "0.9023515349211315\n",
      "0.9060055558038043\n",
      "0.7086120916931051\n",
      "0.852854536246779\n"
     ]
    }
   ],
   "source": [
    "print(cross_val_score(lr,train_data_hvec,y_train,cv=10).mean())\n",
    "print(cross_val_score(nb,train_data_hvec,y_train,cv=10).mean())\n",
    "print(cross_val_score(gb,train_data_hvec,y_train,cv=10).mean())\n",
    "print(cross_val_score(ada,train_data_hvec,y_train,cv=10).mean())"
   ]
  },
  {
   "cell_type": "markdown",
   "metadata": {},
   "source": [
    "**MultinomialNB gives the best accuracy. Hence we will deploy MultinomialNB to further test on our train and test data.**"
   ]
  },
  {
   "cell_type": "code",
   "execution_count": 72,
   "metadata": {
    "ExecuteTime": {
     "end_time": "2019-10-24T14:17:54.331125Z",
     "start_time": "2019-10-24T14:17:20.538957Z"
    }
   },
   "outputs": [
    {
     "data": {
      "text/plain": [
       "0.9490308686288585"
      ]
     },
     "execution_count": 72,
     "metadata": {},
     "output_type": "execute_result"
    }
   ],
   "source": [
    "nb.fit(train_data_hvec,y_train)\n",
    "nb.score(train_data_hvec,y_train)"
   ]
  },
  {
   "cell_type": "code",
   "execution_count": 96,
   "metadata": {
    "ExecuteTime": {
     "end_time": "2019-10-24T14:20:07.660405Z",
     "start_time": "2019-10-24T14:20:02.519641Z"
    },
    "scrolled": false
   },
   "outputs": [
    {
     "data": {
      "text/plain": [
       "0.9179229480737019"
      ]
     },
     "execution_count": 96,
     "metadata": {},
     "output_type": "execute_result"
    }
   ],
   "source": [
    "nb.score(test_data_hvec,y_test)"
   ]
  },
  {
   "cell_type": "markdown",
   "metadata": {},
   "source": [
    "**The accuracy is high but the model is overfit to the training data. Accuracy is similar but lower than first model.**"
   ]
  },
  {
   "cell_type": "markdown",
   "metadata": {},
   "source": [
    "### Gridsearch"
   ]
  },
  {
   "cell_type": "code",
   "execution_count": 97,
   "metadata": {
    "ExecuteTime": {
     "end_time": "2019-10-24T14:20:09.641017Z",
     "start_time": "2019-10-24T14:20:09.628052Z"
    }
   },
   "outputs": [],
   "source": [
    "pipe_hvec = Pipeline([\n",
    "    ('hvec', HashingVectorizer(alternate_sign=False)),\n",
    "    ('nb', MultinomialNB()),\n",
    "])\n",
    "pipe_params = {\n",
    "    'hvec__n_features': [5000, 5500, 6000, 6500, 7000, ],\n",
    "    'hvec__ngram_range': [(1,1), (1,2), (1,3)],\n",
    "    'nb__alpha':np.linspace(0.1, 0.15, 5)\n",
    "}\n",
    "gs_hvec = GridSearchCV(pipe_hvec, param_grid=pipe_params, cv=10, n_jobs=-1)"
   ]
  },
  {
   "cell_type": "code",
   "execution_count": 98,
   "metadata": {
    "ExecuteTime": {
     "end_time": "2019-10-24T14:20:51.167445Z",
     "start_time": "2019-10-24T14:20:11.025637Z"
    }
   },
   "outputs": [
    {
     "data": {
      "text/plain": [
       "GridSearchCV(cv=10, error_score='raise-deprecating',\n",
       "             estimator=Pipeline(memory=None,\n",
       "                                steps=[('hvec',\n",
       "                                        HashingVectorizer(alternate_sign=False,\n",
       "                                                          analyzer='word',\n",
       "                                                          binary=False,\n",
       "                                                          decode_error='strict',\n",
       "                                                          dtype=<class 'numpy.float64'>,\n",
       "                                                          encoding='utf-8',\n",
       "                                                          input='content',\n",
       "                                                          lowercase=True,\n",
       "                                                          n_features=1048576,\n",
       "                                                          ngram_range=(1, 1),\n",
       "                                                          norm='l2',\n",
       "                                                          preprocessor=None,\n",
       "                                                          stop_words=None,\n",
       "                                                          strip...\n",
       "                                                          tokenizer=None)),\n",
       "                                       ('nb',\n",
       "                                        MultinomialNB(alpha=1.0,\n",
       "                                                      class_prior=None,\n",
       "                                                      fit_prior=True))],\n",
       "                                verbose=False),\n",
       "             iid='warn', n_jobs=-1,\n",
       "             param_grid={'hvec__n_features': [5000, 5500, 6000, 6500, 7000],\n",
       "                         'hvec__ngram_range': [(1, 1), (1, 2), (1, 3)],\n",
       "                         'nb__alpha': array([0.1   , 0.1125, 0.125 , 0.1375, 0.15  ])},\n",
       "             pre_dispatch='2*n_jobs', refit=True, return_train_score=False,\n",
       "             scoring=None, verbose=0)"
      ]
     },
     "execution_count": 98,
     "metadata": {},
     "output_type": "execute_result"
    }
   ],
   "source": [
    "gs_hvec.fit(clean_train,y_train)"
   ]
  },
  {
   "cell_type": "code",
   "execution_count": 99,
   "metadata": {
    "ExecuteTime": {
     "end_time": "2019-10-24T14:20:52.619419Z",
     "start_time": "2019-10-24T14:20:52.614719Z"
    },
    "scrolled": true
   },
   "outputs": [
    {
     "name": "stdout",
     "output_type": "stream",
     "text": [
      "{'hvec__n_features': 6500, 'hvec__ngram_range': (1, 1), 'nb__alpha': 0.1}\n",
      "0.914572864321608\n"
     ]
    }
   ],
   "source": [
    "print(gs_hvec.best_params_)\n",
    "print(gs_hvec.best_score_)"
   ]
  },
  {
   "cell_type": "markdown",
   "metadata": {},
   "source": [
    "### Final Model with HashingVectorizer"
   ]
  },
  {
   "cell_type": "code",
   "execution_count": 100,
   "metadata": {
    "ExecuteTime": {
     "end_time": "2019-10-24T14:20:53.987638Z",
     "start_time": "2019-10-24T14:20:53.984870Z"
    }
   },
   "outputs": [],
   "source": [
    "hvec =HashingVectorizer(alternate_sign=False, n_features=6500, ngram_range=(1,1) )# instantiate model"
   ]
  },
  {
   "cell_type": "code",
   "execution_count": 101,
   "metadata": {
    "ExecuteTime": {
     "end_time": "2019-10-24T14:20:55.340265Z",
     "start_time": "2019-10-24T14:20:55.336300Z"
    }
   },
   "outputs": [
    {
     "data": {
      "text/plain": [
       "HashingVectorizer(alternate_sign=False, analyzer='word', binary=False,\n",
       "                  decode_error='strict', dtype=<class 'numpy.float64'>,\n",
       "                  encoding='utf-8', input='content', lowercase=True,\n",
       "                  n_features=6500, ngram_range=(1, 1), norm='l2',\n",
       "                  preprocessor=None, stop_words=None, strip_accents=None,\n",
       "                  token_pattern='(?u)\\\\b\\\\w\\\\w+\\\\b', tokenizer=None)"
      ]
     },
     "execution_count": 101,
     "metadata": {},
     "output_type": "execute_result"
    }
   ],
   "source": [
    "hvec.fit(clean_train)"
   ]
  },
  {
   "cell_type": "code",
   "execution_count": 102,
   "metadata": {
    "ExecuteTime": {
     "end_time": "2019-10-24T14:20:57.248414Z",
     "start_time": "2019-10-24T14:20:56.721572Z"
    }
   },
   "outputs": [],
   "source": [
    "train_data_hvec=hvec.transform(clean_train)\n",
    "test_data_hvec=hvec.transform(clean_test)\n",
    "train_data_hvec=train_data_hvec.todense()\n",
    "test_data_hvec=test_data_hvec.todense()"
   ]
  },
  {
   "cell_type": "code",
   "execution_count": 103,
   "metadata": {
    "ExecuteTime": {
     "end_time": "2019-10-24T14:20:58.606390Z",
     "start_time": "2019-10-24T14:20:58.573574Z"
    }
   },
   "outputs": [
    {
     "data": {
      "text/plain": [
       "0.9662598707824839"
      ]
     },
     "execution_count": 103,
     "metadata": {},
     "output_type": "execute_result"
    }
   ],
   "source": [
    "nb_hvec = MultinomialNB(alpha=0.1)\n",
    "nb_hvec.fit(train_data_hvec,y_train)\n",
    "nb_hvec.score(train_data_hvec,y_train)"
   ]
  },
  {
   "cell_type": "code",
   "execution_count": 104,
   "metadata": {
    "ExecuteTime": {
     "end_time": "2019-10-24T14:20:59.934094Z",
     "start_time": "2019-10-24T14:20:59.923986Z"
    },
    "scrolled": false
   },
   "outputs": [
    {
     "data": {
      "text/plain": [
       "0.9279731993299832"
      ]
     },
     "execution_count": 104,
     "metadata": {},
     "output_type": "execute_result"
    }
   ],
   "source": [
    "nb_hvec.score(test_data_hvec,y_test)"
   ]
  },
  {
   "cell_type": "code",
   "execution_count": 105,
   "metadata": {
    "ExecuteTime": {
     "end_time": "2019-10-24T14:21:01.259133Z",
     "start_time": "2019-10-24T14:21:01.250932Z"
    },
    "scrolled": true
   },
   "outputs": [],
   "source": [
    "tn, fp, fn, tp=confusion_matrix(y_test, \n",
    "                 nb_hvec.predict(test_data_hvec)).ravel()"
   ]
  },
  {
   "cell_type": "code",
   "execution_count": 106,
   "metadata": {
    "ExecuteTime": {
     "end_time": "2019-10-24T14:21:02.591899Z",
     "start_time": "2019-10-24T14:21:02.581356Z"
    },
    "scrolled": true
   },
   "outputs": [
    {
     "name": "stdout",
     "output_type": "stream",
     "text": [
      "              precision    recall  f1-score   support\n",
      "\n",
      "           0       0.93      0.92      0.93       299\n",
      "           1       0.92      0.93      0.93       298\n",
      "\n",
      "    accuracy                           0.93       597\n",
      "   macro avg       0.93      0.93      0.93       597\n",
      "weighted avg       0.93      0.93      0.93       597\n",
      "\n"
     ]
    }
   ],
   "source": [
    "print(classification_report(y_test,nb_hvec.predict(test_data_hvec)))"
   ]
  },
  {
   "cell_type": "code",
   "execution_count": 107,
   "metadata": {
    "ExecuteTime": {
     "end_time": "2019-10-24T14:21:03.927772Z",
     "start_time": "2019-10-24T14:21:03.923882Z"
    }
   },
   "outputs": [
    {
     "name": "stdout",
     "output_type": "stream",
     "text": [
      "Accuracy = 0.928\n",
      "Misclassification Rate = 0.072\n",
      "Sensitivity = 0.933\n",
      "Specificity = 0.923\n",
      "Precision = 0.924\n"
     ]
    }
   ],
   "source": [
    "print(f'Accuracy = {round((tp + tn) /(tn+ fp+ fn+ tp),3)}')\n",
    "print(f'Misclassification Rate = {round((fp + fn) /(tn+ fp+ fn+ tp),3)}')\n",
    "print(f'Sensitivity = {round(tp /(fn+ tp),3)}')\n",
    "print(f'Specificity = {round(tn /(fp+ tn),3)}')\n",
    "print(f'Precision = {round(tp /(fp+ tp),3)}')"
   ]
  },
  {
   "cell_type": "markdown",
   "metadata": {},
   "source": [
    "##### 7.2% of the posts are misclassified and 92.8% of the post are correctly labelled. Due to the nature of the posts, False positive and False negative are equally bad. It may invite unneccesary comments."
   ]
  },
  {
   "cell_type": "markdown",
   "metadata": {},
   "source": [
    "### Receiver Operating Characteristic Curve"
   ]
  },
  {
   "cell_type": "code",
   "execution_count": 108,
   "metadata": {
    "ExecuteTime": {
     "end_time": "2019-10-24T14:21:05.248005Z",
     "start_time": "2019-10-24T14:21:05.238489Z"
    }
   },
   "outputs": [],
   "source": [
    "pred_proba_hvec = [i[1] for i in nb_hvec.predict_proba(test_data_hvec)]\n",
    "\n",
    "pred_df_hvec = pd.DataFrame({'true_values': y_test,\n",
    "                        'pred_probs':pred_proba_hvec})"
   ]
  },
  {
   "cell_type": "code",
   "execution_count": 109,
   "metadata": {
    "ExecuteTime": {
     "end_time": "2019-10-24T14:21:06.585514Z",
     "start_time": "2019-10-24T14:21:06.578692Z"
    }
   },
   "outputs": [
    {
     "name": "stdout",
     "output_type": "stream",
     "text": [
      "0.9757356737222509\n"
     ]
    }
   ],
   "source": [
    "print(roc_auc_score(y_test,pred_proba_hvec)) ## Area Under the ROC Curve"
   ]
  },
  {
   "cell_type": "code",
   "execution_count": 110,
   "metadata": {
    "ExecuteTime": {
     "end_time": "2019-10-24T14:21:08.812902Z",
     "start_time": "2019-10-24T14:21:07.891552Z"
    }
   },
   "outputs": [
    {
     "data": {
      "image/png": "[encoded data removed]",
      "text/plain": [
       "<Figure size 720x504 with 1 Axes>"
      ]
     },
     "metadata": {
      "needs_background": "light"
     },
     "output_type": "display_data"
    }
   ],
   "source": [
    "# Create figure.\n",
    "plt.figure(figsize = (10,7))\n",
    "\n",
    "# Create threshold values.\n",
    "thresholds = np.linspace(0, 1, 200)\n",
    "\n",
    "# Define function to calculate sensitivity. (True positive rate.)\n",
    "def TPR(df, true_col, pred_prob_col, threshold):\n",
    "    true_positive = df[(df[true_col] == 1) & (df[pred_prob_col] >= threshold)].shape[0]\n",
    "    false_negative = df[(df[true_col] == 1) & (df[pred_prob_col] < threshold)].shape[0]\n",
    "    return true_positive / (true_positive + false_negative)\n",
    "\n",
    "# Define function to calculate 1 - specificity. (False positive rate.)\n",
    "def FPR(df, true_col, pred_prob_col, threshold):\n",
    "    true_negative = df[(df[true_col] == 0) & (df[pred_prob_col] <= threshold)].shape[0]\n",
    "    false_positive = df[(df[true_col] == 0) & (df[pred_prob_col] > threshold)].shape[0]\n",
    "    return 1 - (true_negative / (true_negative + false_positive))\n",
    "    \n",
    "# Calculate sensitivity & 1-specificity for each threshold between 0 and 1.\n",
    "tpr_values_nb_hvec = [TPR(pred_df_hvec, 'true_values', 'pred_probs', prob) for prob in thresholds]\n",
    "fpr_values_nb_hvec = [FPR(pred_df_hvec, 'true_values', 'pred_probs', prob) for prob in thresholds]\n",
    "\n",
    "# Plot ROC curve.\n",
    "plt.plot(fpr_values_nb_hvec, # False Positive Rate on X-axis\n",
    "         tpr_values_nb_hvec, # True Positive Rate on Y-axis\n",
    "         label='ROC Curve')\n",
    "\n",
    "# Plot baseline. (Perfect overlap between the two populations.)\n",
    "plt.plot(np.linspace(0, 1, 200),\n",
    "         np.linspace(0, 1, 200),\n",
    "         label='baseline',\n",
    "         linestyle='--')\n",
    "\n",
    "# Label axes.\n",
    "plt.title('Receiver Operating Characteristic Curve', fontsize=22)\n",
    "plt.ylabel('Sensitivity', fontsize=18)\n",
    "plt.xlabel('1 - Specificity', fontsize=18)\n",
    "\n",
    "# Create legend.\n",
    "plt.legend(fontsize=16);"
   ]
  },
  {
   "cell_type": "markdown",
   "metadata": {},
   "source": [
    "We can see that the model is performing better than the baseline model. "
   ]
  },
  {
   "cell_type": "markdown",
   "metadata": {},
   "source": [
    "## Voting Model"
   ]
  },
  {
   "cell_type": "markdown",
   "metadata": {},
   "source": [
    "**Finally I will like to use the voting classifier to see if it will give a better preditcion. As GaussianNB model have not been peforming as compared to the other models. I will only use MultinomialNB, LogisticRegression and AdaBoostClassifier in the voting classifer.**"
   ]
  },
  {
   "cell_type": "markdown",
   "metadata": {},
   "source": [
    "### CountVector VotingClassifier"
   ]
  },
  {
   "cell_type": "markdown",
   "metadata": {},
   "source": [
    "##### As multinomial classifier performs the best with countvector, we will instantiate the model with the optimal alpha for multinomial classifier."
   ]
  },
  {
   "cell_type": "code",
   "execution_count": 111,
   "metadata": {
    "ExecuteTime": {
     "end_time": "2019-10-24T14:21:10.138161Z",
     "start_time": "2019-10-24T14:21:10.133940Z"
    }
   },
   "outputs": [],
   "source": [
    "vote_cvec = VotingClassifier([('nb', MultinomialNB(alpha=2.111111111111111)),\n",
    "                         ('lr', LogisticRegression()),\n",
    "                         ('ada', AdaBoostClassifier()),\n",
    "                        ],voting='soft')"
   ]
  },
  {
   "cell_type": "code",
   "execution_count": 112,
   "metadata": {
    "ExecuteTime": {
     "end_time": "2019-10-24T14:21:14.277050Z",
     "start_time": "2019-10-24T14:21:11.487703Z"
    },
    "scrolled": false
   },
   "outputs": [
    {
     "name": "stderr",
     "output_type": "stream",
     "text": [
      "/Users/jiaxing/anaconda3/lib/python3.7/site-packages/sklearn/linear_model/logistic.py:432: FutureWarning: Default solver will be changed to 'lbfgs' in 0.22. Specify a solver to silence this warning.\n",
      "  FutureWarning)\n"
     ]
    },
    {
     "name": "stdout",
     "output_type": "stream",
     "text": [
      "0.9727207465900933\n",
      "0.9363484087102177\n"
     ]
    }
   ],
   "source": [
    "vote_cvec.fit(train_data_cvec,y_train)\n",
    "print(vote_cvec.score(train_data_cvec,y_train))\n",
    "print(vote_cvec.score(test_data_cvec,y_test))"
   ]
  },
  {
   "cell_type": "markdown",
   "metadata": {},
   "source": [
    "### TF-IDF VotingClassifier"
   ]
  },
  {
   "cell_type": "markdown",
   "metadata": {},
   "source": [
    "##### As LogisticRegression classifier performs the best with TF-IDF, we will instantiate the model with the optimal alpha for multinomial classifier."
   ]
  },
  {
   "cell_type": "code",
   "execution_count": 113,
   "metadata": {
    "ExecuteTime": {
     "end_time": "2019-10-24T14:21:15.661650Z",
     "start_time": "2019-10-24T14:21:15.658940Z"
    }
   },
   "outputs": [],
   "source": [
    "vote_tvec = VotingClassifier([('nb', MultinomialNB()),\n",
    "                         ('lr', LogisticRegression(C=3.5)),\n",
    "                         ('ada', AdaBoostClassifier()),\n",
    "                        ],voting='soft')"
   ]
  },
  {
   "cell_type": "code",
   "execution_count": 114,
   "metadata": {
    "ExecuteTime": {
     "end_time": "2019-10-24T14:21:20.616640Z",
     "start_time": "2019-10-24T14:21:17.055951Z"
    },
    "scrolled": false
   },
   "outputs": [
    {
     "name": "stderr",
     "output_type": "stream",
     "text": [
      "/Users/jiaxing/anaconda3/lib/python3.7/site-packages/sklearn/linear_model/logistic.py:432: FutureWarning: Default solver will be changed to 'lbfgs' in 0.22. Specify a solver to silence this warning.\n",
      "  FutureWarning)\n"
     ]
    },
    {
     "name": "stdout",
     "output_type": "stream",
     "text": [
      "0.9842067480258435\n",
      "0.9363484087102177\n"
     ]
    }
   ],
   "source": [
    "vote_tvec.fit(train_data_tvec,y_train)\n",
    "print(vote_tvec.score(train_data_tvec,y_train))\n",
    "print(vote_tvec.score(test_data_tvec,y_test))"
   ]
  },
  {
   "cell_type": "markdown",
   "metadata": {},
   "source": [
    "### HashingVector VotingClassifier"
   ]
  },
  {
   "cell_type": "markdown",
   "metadata": {},
   "source": [
    "##### As multinomial classifier performs the best with Hashingvector, we will instantiate the model with the optimal alpha for multinomial classifier."
   ]
  },
  {
   "cell_type": "code",
   "execution_count": 115,
   "metadata": {
    "ExecuteTime": {
     "end_time": "2019-10-24T14:21:21.995263Z",
     "start_time": "2019-10-24T14:21:21.992429Z"
    }
   },
   "outputs": [],
   "source": [
    "vote_hvec = VotingClassifier([('nb', MultinomialNB(alpha=0.1)),\n",
    "                         ('lr', LogisticRegression()),\n",
    "                         ('ada', AdaBoostClassifier()),\n",
    "                        ],voting='soft')"
   ]
  },
  {
   "cell_type": "code",
   "execution_count": 116,
   "metadata": {
    "ExecuteTime": {
     "end_time": "2019-10-24T14:21:31.319891Z",
     "start_time": "2019-10-24T14:21:23.401486Z"
    },
    "scrolled": false
   },
   "outputs": [
    {
     "name": "stderr",
     "output_type": "stream",
     "text": [
      "/Users/jiaxing/anaconda3/lib/python3.7/site-packages/sklearn/linear_model/logistic.py:432: FutureWarning: Default solver will be changed to 'lbfgs' in 0.22. Specify a solver to silence this warning.\n",
      "  FutureWarning)\n"
     ]
    },
    {
     "name": "stdout",
     "output_type": "stream",
     "text": [
      "0.9662598707824839\n",
      "0.9179229480737019\n"
     ]
    }
   ],
   "source": [
    "vote_hvec.fit(train_data_hvec,y_train)\n",
    "print(vote_hvec.score(train_data_hvec,y_train))\n",
    "print(vote_hvec.score(test_data_hvec,y_test))"
   ]
  },
  {
   "cell_type": "markdown",
   "metadata": {},
   "source": [
    "**Voting classifer with tvec data produces the highest accuracy.**"
   ]
  },
  {
   "cell_type": "code",
   "execution_count": 117,
   "metadata": {
    "ExecuteTime": {
     "end_time": "2019-10-24T14:21:32.843443Z",
     "start_time": "2019-10-24T14:21:32.675677Z"
    },
    "scrolled": true
   },
   "outputs": [],
   "source": [
    "tn, fp, fn, tp=confusion_matrix(y_test, \n",
    "                 vote_tvec.predict(test_data_tvec)).ravel()"
   ]
  },
  {
   "cell_type": "code",
   "execution_count": 118,
   "metadata": {
    "ExecuteTime": {
     "end_time": "2019-10-24T14:21:34.389890Z",
     "start_time": "2019-10-24T14:21:34.241713Z"
    },
    "scrolled": true
   },
   "outputs": [
    {
     "name": "stdout",
     "output_type": "stream",
     "text": [
      "              precision    recall  f1-score   support\n",
      "\n",
      "           0       0.94      0.93      0.94       299\n",
      "           1       0.93      0.94      0.94       298\n",
      "\n",
      "    accuracy                           0.94       597\n",
      "   macro avg       0.94      0.94      0.94       597\n",
      "weighted avg       0.94      0.94      0.94       597\n",
      "\n"
     ]
    }
   ],
   "source": [
    "print(classification_report(y_test,vote_tvec.predict(test_data_tvec)))"
   ]
  },
  {
   "cell_type": "code",
   "execution_count": 119,
   "metadata": {
    "ExecuteTime": {
     "end_time": "2019-10-24T14:21:35.794096Z",
     "start_time": "2019-10-24T14:21:35.790574Z"
    },
    "scrolled": true
   },
   "outputs": [
    {
     "name": "stdout",
     "output_type": "stream",
     "text": [
      "Accuracy = 0.936\n",
      "Misclassification Rate = 0.064\n",
      "Sensitivity = 0.943\n",
      "Specificity = 0.93\n",
      "Precision = 0.93\n"
     ]
    }
   ],
   "source": [
    "print(f'Accuracy = {round((tp + tn) /(tn+ fp+ fn+ tp),3)}')\n",
    "print(f'Misclassification Rate = {round((fp + fn) /(tn+ fp+ fn+ tp),3)}')\n",
    "print(f'Sensitivity = {round(tp /(fn+ tp),3)}')\n",
    "print(f'Specificity = {round(tn /(fp+ tn),3)}')\n",
    "print(f'Precision = {round(tp /(fp+ tp),3)}')"
   ]
  },
  {
   "cell_type": "markdown",
   "metadata": {},
   "source": [
    "##### 6.4% of the posts are misclassified and 93.6% of the post are correctly labelled. False positive and False negative are equally bad and we need to reduce this."
   ]
  },
  {
   "cell_type": "markdown",
   "metadata": {},
   "source": [
    "### Receiver Operating Characteristic Curve"
   ]
  },
  {
   "cell_type": "code",
   "execution_count": 120,
   "metadata": {
    "ExecuteTime": {
     "end_time": "2019-10-24T14:21:37.325231Z",
     "start_time": "2019-10-24T14:21:37.151831Z"
    }
   },
   "outputs": [],
   "source": [
    "pred_proba_vote = [i[1] for i in vote_tvec.predict_proba(test_data_tvec)]\n",
    "\n",
    "pred_df_vote = pd.DataFrame({'true_values': y_test,\n",
    "                        'pred_probs':pred_proba_vote})"
   ]
  },
  {
   "cell_type": "code",
   "execution_count": 121,
   "metadata": {
    "ExecuteTime": {
     "end_time": "2019-10-24T14:21:38.696822Z",
     "start_time": "2019-10-24T14:21:38.692185Z"
    }
   },
   "outputs": [
    {
     "name": "stdout",
     "output_type": "stream",
     "text": [
      "0.9847478171084825\n"
     ]
    }
   ],
   "source": [
    "print(roc_auc_score(y_test,pred_proba_vote)) ## Area Under the ROC Curve"
   ]
  },
  {
   "cell_type": "code",
   "execution_count": 122,
   "metadata": {
    "ExecuteTime": {
     "end_time": "2019-10-24T14:21:41.036331Z",
     "start_time": "2019-10-24T14:21:40.078331Z"
    }
   },
   "outputs": [
    {
     "data": {
      "image/png": "[encoded data removed]",
      "text/plain": [
       "<Figure size 720x504 with 1 Axes>"
      ]
     },
     "metadata": {
      "needs_background": "light"
     },
     "output_type": "display_data"
    }
   ],
   "source": [
    "# Create figure.\n",
    "plt.figure(figsize = (10,7))\n",
    "\n",
    "# Create threshold values.\n",
    "thresholds = np.linspace(0, 1, 200)\n",
    "\n",
    "# Define function to calculate sensitivity. (True positive rate.)\n",
    "def TPR(df, true_col, pred_prob_col, threshold):\n",
    "    true_positive = df[(df[true_col] == 1) & (df[pred_prob_col] >= threshold)].shape[0]\n",
    "    false_negative = df[(df[true_col] == 1) & (df[pred_prob_col] < threshold)].shape[0]\n",
    "    return true_positive / (true_positive + false_negative)\n",
    "\n",
    "# Define function to calculate 1 - specificity. (False positive rate.)\n",
    "def FPR(df, true_col, pred_prob_col, threshold):\n",
    "    true_negative = df[(df[true_col] == 0) & (df[pred_prob_col] <= threshold)].shape[0]\n",
    "    false_positive = df[(df[true_col] == 0) & (df[pred_prob_col] > threshold)].shape[0]\n",
    "    return 1 - (true_negative / (true_negative + false_positive))\n",
    "    \n",
    "# Calculate sensitivity & 1-specificity for each threshold between 0 and 1.\n",
    "tpr_values_vote = [TPR(pred_df_vote, 'true_values', 'pred_probs', prob) for prob in thresholds]\n",
    "fpr_values_vote = [FPR(pred_df_vote, 'true_values', 'pred_probs', prob) for prob in thresholds]\n",
    "\n",
    "# Plot ROC curve.\n",
    "plt.plot(fpr_values_vote, # False Positive Rate on X-axis\n",
    "         tpr_values_vote, # True Positive Rate on Y-axis\n",
    "         label='ROC Curve')\n",
    "\n",
    "# Plot baseline. (Perfect overlap between the two populations.)\n",
    "plt.plot(np.linspace(0, 1, 200),\n",
    "         np.linspace(0, 1, 200),\n",
    "         label='baseline',\n",
    "         linestyle='--')\n",
    "\n",
    "# Label axes.\n",
    "plt.title('Receiver Operating Characteristic Curve', fontsize=22)\n",
    "plt.ylabel('Sensitivity', fontsize=18)\n",
    "plt.xlabel('1 - Specificity', fontsize=18)\n",
    "\n",
    "# Create legend.\n",
    "plt.legend(fontsize=16);"
   ]
  },
  {
   "cell_type": "markdown",
   "metadata": {},
   "source": [
    "We can see that the model performs better than our baseline model."
   ]
  },
  {
   "cell_type": "markdown",
   "metadata": {},
   "source": [
    "## Comparing all the models"
   ]
  },
  {
   "cell_type": "code",
   "execution_count": 123,
   "metadata": {
    "ExecuteTime": {
     "end_time": "2019-10-24T14:21:44.050129Z",
     "start_time": "2019-10-24T14:21:42.996148Z"
    }
   },
   "outputs": [
    {
     "data": {
      "image/png": "[encoded data removed]",
      "text/plain": [
       "<Figure size 1080x720 with 1 Axes>"
      ]
     },
     "metadata": {
      "needs_background": "light"
     },
     "output_type": "display_data"
    }
   ],
   "source": [
    "# Create figure.\n",
    "plt.figure(figsize = (15,10))\n",
    "\n",
    "# Create threshold values.\n",
    "thresholds = np.linspace(0, 1, 200)\n",
    "\n",
    "# Define function to calculate sensitivity. (True positive rate.)\n",
    "def TPR(df, true_col, pred_prob_col, threshold):\n",
    "    true_positive = df[(df[true_col] == 1) & (df[pred_prob_col] >= threshold)].shape[0]\n",
    "    false_negative = df[(df[true_col] == 1) & (df[pred_prob_col] < threshold)].shape[0]\n",
    "    return true_positive / (true_positive + false_negative)\n",
    "\n",
    "# Define function to calculate 1 - specificity. (False positive rate.)\n",
    "def FPR(df, true_col, pred_prob_col, threshold):\n",
    "    true_negative = df[(df[true_col] == 0) & (df[pred_prob_col] <= threshold)].shape[0]\n",
    "    false_positive = df[(df[true_col] == 0) & (df[pred_prob_col] > threshold)].shape[0]\n",
    "    return 1 - (true_negative / (true_negative + false_positive))\n",
    "    \n",
    "# Calculate sensitivity & 1-specificity for each threshold between 0 and 1.\n",
    "tpr_values_vote = [TPR(pred_df_vote, 'true_values', 'pred_probs', prob) for prob in thresholds]\n",
    "fpr_values_vote = [FPR(pred_df_vote, 'true_values', 'pred_probs', prob) for prob in thresholds]\n",
    "\n",
    "# Plot ROC curve.\n",
    "plt.plot(fpr_values_lr_tvec, # False Positive Rate on X-axis\n",
    "         tpr_values_lr_tvec, # True Positive Rate on Y-axis\n",
    "         label='Logistic TF-IDF - Accuracy:0.941')\n",
    "plt.plot(fpr_values_vote, # False Positive Rate on X-axis\n",
    "         tpr_values_vote, # True Positive Rate on Y-axis\n",
    "         label='Voting Model TF-IDF - Accuracy:0.936')\n",
    "plt.plot(fpr_values_nb_cvec, # False Positive Rate on X-axis\n",
    "         tpr_values_nb_cvec, # True Positive Rate on Y-axis\n",
    "         label='MultinomialNB CountVec - Accuracy:0.931')\n",
    "plt.plot(fpr_values_nb_hvec, # False Positive Rate on X-axis\n",
    "         tpr_values_nb_hvec, # True Positive Rate on Y-axis\n",
    "         label='MultinomialNB HashingVec - Accuracy:0.928')\n",
    "\n",
    "# Plot baseline. (Perfect overlap between the two populations.)\n",
    "plt.plot(np.linspace(0, 1, 200),\n",
    "         np.linspace(0, 1, 200),\n",
    "         label='Baseline Model - Accuracy:0.5',\n",
    "         linestyle='--')\n",
    "\n",
    "# Label axes.\n",
    "plt.title('Receiver Operating Characteristic Curve', fontsize=22)\n",
    "plt.ylabel('Sensitivity', fontsize=18)\n",
    "plt.xlabel('1 - Specificity', fontsize=18)\n",
    "\n",
    "# Create legend.\n",
    "plt.legend(fontsize=16);"
   ]
  },
  {
   "cell_type": "code",
   "execution_count": 229,
   "metadata": {
    "ExecuteTime": {
     "end_time": "2019-10-24T15:01:07.600550Z",
     "start_time": "2019-10-24T15:01:07.588526Z"
    }
   },
   "outputs": [
    {
     "name": "stdout",
     "output_type": "stream",
     "text": [
      "AUC Score for Logistic TF-IDF: 0.9844672397925973\n",
      "AUC Score for Voting Model TF-IDF: 0.9847478171084825\n",
      "AUC Score for MultinomialNB CountVec: 0.9738950865300442\n",
      "AUC Score for MultinomialNB HashingVec: 0.9757356737222509\n"
     ]
    }
   ],
   "source": [
    "print(f'AUC Score for Logistic TF-IDF: {roc_auc_score(y_test,pred_proba_tvec)}')\n",
    "print(f'AUC Score for Voting Model TF-IDF: {roc_auc_score(y_test,pred_proba_vote)}')\n",
    "print(f'AUC Score for MultinomialNB CountVec: {roc_auc_score(y_test,pred_proba_cvec)}')\n",
    "print(f'AUC Score for MultinomialNB HashingVec: {roc_auc_score(y_test,pred_proba_hvec)}')"
   ]
  },
  {
   "cell_type": "code",
   "execution_count": 235,
   "metadata": {
    "ExecuteTime": {
     "end_time": "2019-10-24T15:31:08.992329Z",
     "start_time": "2019-10-24T15:31:08.792688Z"
    }
   },
   "outputs": [
    {
     "name": "stdout",
     "output_type": "stream",
     "text": [
      "Accuracy for Logistic TF-IDF: 0.9413735343383585\n",
      "Accuracy for Voting Model TF-IDF: 0.9363484087102177\n",
      "Accuracy for MultinomialNB CountVec: 0.931323283082077\n",
      "Accuracy for MultinomialNB HashingVec: 0.9279731993299832\n"
     ]
    }
   ],
   "source": [
    "print(f'Accuracy for Logistic TF-IDF: {lr_tvec.score(test_data_tvec,y_test)}')\n",
    "print(f'Accuracy for Voting Model TF-IDF: {vote_tvec.score(test_data_tvec,y_test)}')\n",
    "print(f'Accuracy for MultinomialNB CountVec: {nb_cvec.score(test_data_cvec,y_test)}')\n",
    "print(f'Accuracy for MultinomialNB HashingVec: {nb_hvec.score(test_data_hvec,y_test)}')"
   ]
  },
  {
   "cell_type": "markdown",
   "metadata": {},
   "source": [
    "**The best model that provides the best accuracy is TF-IDF with Logistic Regression.**"
   ]
  },
  {
   "cell_type": "markdown",
   "metadata": {},
   "source": [
    "**Using the predictions from the model, I will like to explore which posts are missclassified.**"
   ]
  },
  {
   "cell_type": "markdown",
   "metadata": {},
   "source": [
    "## Misclassification"
   ]
  },
  {
   "cell_type": "code",
   "execution_count": 125,
   "metadata": {
    "ExecuteTime": {
     "end_time": "2019-10-24T14:21:46.835984Z",
     "start_time": "2019-10-24T14:21:46.829671Z"
    }
   },
   "outputs": [],
   "source": [
    "# creating new dataframe with predictions and true vale\n",
    "prediction=pd.DataFrame({'true_values':y_test,'predictions':lr_tvec.predict(test_data_tvec)})"
   ]
  },
  {
   "cell_type": "markdown",
   "metadata": {},
   "source": [
    "Creating a new dataframe with all the true values VS the predictions and filtering the post which are misclassified."
   ]
  },
  {
   "cell_type": "code",
   "execution_count": 126,
   "metadata": {
    "ExecuteTime": {
     "end_time": "2019-10-24T14:21:48.219582Z",
     "start_time": "2019-10-24T14:21:48.215953Z"
    }
   },
   "outputs": [],
   "source": [
    "misclassified_index=prediction[prediction['true_values']!=prediction['predictions']].index #filtering misclassified post"
   ]
  },
  {
   "cell_type": "code",
   "execution_count": 236,
   "metadata": {
    "ExecuteTime": {
     "end_time": "2019-10-24T15:33:43.568589Z",
     "start_time": "2019-10-24T15:33:43.564463Z"
    }
   },
   "outputs": [
    {
     "name": "stdout",
     "output_type": "stream",
     "text": [
      "Number of misclassified post:35\n"
     ]
    }
   ],
   "source": [
    "print(f'Number of misclassified post:{len(misclassified_index)}') # Number of misclassified post"
   ]
  },
  {
   "cell_type": "code",
   "execution_count": 128,
   "metadata": {
    "ExecuteTime": {
     "end_time": "2019-10-24T14:21:50.939260Z",
     "start_time": "2019-10-24T14:21:50.933337Z"
    }
   },
   "outputs": [],
   "source": [
    "misclassified=[]\n",
    "true_values=[]\n",
    "for x in misclassified_index:\n",
    "    misclassified.append(df.iloc[x,4])\n",
    "    true_values.append(df.iloc[x,3])"
   ]
  },
  {
   "cell_type": "markdown",
   "metadata": {},
   "source": [
    "Creating a new dataframe with all all the misclassified posts only."
   ]
  },
  {
   "cell_type": "code",
   "execution_count": 129,
   "metadata": {
    "ExecuteTime": {
     "end_time": "2019-10-24T14:21:52.326542Z",
     "start_time": "2019-10-24T14:21:52.323283Z"
    }
   },
   "outputs": [],
   "source": [
    "misclassified_df=pd.DataFrame({'true_values':true_values,'title+post':misclassified})"
   ]
  },
  {
   "cell_type": "code",
   "execution_count": 130,
   "metadata": {
    "ExecuteTime": {
     "end_time": "2019-10-24T14:21:53.790801Z",
     "start_time": "2019-10-24T14:21:53.788164Z"
    }
   },
   "outputs": [],
   "source": [
    "pd.set_option('display.max_colwidth', -1)"
   ]
  },
  {
   "cell_type": "code",
   "execution_count": 131,
   "metadata": {
    "ExecuteTime": {
     "end_time": "2019-10-24T14:21:55.289459Z",
     "start_time": "2019-10-24T14:21:55.284250Z"
    },
    "scrolled": true
   },
   "outputs": [
    {
     "data": {
      "text/plain": [
       "0    0.571429\n",
       "1    0.428571\n",
       "Name: true_values, dtype: float64"
      ]
     },
     "execution_count": 131,
     "metadata": {},
     "output_type": "execute_result"
    }
   ],
   "source": [
    "misclassified_df['true_values'].value_counts(normalize=True)"
   ]
  },
  {
   "cell_type": "markdown",
   "metadata": {},
   "source": [
    "**Of all the misclassified post, 57% are childfree posts while 43% are parenting posts. More childfree posts are wrongly predicted**"
   ]
  },
  {
   "cell_type": "markdown",
   "metadata": {},
   "source": [
    "**Next, I will like to see which features hold the highest coeff which may actually cause the classification.**"
   ]
  },
  {
   "cell_type": "code",
   "execution_count": 132,
   "metadata": {
    "ExecuteTime": {
     "end_time": "2019-10-24T14:21:56.768440Z",
     "start_time": "2019-10-24T14:21:56.759424Z"
    }
   },
   "outputs": [],
   "source": [
    "#new dataframe with features and coefficients of features.\n",
    "data_tvec=pd.DataFrame({'Coeff':np.squeeze(np.asarray(lr_tvec.coef_[0])),'features':tvec.get_feature_names()})"
   ]
  },
  {
   "cell_type": "code",
   "execution_count": 252,
   "metadata": {
    "ExecuteTime": {
     "end_time": "2019-10-24T17:02:26.560976Z",
     "start_time": "2019-10-24T17:02:26.360990Z"
    },
    "scrolled": true
   },
   "outputs": [
    {
     "data": {
      "text/plain": [
       "Text(0.5, 1.0, 'Top 10 Positive features')"
      ]
     },
     "execution_count": 252,
     "metadata": {},
     "output_type": "execute_result"
    },
    {
     "data": {
      "image/png": "[encoded data removed]",
      "text/plain": [
       "<Figure size 576x360 with 1 Axes>"
      ]
     },
     "metadata": {
      "needs_background": "light"
     },
     "output_type": "display_data"
    }
   ],
   "source": [
    "#top 10 positive coeff features\n",
    "data_tvec.sort_values(by='Coeff').tail(10).plot(kind='barh',x='features',figsize=(8,5))\n",
    "plt.xlabel('Coefficents')\n",
    "plt.title('Top 10 Positive features')"
   ]
  },
  {
   "cell_type": "markdown",
   "metadata": {},
   "source": [
    "**The above shows the top 10 features with the highest positive coefficients.**"
   ]
  },
  {
   "cell_type": "code",
   "execution_count": 253,
   "metadata": {
    "ExecuteTime": {
     "end_time": "2019-10-24T17:05:04.992615Z",
     "start_time": "2019-10-24T17:05:04.798048Z"
    }
   },
   "outputs": [
    {
     "data": {
      "text/plain": [
       "Text(0.5, 1.0, 'Top 10 negative features')"
      ]
     },
     "execution_count": 253,
     "metadata": {},
     "output_type": "execute_result"
    },
    {
     "data": {
      "image/png": "[encoded data removed]",
      "text/plain": [
       "<Figure size 576x360 with 1 Axes>"
      ]
     },
     "metadata": {
      "needs_background": "light"
     },
     "output_type": "display_data"
    }
   ],
   "source": [
    "#top 10 negative coeff features\n",
    "data_tvec.sort_values(by='Coeff').head(10).plot(kind='barh',x='features',figsize=(8,5))\n",
    "plt.xlabel('Coefficents')\n",
    "plt.title('Top 10 negative features')"
   ]
  },
  {
   "cell_type": "markdown",
   "metadata": {},
   "source": [
    "**The above shows the top 10 features with the highest negative coefficients.**"
   ]
  },
  {
   "cell_type": "markdown",
   "metadata": {},
   "source": [
    "**Next, I will like to see how frequently these words appear in the misclassified posts. I will be generate the top 10 postive and top 10 negative features list**"
   ]
  },
  {
   "cell_type": "code",
   "execution_count": 135,
   "metadata": {
    "ExecuteTime": {
     "end_time": "2019-10-24T14:22:01.650585Z",
     "start_time": "2019-10-24T14:22:01.646168Z"
    }
   },
   "outputs": [],
   "source": [
    "positive_words=data_tvec.sort_values(by='Coeff').tail(10)['features']"
   ]
  },
  {
   "cell_type": "code",
   "execution_count": 136,
   "metadata": {
    "ExecuteTime": {
     "end_time": "2019-10-24T14:22:03.105017Z",
     "start_time": "2019-10-24T14:22:03.102429Z"
    }
   },
   "outputs": [],
   "source": [
    "positive_words=[words for words in positive_words]"
   ]
  },
  {
   "cell_type": "code",
   "execution_count": 137,
   "metadata": {
    "ExecuteTime": {
     "end_time": "2019-10-24T14:22:04.553519Z",
     "start_time": "2019-10-24T14:22:04.550461Z"
    },
    "scrolled": false
   },
   "outputs": [
    {
     "data": {
      "text/plain": [
       "['sleep',\n",
       " 'play',\n",
       " 'husband',\n",
       " 'month',\n",
       " 'wife',\n",
       " 'advic',\n",
       " 'old',\n",
       " 'school',\n",
       " 'daughter',\n",
       " 'son']"
      ]
     },
     "execution_count": 137,
     "metadata": {},
     "output_type": "execute_result"
    }
   ],
   "source": [
    "positive_words #labelling as such as it is positive coefficients"
   ]
  },
  {
   "cell_type": "code",
   "execution_count": 138,
   "metadata": {
    "ExecuteTime": {
     "end_time": "2019-10-24T14:22:05.997798Z",
     "start_time": "2019-10-24T14:22:05.993623Z"
    }
   },
   "outputs": [],
   "source": [
    "negative_words=data_tvec.sort_values(by='Coeff').head(10)['features']"
   ]
  },
  {
   "cell_type": "code",
   "execution_count": 139,
   "metadata": {
    "ExecuteTime": {
     "end_time": "2019-10-24T14:22:07.418361Z",
     "start_time": "2019-10-24T14:22:07.415538Z"
    }
   },
   "outputs": [],
   "source": [
    "negative_words=[words for words in negative_words]"
   ]
  },
  {
   "cell_type": "code",
   "execution_count": 140,
   "metadata": {
    "ExecuteTime": {
     "end_time": "2019-10-24T14:22:08.843490Z",
     "start_time": "2019-10-24T14:22:08.840041Z"
    }
   },
   "outputs": [
    {
     "data": {
      "text/plain": [
       "['cf',\n",
       " 'kid',\n",
       " 'child',\n",
       " 'fuck',\n",
       " 'woman',\n",
       " 'peopl',\n",
       " 'want kid',\n",
       " 'steril',\n",
       " 'bingo',\n",
       " 'life']"
      ]
     },
     "execution_count": 140,
     "metadata": {},
     "output_type": "execute_result"
    }
   ],
   "source": [
    "negative_words #labelling as such as it is negative coefficients"
   ]
  },
  {
   "cell_type": "code",
   "execution_count": 141,
   "metadata": {
    "ExecuteTime": {
     "end_time": "2019-10-24T14:22:10.310689Z",
     "start_time": "2019-10-24T14:22:10.308188Z"
    }
   },
   "outputs": [],
   "source": [
    "childfree_post = [] #to store the clean childfree post which are misclassified\n",
    "parenting_post = [] #to store the clean parenting post which are misclassified"
   ]
  },
  {
   "cell_type": "code",
   "execution_count": 142,
   "metadata": {
    "ExecuteTime": {
     "end_time": "2019-10-24T14:22:11.910960Z",
     "start_time": "2019-10-24T14:22:11.791751Z"
    }
   },
   "outputs": [],
   "source": [
    "for data in misclassified_df[misclassified_df['true_values']==0]['title+post']:\n",
    "    # Convert review to words, then append to childfree_post.\n",
    "    childfree_post.append(review_to_words(data))\n",
    "\n",
    "for data in misclassified_df[misclassified_df['true_values']==1]['title+post']:\n",
    "    # Convert review to words, then append to parenting_post.\n",
    "    parenting_post.append(review_to_words(data))"
   ]
  },
  {
   "cell_type": "code",
   "execution_count": 143,
   "metadata": {
    "ExecuteTime": {
     "end_time": "2019-10-24T14:22:13.345481Z",
     "start_time": "2019-10-24T14:22:13.342477Z"
    }
   },
   "outputs": [],
   "source": [
    "childfree_wordcount=[] # to store all the words in childfree post which are misclassified\n",
    "for post in childfree_post:\n",
    "    childfree_wordcount.extend(post.split())"
   ]
  },
  {
   "cell_type": "code",
   "execution_count": 248,
   "metadata": {
    "ExecuteTime": {
     "end_time": "2019-10-24T15:48:56.248660Z",
     "start_time": "2019-10-24T15:48:56.244194Z"
    }
   },
   "outputs": [
    {
     "name": "stdout",
     "output_type": "stream",
     "text": [
      "Count of words: 2897\n",
      "Count of positive words: 48\n"
     ]
    }
   ],
   "source": [
    "print(f'Count of words: {len(childfree_wordcount)}')\n",
    "print(f'Count of positive words: {[word in post for post in childfree_post for word in positive_words].count(True)}')"
   ]
  },
  {
   "cell_type": "markdown",
   "metadata": {},
   "source": [
    "**Positive words appears about 48/2897 = 1% of the posts while they are only 10/3000=0.3% of the features. The user's choice of words may have mislead the classifier to categorise it as parenting post, considering the positive coefficent these features holds.**"
   ]
  },
  {
   "cell_type": "code",
   "execution_count": 145,
   "metadata": {
    "ExecuteTime": {
     "end_time": "2019-10-24T14:22:16.253564Z",
     "start_time": "2019-10-24T14:22:16.250930Z"
    }
   },
   "outputs": [],
   "source": [
    "parenting_wordcount=[] # to store all the words in parenting post which are misclassified\n",
    "for post in parenting_post:\n",
    "    parenting_wordcount.extend(post.split())"
   ]
  },
  {
   "cell_type": "code",
   "execution_count": 250,
   "metadata": {
    "ExecuteTime": {
     "end_time": "2019-10-24T15:49:59.977574Z",
     "start_time": "2019-10-24T15:49:59.972995Z"
    }
   },
   "outputs": [
    {
     "name": "stdout",
     "output_type": "stream",
     "text": [
      "Count of words: 1466\n",
      "Count of positive words: 28\n"
     ]
    }
   ],
   "source": [
    "print(f'Count of words: {len(parenting_wordcount)}')\n",
    "print(f'Count of positive words: {[word in post for post in parenting_post for word in negative_words].count(True)}')"
   ]
  },
  {
   "cell_type": "markdown",
   "metadata": {},
   "source": [
    "**Negative words appears about 28/1466 = 2% of the post while they are only 10/3000=0.3% of the features. The user's choice of words may have mislead the classifier to categorise it as childfree post, considering the negative coefficent these features holds.**"
   ]
  },
  {
   "cell_type": "markdown",
   "metadata": {},
   "source": [
    "**Below are the misclassified parenting and childfree posts.**"
   ]
  },
  {
   "cell_type": "code",
   "execution_count": 147,
   "metadata": {
    "ExecuteTime": {
     "end_time": "2019-10-24T14:22:19.204382Z",
     "start_time": "2019-10-24T14:22:19.200923Z"
    }
   },
   "outputs": [
    {
     "data": {
      "text/plain": [
       "20"
      ]
     },
     "execution_count": 147,
     "metadata": {},
     "output_type": "execute_result"
    }
   ],
   "source": [
    "pd.options.display.max_columns"
   ]
  },
  {
   "cell_type": "code",
   "execution_count": 230,
   "metadata": {
    "ExecuteTime": {
     "end_time": "2019-10-24T15:02:31.392520Z",
     "start_time": "2019-10-24T15:02:31.373973Z"
    },
    "scrolled": false
   },
   "outputs": [
    {
     "data": {
      "text/html": [
       "<div>\n",
       "<style scoped>\n",
       "    .dataframe tbody tr th:only-of-type {\n",
       "        vertical-align: middle;\n",
       "    }\n",
       "\n",
       "    .dataframe tbody tr th {\n",
       "        vertical-align: top;\n",
       "    }\n",
       "\n",
       "    .dataframe thead th {\n",
       "        text-align: right;\n",
       "    }\n",
       "</style>\n",
       "<table border=\"1\" class=\"dataframe\">\n",
       "  <thead>\n",
       "    <tr style=\"text-align: right;\">\n",
       "      <th></th>\n",
       "      <th>true_values</th>\n",
       "      <th>title+post</th>\n",
       "    </tr>\n",
       "  </thead>\n",
       "  <tbody>\n",
       "    <tr>\n",
       "      <th>0</th>\n",
       "      <td>1</td>\n",
       "      <td>Whats one thing no one told you about(or warned you about) being a parent? Mine was all the small talk. I'm pretty bad at small talk and a little socially awkward the amount of people who start talking to you cause you have a kid I was unprepared for.</td>\n",
       "    </tr>\n",
       "    <tr>\n",
       "      <th>6</th>\n",
       "      <td>1</td>\n",
       "      <td>Can't get a doctors appointment at all. Son bumped is head over the weekend.  Some disorientation, headaches, vomiting, a trip to urgent care followed by the ER, and a clear CT later we were left to go home and told, among other things, to keep him home from school and follow up with his Pediatrician in a day or two.    \\n\\n\\nThis is where it gets infuriating.  My wife lost her job about a year ago and with it our health insurance.  In order to have access to health care for our son we started to enroll him in a clinic in our town which specializes in offering assistance to those without insurance.  It's not a free clinic associated with a medical center or anything like that.  It's a regular doctor's office who is well known for being the best at finding a way to get people access to healthcare.  We started the enrollment process with them because that was their advice, filled out some paperwork etc, to see what could be done.   Partway through they figured out we were eligible for a free insurance program through the state that his old doctor accepts.  We called the old doctors office and verified with them that they accept it an he could stay as a patient with the new insurance and never finished the enrollment at the new place.  I just called up the office to schedule the followup and was informed me that they listed him as having transferred to the new doctor and they aren't accepting new patients so we cannot be seen there, period.  I called the place we started to fill out the paperwork, but they don't have his records and won't see him as a new patient until he has a well visit first, which of course we cannot do because he isn't well.    \\n\\n\\nSo, we have no doctor to follow up with and all I really want to do right now is strangle somebody.  I'm going to keep calling pediatric offices until someone takes pity on me or, barring that go back to urgent care on Tuesday.  If anyone has a better suggestion I could really use it right now.</td>\n",
       "    </tr>\n",
       "    <tr>\n",
       "      <th>7</th>\n",
       "      <td>1</td>\n",
       "      <td>Bubble bath time When I grew up we had tons of fun with Mr Bubble. It could make bubble mountains that you could actually hide in. I’m looking for a bubble bath recently and all I can find produce minimal bubbles. Not exactly what I want my child to experience. I googled Mr Bubble and saw that you could still buy it , on line at least, but other sites popped up saying it was toxic. Does anyone know about this?</td>\n",
       "    </tr>\n",
       "    <tr>\n",
       "      <th>9</th>\n",
       "      <td>1</td>\n",
       "      <td>This is how I make my super picky 4 years old eat beetroot and other vegetables! The best way to make kids eat vegetables is to make cookies and cakes with them! They love it and I love it. It’s healthier compared to mainstream cookies!\\n\\nI have many recipes that works greatly for me, such lentils and avocado Brownies, it will even foul you!\\n\\nLet me know if you are interested, I can share more.\\n\\nPhoto of my beetroots cookies: [https://imgur.com/5D4xHNs](https://imgur.com/5D4xHNs)Recipe to this one:\\n\\n* 150 gr fresh beetroot\\n* 40 gr chocolate chips\\n* 50 g almond powder\\n* 50 g potato starch\\n* 5 g baking powder\\n* 15 ml honey\\n* 5 g coconut oil\\n\\nInstructions:\\n\\nPlace the beets in a medium saucepan, submerge them with water. Bring to a **boil**, and cook for 30 minutes over medium heat. Once cooked, rinse the **beets** under cool and peel away the skins.In a blender, mix the beets with coconut oil and honey until combined.Preheat oven to 180°C.\\n\\nIn a bowl, mix almond powder, potato starch and baking powder. Stir in the beet mixture, and chocolate chips until well combined. Roll 2 to 3 tablespoons of dough (depending on how big you want your cookies) and place on an ungreased cookie sheet or any oven friendly pan, slightly flatten using the back of a spoon and decorate with more chocolate chips if you want.\\n\\nBake for approximately 15 minutes, take them out when they start to turn brown in the sides\\n\\nLet them cool down before removing them to a plate.\\n\\nEdit: Eat with moderation</td>\n",
       "    </tr>\n",
       "    <tr>\n",
       "      <th>12</th>\n",
       "      <td>1</td>\n",
       "      <td>Cold season is upon us and apparently we’re fucked and that’s just that. I found [this](https://healthcare.utah.edu/the-scope/shows.php?shows=0_5nzgsffm) strangely relieving and hilarious.\\n\\nAfter 5 years and 3 kids of probiotics, vitamin D and C, elderberry, humidifiers, vigorous handwashing, zinc, blah blah, I’ve noticed absolutely no difference in anything and we’re always sick. Really refreshing to read an article that is like yup nothing you can do about it instead of “just boil pine needles or possum spit and you’ll never ever be sick a day in your life again!”\\n\\nGonna stop fighting this so hard and just accept that Fall and Winter are pure hell with children in daycare.</td>\n",
       "    </tr>\n",
       "    <tr>\n",
       "      <th>15</th>\n",
       "      <td>1</td>\n",
       "      <td>Kid saying no getting on your nerves? Read on my friend A kid learns to say no early. They learn its possible from their parents when they say it. They learn its possible for them personally when they accomplish it. There’s nothing wrong with saying no. No is communication, but it’s only half.\\n\\nAs soon as they get to the point where they can give you constructive feedback, ALWAYS follow up with a question about what they DO want.\\n\\nGranted, sometimes saying no... it’s like saying “you missed a spot”, and it doesn’t need much explanation. BUT! Even during times like those, practice giving constructive feedback.\\n\\nIt pays SO MUCH because of how effective it is in cutting frustration.</td>\n",
       "    </tr>\n",
       "    <tr>\n",
       "      <th>16</th>\n",
       "      <td>1</td>\n",
       "      <td>Rant: How much longer? I am not sure if these are those 'terrible two's' people talk about, but man, it's a struggle. Our daughter turns 2 in November and isn't verbal yet (not too worried about that, honestly). But it means she is rather limited in communicating her wants. So it is an endless NNNNIIIIIIII!!! which can mean \"My diaper needs changing\" or \"I want food\", or \"No, not that food\" or \"I am bored\" or \"I am thirsty\" or a dozen other things and while I run through the checklist, the noise continues.\\n\\nI love her to bits, but man, if this phase stops right now, it wouldn't be soon enough. That noise is driving me nuts, and my wife too. I'm of the mind that telling kids to 'shut up' or yelling is to be avoided, but that principle is being severely tested right now.</td>\n",
       "    </tr>\n",
       "    <tr>\n",
       "      <th>17</th>\n",
       "      <td>1</td>\n",
       "      <td>I guess this is a rant My kids hang out with their grandparents a few times a month. And I KNOW when my kids are with them, their grandparents buy them whatever they want. Sometimes toys, mostly food. They take the kids to fun activities and always buy them some kind of sweet from the event.\\n\\nWhen we go to events, I feed my kids beforehand and I do not buy them any sweets. Because of sugar and money.\\n\\nRecently, we did a family trip which included the grand parents. My kids would not stop asking for sweets. We would have just eaten a packed lunch and they would beg for a pretzel, a drink, something sweet. I must have said no over 40 times. I felt the judginess coming from my MIL. My FIL would buy them cookies, donuts, chips, etc while on the trip and then my kids refused to eat dinner because they said they didn’t like it. And then of course, 30 minutes later, they were “starving” I told them they had their chance to eat dinner. My son said it was “children abuse”\\n\\nIt was so annoying.</td>\n",
       "    </tr>\n",
       "    <tr>\n",
       "      <th>18</th>\n",
       "      <td>1</td>\n",
       "      <td>Telling a Child “You’re Miserable to be Around”!!!!???? Would it ever be ok to tell your child “you are miserable to be around”? Even if they were acting up, had a terrible attitude, etc. \\n\\nI am having this conversation with my husband. Of all people.\\n\\nEdit: children are 8, 9 boys and 15 girl. But this is a “what if” type thing. It hasn’t actually been said. It came up in conversation. They are mine, he doesn’t have kids of his own, but we are very “family” and do everything together. They call him dad.</td>\n",
       "    </tr>\n",
       "    <tr>\n",
       "      <th>23</th>\n",
       "      <td>1</td>\n",
       "      <td>Only one kid showed up to my 5yo’s birthday party Out of twenty-five invitees, only one showed up. I’m just confused why. We have a bounce house, cake, piñata, games, ice cream, we told parents that they could drop their kids off and we would keep everyone safe, etc. \\n\\nEverybody loves her. We got ten last minute phone calls that they couldn’t make it but would bring her present on Monday. It’s just frustrating. I worked my ass off for this party because she wanted it to be special. \\n\\nI guess I’m just venting but it’s disappointing. I know it has nothing to do with us or her because we’re close with everybody and she’s close with all her friends. She’s disappointed but still having fun, I guess. She asked why nobody’s here and I didn’t really know what to say.</td>\n",
       "    </tr>\n",
       "    <tr>\n",
       "      <th>24</th>\n",
       "      <td>1</td>\n",
       "      <td>My kid stinks My kid smells SO bad. She's 9 and I've taught her proper hygiene but for some reason she is just not getting it. She showers every other night, washes face and brushes teeth twice a day. I remind her to wash her hands after using the bathroom when she's at home. I don't know what I need to do to make what I say stick?! Currently stuck sitting in my car with her since we can't go anywhere with her smelling so horrible (we had to rush out for a showing at our house) and I can't stand it, even with the windows down. I'm also pregnant so I have super-scent powers atm but even my husband agrees that she smells bad and he's not as sensitive to smell. Anyone else have this problem with a kid of similar age? What did you do or say to make them realize that hygiene is important?</td>\n",
       "    </tr>\n",
       "    <tr>\n",
       "      <th>25</th>\n",
       "      <td>1</td>\n",
       "      <td>Divorced parents: worth enforcing child support agreement? \\nI'm in a bit of a pickle and could use feedback!\\n\\nMy ex and I split up 3 years ago. We share 50-50 custody. We do not pay spousal support. Our separation agreement has been filed with the court and is a legal contract. He is incorporated as a business owner with a construction company. I am an employee of another company. In past years we have used a 3-year average of our incomes to calculate child support in August of each year (use Canada Federal Child Support Calculator.) This past August his income went down by 40%, according to what he presented. This, in turn, reduced his child support payment to $350 a month. He has refused to follow the rest of the agreement at his discretion(a portion of daycare, specifically.) \\n\\nSince then it's been rolling around in my head to question how he is surviving on such a huge pay cut. I suspect he is income-splitting with his live in girlfriend (wife? Don't know if they're married or not.) This is based on the fact that when I was married to him, he did this with me through his company - it's a tax dodge. It's not illegal, but it's through Revenue Canada, which is separate from Justice Canada, who govern child support.\\n\\nNow, our separation agreement says \"the parties shall exchange sufficient information to determine their guideline incomes... pursuant to the Federal Child Support Guidelines.\" I just checked the guidelines here: https://www.justice.gc.ca/eng/fl-df/fact2-fiches2.html and they do say that a parent may need to provide financial statements if s/he is self employed. That means, to me, that my ex husband has to provide financials for his company. The financials will then reflect whether or not he is splitting income. The Federal Child Support Guidelines say that any wages paid to him from his business must be declared. Wages paid to anyone with whom he has an arms-length relationship must not. The live-in girlfriend, if she is collecting a wage, does NOT have an arms-length relationship, and therefore, her income must be declared.\\n\\nIt's possible that he took a hit of $44,000.\\n\\nIt's possible that he is not income splitting. \\n\\nIn that case, the support payment won't change. But, if he is income splitting and therefore hiding income to calculate a lower child support payment, then he'll have to pay more. This, in turn, is going to piss him off. As it is, he is extremely aggressive towards me, and the new girlfriend absolutely hates me. (I have had roughly 2 conversations with her, and I truly don't know what her problem is, so I just try to steer clear of her completely. I never call their house or him, I never text him, and I email him 1x a week with any details relevant to the kids.) \\n\\nIs it worth it to ask him to share full financials, as required by the separation agreement? There will be serious blow back, lots of angry phone calls, badmouthing me to my kids, and in all likelihood, the only way he's going to stick to the agreement is if a judge orders him to (and even then, I doubt he will - he's waived virtually everything in the separation agreement so far, which would mean he's broken a legal binding contract.) He may withhold permission for me to take my kids to visit family, or to leave the country for their surprise Christmas vacation. He may, potentially, just refuse to return them to me. I truly do not trust him, one iota.\\n\\nShould I suck it up? I can get by with the small amount of child support. My kids and I have a good life. Things are peaceful, for all intents and purposes. On the other hand, this lie of omission is not only breaking the law, but hurts my kids in the long run. What's better? Enforcing the legal agreement that we both signed, or just letting it go? \\n\\nPS: Yes, I've spoken to a lawyer, who's advised that if he has nothing to hide, he should have no reason not to release financials - it's the law. I've also spoken to the mediator who helped us write the agreement, and she says the same. Lastly, this agreement includes his signature saying that he acknowledges he understands the agreement, his obligations in it, and that he obtained independent legal advice to approve it all before he signed it.\\n\\nTLDR; I suspect my ex is hiding income to pay less child support. It's gonna cause drama if I force him to adhere to the agreement and reveal all income. Worth it?\\n\\nETA: am reasonably confident that income splitting is happening based on girlfriend's LinkedIn profile. She lists the company as her employer, effective last spring.</td>\n",
       "    </tr>\n",
       "    <tr>\n",
       "      <th>26</th>\n",
       "      <td>1</td>\n",
       "      <td>Tracking your child’s location I’m curious to know if anyone has ever used a gps tracker/logger with their kids and how it has worked.  \\n\\nI’m looking for one and am having a difficult time determining what to get. I want one that will keep a log of my toddlers locations, and is small enough I can put it in a stuffed animal that is already carried along everywhere. \\nAny info is immensely appropriated!</td>\n",
       "    </tr>\n",
       "    <tr>\n",
       "      <th>27</th>\n",
       "      <td>1</td>\n",
       "      <td>Ughhhh... It’s crazy how everyone claim that they’ll be there for you, blah blah blah, but when you really need them their “busy” or “have something to do” being a mother and having to make sacrifices that you CAN NOT afford to make is stressful. For instance...calling off of work because you have no babysitter or your child gets sick so you have to leave early. Then you call around and ask for help and LEGIT NO ONE CAN HELP. 😭 Like what’s the point of saying “If you need anything, I’m here” IF YOU ARE NOT REALLY GOING TO BE FUCKING THERE 😡.. I’m legit always helping someone out but when it comes to me no one can help me. I’m a single mother of 3 just trying to make a living. It’s hard... babies I just want y’all to know that I’m really TRYING and always will try for you guys. I just have to find a new SUPPORT system. Because as of right now it’s just me and you guys 😓 I love y’all with everything in ME. JUST KNOW THAT. Sorry guys (readers) just venting 😩</td>\n",
       "    </tr>\n",
       "    <tr>\n",
       "      <th>32</th>\n",
       "      <td>1</td>\n",
       "      <td>I'll never follow my passion I've always been attracted to acting. Not just the fame and constant interviews. It's my dream to posess skill to convey emotions and tell amazing stories through acting... even if it means retaking a scene again and again to get it right... even that sounds like so much fun.\\n\\nI grew up enacting scenes in front of my bathroom mirrors, or basically anywhere I was alone. I'll be a british agent that needs information and the next day I'll be a broken hearted ball of tears... and so on. Its so much fun. Whenever I ran errands with my mother in my Recital Make up (Competitive Ballet, San Francisco) I always remember people giving my mom their business card to do commercials (like McDonalds) and I always ached to do them, but my mother would always say \"theyre not real, they'll kidnap you\" and I would never get the chance.\\n\\nIt was my choice to have kids and I blame only myself for my choices. But I know that if I never had kids, I'd be chasing my dream in Southern California.  \\n\\n\\nI just cant help but sulk here, being home all the time changing diapers and trying to control tantrums.</td>\n",
       "    </tr>\n",
       "  </tbody>\n",
       "</table>\n",
       "</div>"
      ],
      "text/plain": [
       "    true_values  \\\n",
       "0   1             \n",
       "6   1             \n",
       "7   1             \n",
       "9   1             \n",
       "12  1             \n",
       "15  1             \n",
       "16  1             \n",
       "17  1             \n",
       "18  1             \n",
       "23  1             \n",
       "24  1             \n",
       "25  1             \n",
       "26  1             \n",
       "27  1             \n",
       "32  1             \n",
       "\n",
       "                                                                                                                                                                                                                                                                                                                                                                                                                                                                                                                                                                                                                                                                                                                                                                                                                                                                                                                                                                                                                                                                                                                                                                                                                                                                                                                                                                                                                                                                                                                                                                                                                                                                                                                                                                                                                                                                                                                                                                                                                                                                                                                                                                                                                                                                                                                                                                                                                                                                                                                                                                                                                                                                                                                                                                                                                                                                                                                                                                                                                                                                                                                                                                                                                                                                                                                                                                                                                                                                                                                                                                                                                                                                                                                                                                                                                                                                                                                                                                                                                                                                                                                                                                                                                                                                                                                                                                                                                                                                                                                                                                                                                                                                                                                                           title+post  \n",
       "0   Whats one thing no one told you about(or warned you about) being a parent? Mine was all the small talk. I'm pretty bad at small talk and a little socially awkward the amount of people who start talking to you cause you have a kid I was unprepared for.                                                                                                                                                                                                                                                                                                                                                                                                                                                                                                                                                                                                                                                                                                                                                                                                                                                                                                                                                                                                                                                                                                                                                                                                                                                                                                                                                                                                                                                                                                                                                                                                                                                                                                                                                                                                                                                                                                                                                                                                                                                                                                                                                                                                                                                                                                                                                                                                                                                                                                                                                                                                                                                                                                                                                                                                                                                                                                                                                                                                                                                                                                                                                                                                                                                                                                                                                                                                                                                                                                                                                                                                                                                                                                                                                                                                                                                                                                                                                                                                                                                                                                                                                                                                                                                                                                                                                                                                                                                                                        \n",
       "6   Can't get a doctors appointment at all. Son bumped is head over the weekend.  Some disorientation, headaches, vomiting, a trip to urgent care followed by the ER, and a clear CT later we were left to go home and told, among other things, to keep him home from school and follow up with his Pediatrician in a day or two.    \\n\\n\\nThis is where it gets infuriating.  My wife lost her job about a year ago and with it our health insurance.  In order to have access to health care for our son we started to enroll him in a clinic in our town which specializes in offering assistance to those without insurance.  It's not a free clinic associated with a medical center or anything like that.  It's a regular doctor's office who is well known for being the best at finding a way to get people access to healthcare.  We started the enrollment process with them because that was their advice, filled out some paperwork etc, to see what could be done.   Partway through they figured out we were eligible for a free insurance program through the state that his old doctor accepts.  We called the old doctors office and verified with them that they accept it an he could stay as a patient with the new insurance and never finished the enrollment at the new place.  I just called up the office to schedule the followup and was informed me that they listed him as having transferred to the new doctor and they aren't accepting new patients so we cannot be seen there, period.  I called the place we started to fill out the paperwork, but they don't have his records and won't see him as a new patient until he has a well visit first, which of course we cannot do because he isn't well.    \\n\\n\\nSo, we have no doctor to follow up with and all I really want to do right now is strangle somebody.  I'm going to keep calling pediatric offices until someone takes pity on me or, barring that go back to urgent care on Tuesday.  If anyone has a better suggestion I could really use it right now.                                                                                                                                                                                                                                                                                                                                                                                                                                                                                                                                                                                                                                                                                                                                                                                                                                                                                                                                                                                                                                                                                                                                                                                                                                                                                                                                                                                                                                                                                                                                                                                                                                                                                                                                                                                                                                                                                                                                                                                                                                                                                                                                                                                                                                                                                                                                                                                                                                                                                                                                                                                                                                                                                           \n",
       "7   Bubble bath time When I grew up we had tons of fun with Mr Bubble. It could make bubble mountains that you could actually hide in. I’m looking for a bubble bath recently and all I can find produce minimal bubbles. Not exactly what I want my child to experience. I googled Mr Bubble and saw that you could still buy it , on line at least, but other sites popped up saying it was toxic. Does anyone know about this?                                                                                                                                                                                                                                                                                                                                                                                                                                                                                                                                                                                                                                                                                                                                                                                                                                                                                                                                                                                                                                                                                                                                                                                                                                                                                                                                                                                                                                                                                                                                                                                                                                                                                                                                                                                                                                                                                                                                                                                                                                                                                                                                                                                                                                                                                                                                                                                                                                                                                                                                                                                                                                                                                                                                                                                                                                                                                                                                                                                                                                                                                                                                                                                                                                                                                                                                                                                                                                                                                                                                                                                                                                                                                                                                                                                                                                                                                                                                                                                                                                                                                                                                                                                                                                                                                                                      \n",
       "9   This is how I make my super picky 4 years old eat beetroot and other vegetables! The best way to make kids eat vegetables is to make cookies and cakes with them! They love it and I love it. It’s healthier compared to mainstream cookies!\\n\\nI have many recipes that works greatly for me, such lentils and avocado Brownies, it will even foul you!\\n\\nLet me know if you are interested, I can share more.\\n\\nPhoto of my beetroots cookies: [https://imgur.com/5D4xHNs](https://imgur.com/5D4xHNs)Recipe to this one:\\n\\n* 150 gr fresh beetroot\\n* 40 gr chocolate chips\\n* 50 g almond powder\\n* 50 g potato starch\\n* 5 g baking powder\\n* 15 ml honey\\n* 5 g coconut oil\\n\\nInstructions:\\n\\nPlace the beets in a medium saucepan, submerge them with water. Bring to a **boil**, and cook for 30 minutes over medium heat. Once cooked, rinse the **beets** under cool and peel away the skins.In a blender, mix the beets with coconut oil and honey until combined.Preheat oven to 180°C.\\n\\nIn a bowl, mix almond powder, potato starch and baking powder. Stir in the beet mixture, and chocolate chips until well combined. Roll 2 to 3 tablespoons of dough (depending on how big you want your cookies) and place on an ungreased cookie sheet or any oven friendly pan, slightly flatten using the back of a spoon and decorate with more chocolate chips if you want.\\n\\nBake for approximately 15 minutes, take them out when they start to turn brown in the sides\\n\\nLet them cool down before removing them to a plate.\\n\\nEdit: Eat with moderation                                                                                                                                                                                                                                                                                                                                                                                                                                                                                                                                                                                                                                                                                                                                                                                                                                                                                                                                                                                                                                                                                                                                                                                                                                                                                                                                                                                                                                                                                                                                                                                                                                                                                                                                                                                                                                                                                                                                                                                                                                                                                                                                                                                                                                                                                                                                                                                                                                                                                                                                                                                                                                                                                                                                                                                                                                                                                                                                                                                                                                                                                                                                                                      \n",
       "12  Cold season is upon us and apparently we’re fucked and that’s just that. I found [this](https://healthcare.utah.edu/the-scope/shows.php?shows=0_5nzgsffm) strangely relieving and hilarious.\\n\\nAfter 5 years and 3 kids of probiotics, vitamin D and C, elderberry, humidifiers, vigorous handwashing, zinc, blah blah, I’ve noticed absolutely no difference in anything and we’re always sick. Really refreshing to read an article that is like yup nothing you can do about it instead of “just boil pine needles or possum spit and you’ll never ever be sick a day in your life again!”\\n\\nGonna stop fighting this so hard and just accept that Fall and Winter are pure hell with children in daycare.                                                                                                                                                                                                                                                                                                                                                                                                                                                                                                                                                                                                                                                                                                                                                                                                                                                                                                                                                                                                                                                                                                                                                                                                                                                                                                                                                                                                                                                                                                                                                                                                                                                                                                                                                                                                                                                                                                                                                                                                                                                                                                                                                                                                                                                                                                                                                                                                                                                                                                                                                                                                                                                                                                                                                                                                                                                                                                                                                                                                                                                                                                                                                                                                                                                                                                                                                                                                                                                                                                                                                                                                                                                                                                                                                                                                                                                                                                                                                                                                                                    \n",
       "15  Kid saying no getting on your nerves? Read on my friend A kid learns to say no early. They learn its possible from their parents when they say it. They learn its possible for them personally when they accomplish it. There’s nothing wrong with saying no. No is communication, but it’s only half.\\n\\nAs soon as they get to the point where they can give you constructive feedback, ALWAYS follow up with a question about what they DO want.\\n\\nGranted, sometimes saying no... it’s like saying “you missed a spot”, and it doesn’t need much explanation. BUT! Even during times like those, practice giving constructive feedback.\\n\\nIt pays SO MUCH because of how effective it is in cutting frustration.                                                                                                                                                                                                                                                                                                                                                                                                                                                                                                                                                                                                                                                                                                                                                                                                                                                                                                                                                                                                                                                                                                                                                                                                                                                                                                                                                                                                                                                                                                                                                                                                                                                                                                                                                                                                                                                                                                                                                                                                                                                                                                                                                                                                                                                                                                                                                                                                                                                                                                                                                                                                                                                                                                                                                                                                                                                                                                                                                                                                                                                                                                                                                                                                                                                                                                                                                                                                                                                                                                                                                                                                                                                                                                                                                                                                                                                                                                                                                                                                                             \n",
       "16  Rant: How much longer? I am not sure if these are those 'terrible two's' people talk about, but man, it's a struggle. Our daughter turns 2 in November and isn't verbal yet (not too worried about that, honestly). But it means she is rather limited in communicating her wants. So it is an endless NNNNIIIIIIII!!! which can mean \"My diaper needs changing\" or \"I want food\", or \"No, not that food\" or \"I am bored\" or \"I am thirsty\" or a dozen other things and while I run through the checklist, the noise continues.\\n\\nI love her to bits, but man, if this phase stops right now, it wouldn't be soon enough. That noise is driving me nuts, and my wife too. I'm of the mind that telling kids to 'shut up' or yelling is to be avoided, but that principle is being severely tested right now.                                                                                                                                                                                                                                                                                                                                                                                                                                                                                                                                                                                                                                                                                                                                                                                                                                                                                                                                                                                                                                                                                                                                                                                                                                                                                                                                                                                                                                                                                                                                                                                                                                                                                                                                                                                                                                                                                                                                                                                                                                                                                                                                                                                                                                                                                                                                                                                                                                                                                                                                                                                                                                                                                                                                                                                                                                                                                                                                                                                                                                                                                                                                                                                                                                                                                                                                                                                                                                                                                                                                                                                                                                                                                                                                                                                                                                                                                                                                      \n",
       "17  I guess this is a rant My kids hang out with their grandparents a few times a month. And I KNOW when my kids are with them, their grandparents buy them whatever they want. Sometimes toys, mostly food. They take the kids to fun activities and always buy them some kind of sweet from the event.\\n\\nWhen we go to events, I feed my kids beforehand and I do not buy them any sweets. Because of sugar and money.\\n\\nRecently, we did a family trip which included the grand parents. My kids would not stop asking for sweets. We would have just eaten a packed lunch and they would beg for a pretzel, a drink, something sweet. I must have said no over 40 times. I felt the judginess coming from my MIL. My FIL would buy them cookies, donuts, chips, etc while on the trip and then my kids refused to eat dinner because they said they didn’t like it. And then of course, 30 minutes later, they were “starving” I told them they had their chance to eat dinner. My son said it was “children abuse”\\n\\nIt was so annoying.                                                                                                                                                                                                                                                                                                                                                                                                                                                                                                                                                                                                                                                                                                                                                                                                                                                                                                                                                                                                                                                                                                                                                                                                                                                                                                                                                                                                                                                                                                                                                                                                                                                                                                                                                                                                                                                                                                                                                                                                                                                                                                                                                                                                                                                                                                                                                                                                                                                                                                                                                                                                                                                                                                                                                                                                                                                                                                                                                                                                                                                                                                                                                                                                                                                                                                                                                                                                                                                                                                                                                                                                                                                                                                       \n",
       "18  Telling a Child “You’re Miserable to be Around”!!!!???? Would it ever be ok to tell your child “you are miserable to be around”? Even if they were acting up, had a terrible attitude, etc. \\n\\nI am having this conversation with my husband. Of all people.\\n\\nEdit: children are 8, 9 boys and 15 girl. But this is a “what if” type thing. It hasn’t actually been said. It came up in conversation. They are mine, he doesn’t have kids of his own, but we are very “family” and do everything together. They call him dad.                                                                                                                                                                                                                                                                                                                                                                                                                                                                                                                                                                                                                                                                                                                                                                                                                                                                                                                                                                                                                                                                                                                                                                                                                                                                                                                                                                                                                                                                                                                                                                                                                                                                                                                                                                                                                                                                                                                                                                                                                                                                                                                                                                                                                                                                                                                                                                                                                                                                                                                                                                                                                                                                                                                                                                                                                                                                                                                                                                                                                                                                                                                                                                                                                                                                                                                                                                                                                                                                                                                                                                                                                                                                                                                                                                                                                                                                                                                                                                                                                                                                                                                                                                                                                   \n",
       "23  Only one kid showed up to my 5yo’s birthday party Out of twenty-five invitees, only one showed up. I’m just confused why. We have a bounce house, cake, piñata, games, ice cream, we told parents that they could drop their kids off and we would keep everyone safe, etc. \\n\\nEverybody loves her. We got ten last minute phone calls that they couldn’t make it but would bring her present on Monday. It’s just frustrating. I worked my ass off for this party because she wanted it to be special. \\n\\nI guess I’m just venting but it’s disappointing. I know it has nothing to do with us or her because we’re close with everybody and she’s close with all her friends. She’s disappointed but still having fun, I guess. She asked why nobody’s here and I didn’t really know what to say.                                                                                                                                                                                                                                                                                                                                                                                                                                                                                                                                                                                                                                                                                                                                                                                                                                                                                                                                                                                                                                                                                                                                                                                                                                                                                                                                                                                                                                                                                                                                                                                                                                                                                                                                                                                                                                                                                                                                                                                                                                                                                                                                                                                                                                                                                                                                                                                                                                                                                                                                                                                                                                                                                                                                                                                                                                                                                                                                                                                                                                                                                                                                                                                                                                                                                                                                                                                                                                                                                                                                                                                                                                                                                                                                                                                                                                                                                                                                              \n",
       "24  My kid stinks My kid smells SO bad. She's 9 and I've taught her proper hygiene but for some reason she is just not getting it. She showers every other night, washes face and brushes teeth twice a day. I remind her to wash her hands after using the bathroom when she's at home. I don't know what I need to do to make what I say stick?! Currently stuck sitting in my car with her since we can't go anywhere with her smelling so horrible (we had to rush out for a showing at our house) and I can't stand it, even with the windows down. I'm also pregnant so I have super-scent powers atm but even my husband agrees that she smells bad and he's not as sensitive to smell. Anyone else have this problem with a kid of similar age? What did you do or say to make them realize that hygiene is important?                                                                                                                                                                                                                                                                                                                                                                                                                                                                                                                                                                                                                                                                                                                                                                                                                                                                                                                                                                                                                                                                                                                                                                                                                                                                                                                                                                                                                                                                                                                                                                                                                                                                                                                                                                                                                                                                                                                                                                                                                                                                                                                                                                                                                                                                                                                                                                                                                                                                                                                                                                                                                                                                                                                                                                                                                                                                                                                                                                                                                                                                                                                                                                                                                                                                                                                                                                                                                                                                                                                                                                                                                                                                                                                                                                                                                                                                                                                         \n",
       "25  Divorced parents: worth enforcing child support agreement? \\nI'm in a bit of a pickle and could use feedback!\\n\\nMy ex and I split up 3 years ago. We share 50-50 custody. We do not pay spousal support. Our separation agreement has been filed with the court and is a legal contract. He is incorporated as a business owner with a construction company. I am an employee of another company. In past years we have used a 3-year average of our incomes to calculate child support in August of each year (use Canada Federal Child Support Calculator.) This past August his income went down by 40%, according to what he presented. This, in turn, reduced his child support payment to $350 a month. He has refused to follow the rest of the agreement at his discretion(a portion of daycare, specifically.) \\n\\nSince then it's been rolling around in my head to question how he is surviving on such a huge pay cut. I suspect he is income-splitting with his live in girlfriend (wife? Don't know if they're married or not.) This is based on the fact that when I was married to him, he did this with me through his company - it's a tax dodge. It's not illegal, but it's through Revenue Canada, which is separate from Justice Canada, who govern child support.\\n\\nNow, our separation agreement says \"the parties shall exchange sufficient information to determine their guideline incomes... pursuant to the Federal Child Support Guidelines.\" I just checked the guidelines here: https://www.justice.gc.ca/eng/fl-df/fact2-fiches2.html and they do say that a parent may need to provide financial statements if s/he is self employed. That means, to me, that my ex husband has to provide financials for his company. The financials will then reflect whether or not he is splitting income. The Federal Child Support Guidelines say that any wages paid to him from his business must be declared. Wages paid to anyone with whom he has an arms-length relationship must not. The live-in girlfriend, if she is collecting a wage, does NOT have an arms-length relationship, and therefore, her income must be declared.\\n\\nIt's possible that he took a hit of $44,000.\\n\\nIt's possible that he is not income splitting. \\n\\nIn that case, the support payment won't change. But, if he is income splitting and therefore hiding income to calculate a lower child support payment, then he'll have to pay more. This, in turn, is going to piss him off. As it is, he is extremely aggressive towards me, and the new girlfriend absolutely hates me. (I have had roughly 2 conversations with her, and I truly don't know what her problem is, so I just try to steer clear of her completely. I never call their house or him, I never text him, and I email him 1x a week with any details relevant to the kids.) \\n\\nIs it worth it to ask him to share full financials, as required by the separation agreement? There will be serious blow back, lots of angry phone calls, badmouthing me to my kids, and in all likelihood, the only way he's going to stick to the agreement is if a judge orders him to (and even then, I doubt he will - he's waived virtually everything in the separation agreement so far, which would mean he's broken a legal binding contract.) He may withhold permission for me to take my kids to visit family, or to leave the country for their surprise Christmas vacation. He may, potentially, just refuse to return them to me. I truly do not trust him, one iota.\\n\\nShould I suck it up? I can get by with the small amount of child support. My kids and I have a good life. Things are peaceful, for all intents and purposes. On the other hand, this lie of omission is not only breaking the law, but hurts my kids in the long run. What's better? Enforcing the legal agreement that we both signed, or just letting it go? \\n\\nPS: Yes, I've spoken to a lawyer, who's advised that if he has nothing to hide, he should have no reason not to release financials - it's the law. I've also spoken to the mediator who helped us write the agreement, and she says the same. Lastly, this agreement includes his signature saying that he acknowledges he understands the agreement, his obligations in it, and that he obtained independent legal advice to approve it all before he signed it.\\n\\nTLDR; I suspect my ex is hiding income to pay less child support. It's gonna cause drama if I force him to adhere to the agreement and reveal all income. Worth it?\\n\\nETA: am reasonably confident that income splitting is happening based on girlfriend's LinkedIn profile. She lists the company as her employer, effective last spring.  \n",
       "26  Tracking your child’s location I’m curious to know if anyone has ever used a gps tracker/logger with their kids and how it has worked.  \\n\\nI’m looking for one and am having a difficult time determining what to get. I want one that will keep a log of my toddlers locations, and is small enough I can put it in a stuffed animal that is already carried along everywhere. \\nAny info is immensely appropriated!                                                                                                                                                                                                                                                                                                                                                                                                                                                                                                                                                                                                                                                                                                                                                                                                                                                                                                                                                                                                                                                                                                                                                                                                                                                                                                                                                                                                                                                                                                                                                                                                                                                                                                                                                                                                                                                                                                                                                                                                                                                                                                                                                                                                                                                                                                                                                                                                                                                                                                                                                                                                                                                                                                                                                                                                                                                                                                                                                                                                                                                                                                                                                                                                                                                                                                                                                                                                                                                                                                                                                                                                                                                                                                                                                                                                                                                                                                                                                                                                                                                                                                                                                                                                                                                                                                                             \n",
       "27  Ughhhh... It’s crazy how everyone claim that they’ll be there for you, blah blah blah, but when you really need them their “busy” or “have something to do” being a mother and having to make sacrifices that you CAN NOT afford to make is stressful. For instance...calling off of work because you have no babysitter or your child gets sick so you have to leave early. Then you call around and ask for help and LEGIT NO ONE CAN HELP. 😭 Like what’s the point of saying “If you need anything, I’m here” IF YOU ARE NOT REALLY GOING TO BE FUCKING THERE 😡.. I’m legit always helping someone out but when it comes to me no one can help me. I’m a single mother of 3 just trying to make a living. It’s hard... babies I just want y’all to know that I’m really TRYING and always will try for you guys. I just have to find a new SUPPORT system. Because as of right now it’s just me and you guys 😓 I love y’all with everything in ME. JUST KNOW THAT. Sorry guys (readers) just venting 😩                                                                                                                                                                                                                                                                                                                                                                                                                                                                                                                                                                                                                                                                                                                                                                                                                                                                                                                                                                                                                                                                                                                                                                                                                                                                                                                                                                                                                                                                                                                                                                                                                                                                                                                                                                                                                                                                                                                                                                                                                                                                                                                                                                                                                                                                                                                                                                                                                                                                                                                                                                                                                                                                                                                                                                                                                                                                                                                                                                                                                                                                                                                                                                                                                                                                                                                                                                                                                                                                                                                                                                                                                                                                                                                                          \n",
       "32  I'll never follow my passion I've always been attracted to acting. Not just the fame and constant interviews. It's my dream to posess skill to convey emotions and tell amazing stories through acting... even if it means retaking a scene again and again to get it right... even that sounds like so much fun.\\n\\nI grew up enacting scenes in front of my bathroom mirrors, or basically anywhere I was alone. I'll be a british agent that needs information and the next day I'll be a broken hearted ball of tears... and so on. Its so much fun. Whenever I ran errands with my mother in my Recital Make up (Competitive Ballet, San Francisco) I always remember people giving my mom their business card to do commercials (like McDonalds) and I always ached to do them, but my mother would always say \"theyre not real, they'll kidnap you\" and I would never get the chance.\\n\\nIt was my choice to have kids and I blame only myself for my choices. But I know that if I never had kids, I'd be chasing my dream in Southern California.  \\n\\n\\nI just cant help but sulk here, being home all the time changing diapers and trying to control tantrums.                                                                                                                                                                                                                                                                                                                                                                                                                                                                                                                                                                                                                                                                                                                                                                                                                                                                                                                                                                                                                                                                                                                                                                                                                                                                                                                                                                                                                                                                                                                                                                                                                                                                                                                                                                                                                                                                                                                                                                                                                                                                                                                                                                                                                                                                                                                                                                                                                                                                                                                                                                                                                                                                                                                                                                                                                                                                                                                                                                                                                                                                                                                                                                                                                                                                                                                                                                                                                                                                                                                                                                         "
      ]
     },
     "execution_count": 230,
     "metadata": {},
     "output_type": "execute_result"
    }
   ],
   "source": [
    "misclassified_df[misclassified_df['true_values']==1] # misclassified parenting posts"
   ]
  },
  {
   "cell_type": "code",
   "execution_count": 232,
   "metadata": {
    "ExecuteTime": {
     "end_time": "2019-10-24T15:02:57.353430Z",
     "start_time": "2019-10-24T15:02:57.331614Z"
    }
   },
   "outputs": [
    {
     "data": {
      "text/html": [
       "<div>\n",
       "<style scoped>\n",
       "    .dataframe tbody tr th:only-of-type {\n",
       "        vertical-align: middle;\n",
       "    }\n",
       "\n",
       "    .dataframe tbody tr th {\n",
       "        vertical-align: top;\n",
       "    }\n",
       "\n",
       "    .dataframe thead th {\n",
       "        text-align: right;\n",
       "    }\n",
       "</style>\n",
       "<table border=\"1\" class=\"dataframe\">\n",
       "  <thead>\n",
       "    <tr style=\"text-align: right;\">\n",
       "      <th></th>\n",
       "      <th>true_values</th>\n",
       "      <th>title+post</th>\n",
       "    </tr>\n",
       "  </thead>\n",
       "  <tbody>\n",
       "    <tr>\n",
       "      <th>1</th>\n",
       "      <td>0</td>\n",
       "      <td>The library is not a hotel. TAKE YOUR DAMN KIDS HOME! You'd think that with school having started back up, the library would be much quieter all around. **WRONG.** We have middle/high school students here working on their homework or volunteering, which is fine. What isn't fine is when they steal our paper and supplies without asking if they can use it beforehand just for some stupid project that they're working on. *THESE THINGS COST MONEY AND IT REFLECTS BADLY ON US!*\\n\\nThe worst part of it all is when we have our closing hours at 9, but **THEY'RE STILL HERE.** The parents let their toddlers or babies screech or run around when they should be in bed! Who do you think has to put back around 20-something books or pick up half-eaten cookies off the floor??? This is not a hotel, and even if it was, you are not obligated to let your children run around and make a mess of the place! *GO FUCKING HOME ALREADY!*</td>\n",
       "    </tr>\n",
       "    <tr>\n",
       "      <th>2</th>\n",
       "      <td>0</td>\n",
       "      <td>Stuck in a hard place and just want to develop cohesive thoughts I’m a female, about to turn 30 and have been married to my husband for just over 4 years. Wayyy back when, during our premarital class (required by my Lutheran church where we had the ceremony) we had the talk. At that time we both agreed 1-2 kids would be good. In between then and now, my husband went back to night school and got an MBA, which he recently finished. He’s starting to get the baby fever, since we agreed well before he’d started that we weren’t going to have kids while he was working on it (it was always in his plan to get the MBA). \\n\\nIn that time, I’ve slowly been losing the desire to have children, to the point it’s not in my wants. We have a lot of neighbors with kids, some of whom are wild and can be heard screaming outside while I’m inside with all windows and doors closed. I cringe in those moments, or any time a baby screams in public. \\n\\nI’ve stated my position many times to my husband, and I’m not sure he believes me/wants to see the benefit of how we have it now. I get children can be rewarding, but you have to want them. \\n\\nI love my husband, doing things with him, and our current situation. \\n\\nI’m fairly certain I need to take this to a professional to talk it out, but wanted to start here in case anyone has been in the same boat.\\n\\nSorry if formatting is crap, mobile user :/ Thanks for reading!</td>\n",
       "    </tr>\n",
       "    <tr>\n",
       "      <th>3</th>\n",
       "      <td>0</td>\n",
       "      <td>These are all the \"toddler\" issues I can handle If I flared this wrong, I apologise. I wasn't sure what else to tag it.\\n\\nI have a 4 year old dog and 6 month old kitten. My boyfriend wakes up at 4:30 for work and I'm laid off right now so I wake up with him. Normally this isn't a problem, but last night I couldn't fall asleep until about 11. \\n\\nThe kitten regularly wakes me up at 3 or 4 trying to nurse on my earlobes. I've started sleeping with a blanket that she tries to nurse on so I can move her to that when she starts trying to nurse on me, but it wasn't working last night. \\n\\nOn top of that, last night the dog started getting jealous of the kitten getting attention, so she was pawing at her and they started playing on top of me. Every morning as soon as the alarms go off, the dog gets super excited (understandably) and starts jumping on me and my boyfriend licking our faces. The kitten gets the zoomies and sprints around the apartment, including running over my face. \\n\\nIt's not the end of the world since I can sleep during the day, and normally the morning routine doesn't bother me. But thinking of how much worse babies and toddlers are... It's just a nightmare. \\n\\nI know for a fact that I couldn't handle it. I would be an abusive, shitty, neglectful parent. I would resent the kid. I would be so mad and frustrated and impatient. I would hate them and hate dealing with them. I'm the exact kind of person who shouldn't have kids, and I am 5,000% ok with that. Thank fuck my boyfriend and I are both going to get fixed, and that this is the most \"toddler\" stuff I'll ever have to deal with.</td>\n",
       "    </tr>\n",
       "    <tr>\n",
       "      <th>4</th>\n",
       "      <td>0</td>\n",
       "      <td>Sooo somehow you having a child equates to me being miserable as well ??? This little story happened a while ago but I still remember it like it was yesterday because I was so mad about it for days afterwards and I still get mad when I think about it.\\n\\nAlso disclaimer: non-native speaker and this is pretty long you’ve been warned.\\n\\nAlso also quick side note: in school we had these I guess quick pop quizzes were one student out of the entire class gets picked to do a few questions on the board and then gets a grade on that depending on how well he did. I hope everybody understands this ramble and now on to the story.\\n\\nOnce upon a time while I was still in school I had this math teacher who had just gotten back from her time off as a new mom. She took on our tenth grade math class again and everything seemed normal for a while. \\nBut then came the day on which I began to severely dislike this woman.\\n\\nYou see at my school there was this kind of unwritten rule that you were allowed to go up to your teacher at the beginning of the lesson and excuse yourself so that you wouldn’t have to take aforementioned pop quiz. Every teacher handled this differently. Some gave you one free pass, others three but this woman ? \\n\\nWell on this particular day I had gotten exactly one hour of sleep, was coming down with something and on top of that had to study for some kind of big upcoming test. Needless to say I felt and looked like shit and was more zombie than human. \\n\\nSo I go up to her tell her everything and you know what that bitch says ?!\\nWell I have a 5 month year old at home and I get stressed and tired too but I can’t just excuse myself and not prepare my lessons for all of my classes so neither are you allowed to do that. You can’t just let your responsibilities slide like that.\\n\\nMy jaw was literally on the floor. This bitch honestly had the fucking nerve to compare herself, a grown up teacher with a husband a salary and a baby at home to a sixteen year old student. \\nLike WHAT ?! \\n\\nSadly I didn’t call her out on this because I was young and she was my teacher but looking back as a 22 year old I wish I had. \\nHonestly the nerve of this woman, like just because you are apparently miserable now doesn’t mean you have to bring everyone else down and most of all you can’t start gatekeeping being tired or stressed you cunt!! \\n\\nAlso thanks for being one of the countless reasons for me being childfree. If having a child makes you that petty that you have to take your anger out on teenagers than I want no part of that.\\n\\nIf you made it this far, thanks for reading my ramblings I appreciate it. \\nI really needed to get this of my chest.</td>\n",
       "    </tr>\n",
       "    <tr>\n",
       "      <th>5</th>\n",
       "      <td>0</td>\n",
       "      <td>Halloween Curious about what you guys do on Halloween, do you give out candy to the little ankle biters? I did last year and it was OK I guess. Normally my husband and I would go out but we now have two dogs and I don't like leaving them alone with so much commotion going on outside. Also my neighbors kids are total brats who I can't stand. \\n\\nI'm just curious. 🤷‍♀️</td>\n",
       "    </tr>\n",
       "    <tr>\n",
       "      <th>8</th>\n",
       "      <td>0</td>\n",
       "      <td>Traveling/vacations without kids is amazing!! Just got back from a week in Newport, CA (US) and I’m looking back at how wonderful it was not worrying about little ones! \\n\\nNo worrying about kids fighting each other, or kids whining about getting the wrong flavor of ice cream, or getting pickles on their burgers, or crying and screaming about long lines at amusement parks (which wasn’t even that bad most the time), or 5 million bathroom trips (not their fault they just have mini bladders), or waking them up to get into the hotel or to get back home...\\n\\nTonight, all I had to do when I got home was grab a few of my things, throw car trash away, and relax from a 12 hr drive home with my hubs (2 or so hrs were added from various stops). \\n\\nHow does it get any better than this? ♥️\\n\\n(Well I could have a job that doesn’t suck my soul and spirit out but that’s not the focus here lol)</td>\n",
       "    </tr>\n",
       "    <tr>\n",
       "      <th>10</th>\n",
       "      <td>0</td>\n",
       "      <td>Puppies vs. Children I got a puppy about a month ago and he is so amazing. A lot of friends and family are visiting often to meet him because he won’t be a puppy for long! \\n\\nMy older sister has a friend with a 2 year old son, and she came to visit today to meet my pup. He is a very calm child and he’s pretty cute. But he recently just started walking/running on his own. Just watching him today was a great reminder of why I don’t want children. People compare having puppies to having a newborn child. But I just don’t agree. \\n\\nWhen you think about it, I have had my pup for 1 month and he is about 3.5 months old. I have taught him to sit, lay down, give me paw, drop it, come and stay and he is also fully potty trained now. Meanwhile, my sisters’s friend has a 2 year old that doesn’t come when his mother calls him, he won’t sit still, he will pick up everything in his sight and throw it, he needs his diaper changed throughout the day, he still has to be hand fed and he really only started walking a few months ago.\\n\\nDon’t get me wrong, having a puppy is hard work, and I’m pretty tired from waking up in the middle of the night to take him outside or getting up at 5am everyday to feed him. He cries at night while we’re still in crate training mode. But I know this stage of his life will only last a few more months. And honestly, it’s not nearly as difficult as I imagine a baby would be. At least my “baby” can walk at his age. Basically what I am trying to say, is that my puppy has been alive for 3.5 months and he’s already learned a lot and is more well behaved than a 2 year old human being. \\n\\nI love being a mom. But only as a Dog Mom. My puppy is great and I am so happy he’s not a human baby. \\n\\nDon’t worry, here is my [Puppy Tax](https://imgur.com/qzcOlR6)\\n\\n [Edit: another tax because he’s cute](https://imgur.com/vWhKZlI)</td>\n",
       "    </tr>\n",
       "    <tr>\n",
       "      <th>11</th>\n",
       "      <td>0</td>\n",
       "      <td>Don't tell me my priorities. **Update**: Good Morning all, first thank you for the support. It really means a lot, and takes a weight off my shoulders. Honestly, I felt like I like I had an obligation. You guys helped clear that up.   \\n\\n\\nI spoke to my buddy this morning on his discord server, he saw that I was on and pinged me:\\n\\nFriend: Hey dude, any update on whether or not you can watch \"son\"?  \\nMe: Whats up man, can you talk right now over mic? \\n\\n\\*hooks up\\*\\n\\nMe: Listen man, I can't watch \"son\", I've got too much going on to just bounce out in the middle of the day. Between the \"X\" this month,\"Y\" next moth and \"Z\" around the corner I can't. \"A\" &amp;amp; \"B\" are on their vacations, I need to be at work. \\n\\nFriend: Ah. Yeah man, I get it. That sucks dude, but OK thanks anyway. \\n\\nI wanted to follow up and say something along the lines of - \"Yeah man, sucks I can't watch your kid for free and enable you guys to kind of do what you want.\" \\n\\nBut honestly my fight isn't with him, it's with the wife. \\n\\nENTER THE FUCKING WIFE. \\n\\nWe have a group chat - for some reason, mainly it's her sharing shit and old memes. \\n\\nHer: Awww, Xjanko (She calls me by the nick name her son has given me, because my name is difficult to pronounce) \"son\" was so excited to see you. \\n\\nI can tell she's trying to leverage/emotionally manipulate me - and I prefer not to be rude.\\n\\nMe: Yeah, that's too bad. I have more pressing matters to take care of at work. \\n\\nHer: Lol, if you say so. \"Son\" just wants to see you. \\n\\nI didn't respond. \\n\\nSurprisingly enough, my friend is suddenly too tired to go out tonight to celebrate another friend's birthday. \\n\\nI hate this shit. I feel for my friend, because I know he genuinely wanted to come and hang out with everyone, it's been a while since he's been able to. \\n\\nAny way, thanks again for the support guys. \\n\\n\\-----\\n\\nI can't just leave fucking work to pick your child up from school and then watch him in the afternoon.\\n\\nSo my old mentor/good friend, his wife and son (3) recently moved to the area I work in. He is working in a different section of the organization that requires a lot of strange hours, and he's about a solid two hour drive from his home.\\n\\nI am now a work center manager (thanks a lot to his guidance) and in a pretty senior position within my organization. Two of my guys are on leave, (honeymoon and well deserved vacation) - and I'm really running the show more hands on than usual.\\n\\nNothing exceedingly crazy, just requires me to be more actively engaged with the day to day than usual versus managing larger picture items for the longer term.\\n\\nSo my friend's wife wants to travel (I hope for work, but I *suspect* it's for fun disguised as work), and needs me to pick up their kid from school, and then watch him for about 2 hours in the middle of the afternoon for about 3 days in the middle of the work week.\\n\\nI reply that I'll have to see, because the next month is super critical.\\n\\nHolidays basically every one leaves, so anything that is not done/prepared before the major holiday- becomes a shit show rush to get done in the new year. Additionally there is critical work that has a hyper-sensitive window that may occur during that time. Said work takes about a year of orchestrating culminating in 3-5 days of intense activity.\\n\\nHusband totally understands. No problem dude - get with me as soon as you can, so I can know.\\n\\nWife insists that the childcare situation is more important, and she needs to know now. I need to go talk to my higher ups to make sure I can take off in the middle of the work day to care for a child that is not mine.\\n\\n*Slow your fucking role.*\\n\\nIt's not like we have a **major** audit from corporate coming up. (We do).\\n\\nIt's not like we have a major project entering completion phase that we've literally been working on since May 2018. (We do). Edit - To clarify this is literally the shining jewel of the organization with C-Suite and board level attention.\\n\\nI want to help my friend out. Really I do, he has been dealing with some mental health issues the past few years, and I genuinely want to help.\\n\\nBut fuck. I really hate when other's make demands of me.\\n\\nAside from the whole fact that it will cost my team a lot if I do this - I plain just don't want to because of how off-putting the wife's tone.</td>\n",
       "    </tr>\n",
       "    <tr>\n",
       "      <th>13</th>\n",
       "      <td>0</td>\n",
       "      <td>Career things I can do without kids! So I decided on a communication degree and start that next semester. Goal right now is copywriting but with the degree I've chosen I'll have dozens of options if I decide I change my mind.\\n\\nWith no soccer practice or ballet or playdates or feedings to worry about, I can devote time to honing my writing and building a portfolio AND still get eight hours of sleep. Instead of being the working, learning parents who gets three hours of sleep that you always see in online college commercials. Going to a community college by the way, no ITT Tech or UoP for me! $6000 for an associate's isn't too bad!\\n\\nSorry if this sounds disorganized, it's 5:48 in the morning and I didn't sleep well last night.</td>\n",
       "    </tr>\n",
       "    <tr>\n",
       "      <th>14</th>\n",
       "      <td>0</td>\n",
       "      <td>There's a reason I don't like kids So I'm sitting at home watching TV and my sister brings her 1 year old and it starts walking around the living room where the tv is. At first I try to ignore it , even when it's walking up to my legs trying to get my attention. I wave back and then continue watching. But the little thing won't stop hovering around me so I move my legs and pick them up so she can't reach and I get scolded because I made her fall. She never cried or anything but now it's a rule that I must drop whatever I'm doing for it. Even if it's not mine . And to just deal with it. Even when I go to another room my sister will go \" where's Anon? Let's go find him\" .</td>\n",
       "    </tr>\n",
       "    <tr>\n",
       "      <th>19</th>\n",
       "      <td>0</td>\n",
       "      <td>I am forced to babysit my younger siblings almost daily. (I just want to apologize if this isn’t acceptable in this reddit, I just wasn’t sure where to go.)\\n\\nHi, my name is Carrie. I’m currently 17. I’m not here to tell you my life story, but in order for you to understand this rant (if anyone actually reads it) I feel like I have to tell you a little bit about my past. I’ve always had very bad mental health, multiple suicide attempts, anxiety attacks almost everyday, cutting, not eating, etc., but anyways, to cut to the point of my past, my dad was abusive to everyone so my parents divorced and that’s where I was forced to play the second parent. When I was 10, that’s when I started to have to take care of my little brother, he’s 4 years younger than me. It wasn’t that hard at first since it’s just him and we got along pretty well. My mom then had my littlest brother, my parents divorced very shortly after he was born. He was recently diagnosed with autism, so it’s a little harder to babysit. My mom works 5 days a week, typically it’s a 6am-7pm shift. I do online classes instead of going to school because I currently behind. I haven’t had much of a problem until recently, I feel like I’m a prisoner in my own home and I feel like I’m losing my teenage years due to being a parent I never signed up for. I get frustrated very easily now and I even start to yell and hit things (not the kids, just like the wall). My mom doesn’t know because I’ll just get in trouble. I can tell it is effecting my mental health. I understand that my mom needs to work to have money for us, I really do understand that, but I don’t want to do this anymore. I feel like I’m at my breaking point and I’m gonna snap one day. \\n\\nI want to clarify, I’d never hurt my brothers and I love them to death, so please don’t think otherwise.\\n\\n(EDIT:\\n\\nThank you guys for the support, help, and ideas. I feel like I left some details out that might help. \\n\\nMy littlest brother does in fact go to a special school for kids with autism, but he only goes two days a week, but only for 3 hours. And yes it’s a nice little break so I can do whatever homework or chores I have. But I still have to deal with my other brother, it’s horrible with him. He is an exact copy of my dad, he doesn’t listen at all and he’s very abusive. And I know it sounds stupid that my little brother acts in an abusive way towards me, but he does not take me seriously. He’s even gotten physical with me when he doesn’t get what he wants. And yes, I tell my mom, but he just gets a little slap on the wrist and he doesn’t take her seriously either. I’ve had many breakdowns because of him, no matter what I do or say he doesn’t listen. And he significantly larger than me so he could easily push me around. \\n\\nThose for saying I should talk to a counselor or family: I don’t have much family and I don’t have a school counselor. When I went to public school, I did talk to my counselor but she never really helped and she sent child services to my house because I brought up something that happened but that’s the most action that’s happened. My family is small and it always has been. But there’s a fight going on in the family right now, and for some reason they’re mad at me so no one is talking to me. I have my grandma and my two aunts. I’m not allowed to tell my family about my mental health. That’s what I was told by my mom. That’s the thing about my mom, if it makes her look bad I’m not allowed to say it. And my two aunts know about my mental health very much, but they’re too focused on my cousin because she’s the “first baby” of the family. And I wish I was exaggerating that. I don’t tell my mom anything about my mental health getting worse because everytime I’d try to talk about it it suddenly turned to her and how her life is so much harder. I get completely shut down, if I make one mistake she always has the same three threats: she threatens to get rid of my cat (not certified yet, but my emotional support animal), she threatens to send me to live with my abusive dad, and she threatens to send me to an asylum. When I took a bunch of pills to overdose, I told her and she simply dismissed me and the only reason I went to the hospital is because the school sent me. She is also very, I guess rude, to me. She told me that she gets mad at me easily simply because I look like my dad and my brothers don’t. She yells at me over every little thing, as I was typing this paragraph she called me out of my room and just started yelling because I was just in my bed. We argue a lot because she nags me so much and badgers me. I don’t hate my mom and I don’t want her to get into any trouble because my brothers need her, but I don’t know what to do. )</td>\n",
       "    </tr>\n",
       "    <tr>\n",
       "      <th>20</th>\n",
       "      <td>0</td>\n",
       "      <td>I don't know what to title this. I literally tried like three other titles, but I couldn't think of any that actually described the situation in TLDR manner.\\n\\nThis happened almost a year ago when I was spending time with my grandma. Now, my Dad divorced my Mom almost six years ago, which of course means my Dad got together with a woman who already had a 24 year old daughter and grandkids. \\n\\nNow my Dad's girlfriend, who I will call Janette, is a very demanding person. She will only agree with things that don't concern her grandchildren, and if anything comes up even remotely mentioning the two little crotch stains she either gets all out yelling defensive, or mocks them like they aren't in the room (which they are, most of the time).\\n\\nSo, we were sitting around the small outdoor table my grandmother has in front of her house talking about whatever came to mind. Of course, Janette has to bring up her grandchildren because why the fuck not it's not like nobody else cares. \\n\\nBefore I go any further, I would like to mention that these grandchildren have a cacophony of issues. Both the younger and older have very bad attention issues, which prompts them to make loud noises, make scenes, and yell at people to watch whatever retarded kids show they're watching. This is mostly because their mother, Janette's daughter, lets the TV raise them instead of doing anything. \\n\\nThe two also have many other problems. The eldest constantly gets himself hurt, which then leads to other medical problems since from what I've seen his body can't heal any kind of injury without medical help. He also gets sick every other week, which is a lot more than normal. The youngest on the other hand, is a very punchy little kid who'll fight with his brother over every little thing. He will then cry when he is either disciplined or things go wrong like the eldest fighting back. \\n\\nJanette says that she doesn't know what to do anymore since her grandchildren refuse to listen to any disciplinary action and change for the better. Part of this is because Janette's daughter reverses any kind of disciplinary process by letting them have whatever the fuck they want when they're with her. \\n\\nOf course, neither me or my grandma can actually bring this up because Janette will get angry. So we let her continue her little tirade, which eventually culminates in her wondering if they have something wrong with them mentally.\\n\\nOf course, being the person who had ADHD and borderline Autism (I mean the real Autism not the internet insult) I know exactly why the grandkids act the way they do, because I did the same thing as a kid. Not to mention I had to sit and watch as I learned that Janette's daughter has mental illnesses like depression, ADHD and Bipolar Disorder and takes NONE OF HER MEDS. \\n\\nSo I decided it was time to actually say something. I of course ask something across the lines of \"have you ever considered they have mental issues?\" Which I will admit was a very bad way to put it, but either way Janette gets angry. \\n\\nShe looks at me and says that I don't know anything because she's taken her grandchildren to fifteen different doctors and they've never mentioned anything like Autism (which says a lot about the doctors in Michigan) and that if I wanted to insult her grandchildren then I could do so somewhere else.\\n\\nI say that I wasn't trying to insult her second generation semen demons and go on to say that I was the same way her grandkids are when I was their age, the only problem is that they don't have the medicine they need and the discipline that they need. \\n\\nI promptly ended the conversation by leaving, which I'm sure Janette had a fit about to my grandmother. \\n\\nAnd now almost a year later I learn that Janette has been spewing shit along the line of \"My kids have Autism so please don't mind them\". \\n\\nI can't explain in words the extent to which this infuriates me. It was already a leap to be angry at me for bad parenting, but to turn around and start using what I said as a reason to excuse your kids for their bad behaviour?\\n\\nNews flash, it's not an excuse. It's an explanation. There is a huge difference between the two. It explains why your kids are energetic, but it does not exempt them from the discipline they should be receiving. So not only do you twist my words to your benefit, but you also use it as a reason to retract any kind of disciplinary effort you already had? \\n\\nI could vomit in anger right now just recalling it. \\n\\nSo, moral of the story: Janette is an absolute failure of a parent, her grandchildren will grow up to be good for nothing delinquents if everything goes the way she wants it to, my grandmother will be stuck in the middle (which I am not happy about at all) and I will forever be stuck with my hatred of both Janette and her shitty grandkids. \\n\\nI apologize for my rant, I just needed to convey my anger in words and explain exactly why I should be able to beat sense into people.</td>\n",
       "    </tr>\n",
       "    <tr>\n",
       "      <th>21</th>\n",
       "      <td>0</td>\n",
       "      <td>So you can't handle three, so you have more? First off, I would like to preface this by saying I understand having children is stressful and difficult (some of the reasons I don't have any), and that everyone has bad days. \\n\\nSo I work in a box retail store, and see many of the same people, and see all kinds of behaviour, including shitty kids and parents. Just saw this family that I hadn't seen in a bit, since they had just had twins that were born a month or two early. \\n\\nThey already had three kids (a girl that is 4, a girl that is 3, and a boy that is 2) that are always a terror, running around screaming and throwing things, having tantrums when not getting what they wanted, and their parents are no better, ignoring all their kids' shitty behaviour to bicker with each other over everything under the sun.\\n\\nSo they come in tonight with all 5 kids now, the oldest 3 screaming about wanting McDonalds, and the newborns screaming because they're newborns. The parents are fighting about something, and soon the kids are grabbing clothes and hats, not sitting in the cart, hitting each other, everything you can imagine. \\n\\nAll of a sudden the mom just starts shouting about how she can't handle all of this, and that she just needs to get through the store. The dad tries to calm the mom down, but she just starts yelling at him. Then they just abandon their cart and go to leave.\\n\\nThen the oldest has a complete meltdown, screaming and crying, running around and hitting her parents. Why? She doesn't want to put on her coat. Smh.\\n\\nAll of this makes me wonder, if she already couldn't handle three, why have more? I understand that you can't predict twins, or it may have been unplanned, but you'd think after 3 kids under the age of five, you,'d be trying real hard to stop from getting pregnant again! \\n\\nMakes me so glad I never made that mistake. I knew from a young age that I couldn't handle kids, and it took my boyfriend a long time to come to terms with the fact that he won't have any more (he has a daughter from an ex), not as long as he's with me, that is. \\n\\nI just don't understand why you'd have more if you couldn't handle the ones you have.</td>\n",
       "    </tr>\n",
       "    <tr>\n",
       "      <th>22</th>\n",
       "      <td>0</td>\n",
       "      <td>What age is the right age to get an endometrial ablation? + Period rant I am 17 years old, and ever since I was young, I’ve hard these excruciatingly painful periods. It usually only happens during the first day, but going to school with them has been absolutely horrible.  My nmom refuses to take me to a doctor or let me have painkillers (and there’s no one else in my life who can get me there), so I have to steal from her when she’s not around or hoard them whenever I find any laying around the house. I only ever use them on the first day, however, and even today as I’m off to school I decided to try a heating pack so I can stop relying on medication. I tried convincing her to let me go on the pill, and even tried finding ways to get it myself (although I’d have to pay AND it’s coming to her address). Nothing has come out of it.\\n\\nMy periods are usually irregular, lasting 5 days max, yet happening almost every other month. The pain makes me so freaking suicidal to the point where I sat in my kitchen for 10 minutes this morning contemplating whether I should go to school or go upstairs and hang myself. Even here on the bus as I type this Ijust want to stab myself with scissors or do something, ANYTHING to end the pain. I’m sweating, I feel like I’m going to collapse, and I have to pee every five seconds (which doesn’t work at school because class). It doesn’t help that I already have severe depression. I’ve read the symptoms of endometriosis and I’m pretty sure I don’t have that, but I can’t be too sure. I never want kids. EVER. And having to deal with this is so unbearable. I’m exhausted just typing this.\\n\\nI’ve heard that if you get an ablation at a young age, the lining will grow back and raise hell. I wanted to get one in college, but I’ve heard that it’s best to wait until your 30s for it to be permanent. \\n\\nWhat age do you recommend getting an ablation at? For women who have had an ablation, what age did you get yours, and was it permanent?</td>\n",
       "    </tr>\n",
       "    <tr>\n",
       "      <th>28</th>\n",
       "      <td>0</td>\n",
       "      <td>Screaming 3 year old Thanksgiving This kid has always been bratty but holy **** I thought it'd be over by now.  He screams whenever things don't go his way and the parents either make empty threats or argue about how to handle situation.\\n\\nHe simply refuses to eat anything that's not sugar or pizza, and his parents have indulged his unbalanced diet since when he was younger he was underweight. So when he was asked to eat during dinner he screams bloody murder.\\n\\nAnyone know when he might grow out of it, at least the screaming? Thank goodness i dont see him often.</td>\n",
       "    </tr>\n",
       "    <tr>\n",
       "      <th>29</th>\n",
       "      <td>0</td>\n",
       "      <td>Spotted this spray paint poem, thought it fit.</td>\n",
       "    </tr>\n",
       "    <tr>\n",
       "      <th>30</th>\n",
       "      <td>0</td>\n",
       "      <td>What happens when you get tipsy at family dinner. Got a little too tipsy at Thanksgiving tonight and let it slip I'm childfree. I've never had someone Bingo me before but boy did my partner's family make up for that. Currently hidding from them outside having a toke. A habit I wouldn't be able to afford with kids. Call me selfish but I like spoiling myself. Send good vibes my way. Gotta make it through this weekend. Any tips appreciated.</td>\n",
       "    </tr>\n",
       "    <tr>\n",
       "      <th>31</th>\n",
       "      <td>0</td>\n",
       "      <td>Brats invading a college campus during peak class hours I was spending my nice, quiet gap between classes enjoying my lunch and catching up on some homework. It was like the calm before the storm - out of nowhere, I hear a terribly cry \"KEEP TO THE RIGHT OF THE SIDEWALK!,\" followed by endless shrieky voices. I look out the library window to see a menacing caterpillar-esque line of brightly clothed toddlers clogging up our only main sidewalk used to get to all the main class buildings. Peppered amongst the rowdy students, they wreaked havoc and caused major transportation delays, as their awful screams bounced off the building walls and echoed throughout campus. How wonderful to have such a loud nuisance on campus during peak midterms week! /s\\n\\n- End Scene - \\n\\nBut seriously, who the fuck thinks it's a good idea to pile toddlers/young children onto a bus and take them to a college campus? They don't know what they're doing, they can't even recognize what it is. There's nothing pretty to look at either, just bland gray architecture. *I* don't even want to be here sometimes, but I do enjoy my education so far. \\n\\nIt's beyond me why having a field trip to the most boring place imaginable (for children) was suggested. They cause immense foot-and-road traffic (we already have car congestion as it is, we certainly don't need those god-awful cheese busses everywhere), and they make us late to class because they clog up all the sidewalks like chicken bones in a garbage disposal. And all of this during midterms week - just why???</td>\n",
       "    </tr>\n",
       "    <tr>\n",
       "      <th>33</th>\n",
       "      <td>0</td>\n",
       "      <td>Is anyone here a stay-at-home wife or husband? Curious to see if anyone in this community is a stay at home husband or wife without kids. I recently took 2 weeks leave to just stay at home and relax. And I absolutely loved it! I loved being able to keep our house spotless and cooking every night (my partner and I work complete opposite schedules so I’m never home for dinner). I even got to spend 2 weeks just hanging out with our cat who has separation anxiety. \\n\\nHas anyone else decided to stay at home or work part time to spend more time at home? What has your experience been?</td>\n",
       "    </tr>\n",
       "    <tr>\n",
       "      <th>34</th>\n",
       "      <td>0</td>\n",
       "      <td>Kid's Parties and Baby Showers BLECK! So, my husband's niece had a child a few years ago and I had to suffer through her kid's birthday parties. I hate kid's parties. They are miserable for me. My husband guilts me into going every year \"because that's what family does.\" Except...they know I'm not a kid person so Im not sure why they haven't stopped inviting me.\\n\\nNow she is pregnant and having party after party.  Reveal...baby shower.  Probably more coming. I dont want to go but I dont want to be an ass. I already faked being sick to get out of the reveal party. In the next month is her baby shower and her son's birthday party. \\n\\nDear god help me figure out how to not have to go to this shit anymore.</td>\n",
       "    </tr>\n",
       "  </tbody>\n",
       "</table>\n",
       "</div>"
      ],
      "text/plain": [
       "    true_values  \\\n",
       "1   0             \n",
       "2   0             \n",
       "3   0             \n",
       "4   0             \n",
       "5   0             \n",
       "8   0             \n",
       "10  0             \n",
       "11  0             \n",
       "13  0             \n",
       "14  0             \n",
       "19  0             \n",
       "20  0             \n",
       "21  0             \n",
       "22  0             \n",
       "28  0             \n",
       "29  0             \n",
       "30  0             \n",
       "31  0             \n",
       "33  0             \n",
       "34  0             \n",
       "\n",
       "                                                                                                                                                                                                                                                                                                                                                                                                                                                                                                                                                                                                                                                                                                                                                                                                                                                                                                                                                                                                                                                                                                                                                                                                                                                                                                                                                                                                                                                                                                                                                                                                                                                                                                                                                                                                                                                                                                                                                                                                                                                                                                                                                                                                                                                                                                                                                                                                                                                                                                                                                                                                                                                                                                                                                                                                                                                                                                                                                                                                                                                                                                                                                                                                                                                                                                                                                                                                                                                                                                                                                                                                                                                                                                                                                                                                                                                                                                                                                                                                                                                                                                                                                                                                                                                                                                                                                                                                                                                                                                                                                                                                                                                                                                                                                                                                                                                                                                                                                                                                                                                                                                                                                                                title+post  \n",
       "1   The library is not a hotel. TAKE YOUR DAMN KIDS HOME! You'd think that with school having started back up, the library would be much quieter all around. **WRONG.** We have middle/high school students here working on their homework or volunteering, which is fine. What isn't fine is when they steal our paper and supplies without asking if they can use it beforehand just for some stupid project that they're working on. *THESE THINGS COST MONEY AND IT REFLECTS BADLY ON US!*\\n\\nThe worst part of it all is when we have our closing hours at 9, but **THEY'RE STILL HERE.** The parents let their toddlers or babies screech or run around when they should be in bed! Who do you think has to put back around 20-something books or pick up half-eaten cookies off the floor??? This is not a hotel, and even if it was, you are not obligated to let your children run around and make a mess of the place! *GO FUCKING HOME ALREADY!*                                                                                                                                                                                                                                                                                                                                                                                                                                                                                                                                                                                                                                                                                                                                                                                                                                                                                                                                                                                                                                                                                                                                                                                                                                                                                                                                                                                                                                                                                                                                                                                                                                                                                                                                                                                                                                                                                                                                                                                                                                                                                                                                                                                                                                                                                                                                                                                                                                                                                                                                                                                                                                                                                                                                                                                                                                                                                                                                                                                                                                                                                                                                                                                                                                                                                                                                                                                                                                                                                                                                                                                                                                                                                                                                                                                                                                                                                                                                                                                                                                                                                                                                                                                                                                 \n",
       "2   Stuck in a hard place and just want to develop cohesive thoughts I’m a female, about to turn 30 and have been married to my husband for just over 4 years. Wayyy back when, during our premarital class (required by my Lutheran church where we had the ceremony) we had the talk. At that time we both agreed 1-2 kids would be good. In between then and now, my husband went back to night school and got an MBA, which he recently finished. He’s starting to get the baby fever, since we agreed well before he’d started that we weren’t going to have kids while he was working on it (it was always in his plan to get the MBA). \\n\\nIn that time, I’ve slowly been losing the desire to have children, to the point it’s not in my wants. We have a lot of neighbors with kids, some of whom are wild and can be heard screaming outside while I’m inside with all windows and doors closed. I cringe in those moments, or any time a baby screams in public. \\n\\nI’ve stated my position many times to my husband, and I’m not sure he believes me/wants to see the benefit of how we have it now. I get children can be rewarding, but you have to want them. \\n\\nI love my husband, doing things with him, and our current situation. \\n\\nI’m fairly certain I need to take this to a professional to talk it out, but wanted to start here in case anyone has been in the same boat.\\n\\nSorry if formatting is crap, mobile user :/ Thanks for reading!                                                                                                                                                                                                                                                                                                                                                                                                                                                                                                                                                                                                                                                                                                                                                                                                                                                                                                                                                                                                                                                                                                                                                                                                                                                                                                                                                                                                                                                                                                                                                                                                                                                                                                                                                                                                                                                                                                                                                                                                                                                                                                                                                                                                                                                                                                                                                                                                                                                                                                                                                                                                                                                                                                                                                                                                                                                                                                                                                                                                                                                                                                                                                                                                                                                                                                                                                                                                                                                                                                                                                                                                                                                                                                                   \n",
       "3   These are all the \"toddler\" issues I can handle If I flared this wrong, I apologise. I wasn't sure what else to tag it.\\n\\nI have a 4 year old dog and 6 month old kitten. My boyfriend wakes up at 4:30 for work and I'm laid off right now so I wake up with him. Normally this isn't a problem, but last night I couldn't fall asleep until about 11. \\n\\nThe kitten regularly wakes me up at 3 or 4 trying to nurse on my earlobes. I've started sleeping with a blanket that she tries to nurse on so I can move her to that when she starts trying to nurse on me, but it wasn't working last night. \\n\\nOn top of that, last night the dog started getting jealous of the kitten getting attention, so she was pawing at her and they started playing on top of me. Every morning as soon as the alarms go off, the dog gets super excited (understandably) and starts jumping on me and my boyfriend licking our faces. The kitten gets the zoomies and sprints around the apartment, including running over my face. \\n\\nIt's not the end of the world since I can sleep during the day, and normally the morning routine doesn't bother me. But thinking of how much worse babies and toddlers are... It's just a nightmare. \\n\\nI know for a fact that I couldn't handle it. I would be an abusive, shitty, neglectful parent. I would resent the kid. I would be so mad and frustrated and impatient. I would hate them and hate dealing with them. I'm the exact kind of person who shouldn't have kids, and I am 5,000% ok with that. Thank fuck my boyfriend and I are both going to get fixed, and that this is the most \"toddler\" stuff I'll ever have to deal with.                                                                                                                                                                                                                                                                                                                                                                                                                                                                                                                                                                                                                                                                                                                                                                                                                                                                                                                                                                                                                                                                                                                                                                                                                                                                                                                                                                                                                                                                                                                                                                                                                                                                                                                                                                                                                                                                                                                                                                                                                                                                                                                                                                                                                                                                                                                                                                                                                                                                                                                                                                                                                                                                                                                                                                                                                                                                                                                                                                                                                                                                                                                                                                                                                                                                                                                                                                                                                                                                                                   \n",
       "4   Sooo somehow you having a child equates to me being miserable as well ??? This little story happened a while ago but I still remember it like it was yesterday because I was so mad about it for days afterwards and I still get mad when I think about it.\\n\\nAlso disclaimer: non-native speaker and this is pretty long you’ve been warned.\\n\\nAlso also quick side note: in school we had these I guess quick pop quizzes were one student out of the entire class gets picked to do a few questions on the board and then gets a grade on that depending on how well he did. I hope everybody understands this ramble and now on to the story.\\n\\nOnce upon a time while I was still in school I had this math teacher who had just gotten back from her time off as a new mom. She took on our tenth grade math class again and everything seemed normal for a while. \\nBut then came the day on which I began to severely dislike this woman.\\n\\nYou see at my school there was this kind of unwritten rule that you were allowed to go up to your teacher at the beginning of the lesson and excuse yourself so that you wouldn’t have to take aforementioned pop quiz. Every teacher handled this differently. Some gave you one free pass, others three but this woman ? \\n\\nWell on this particular day I had gotten exactly one hour of sleep, was coming down with something and on top of that had to study for some kind of big upcoming test. Needless to say I felt and looked like shit and was more zombie than human. \\n\\nSo I go up to her tell her everything and you know what that bitch says ?!\\nWell I have a 5 month year old at home and I get stressed and tired too but I can’t just excuse myself and not prepare my lessons for all of my classes so neither are you allowed to do that. You can’t just let your responsibilities slide like that.\\n\\nMy jaw was literally on the floor. This bitch honestly had the fucking nerve to compare herself, a grown up teacher with a husband a salary and a baby at home to a sixteen year old student. \\nLike WHAT ?! \\n\\nSadly I didn’t call her out on this because I was young and she was my teacher but looking back as a 22 year old I wish I had. \\nHonestly the nerve of this woman, like just because you are apparently miserable now doesn’t mean you have to bring everyone else down and most of all you can’t start gatekeeping being tired or stressed you cunt!! \\n\\nAlso thanks for being one of the countless reasons for me being childfree. If having a child makes you that petty that you have to take your anger out on teenagers than I want no part of that.\\n\\nIf you made it this far, thanks for reading my ramblings I appreciate it. \\nI really needed to get this of my chest.                                                                                                                                                                                                                                                                                                                                                                                                                                                                                                                                                                                                                                                                                                                                                                                                                                                                                                                                                                                                                                                                                                                                                                                                                                                                                                                                                                                                                                                                                                                                                                                                                                                                                                                                                                                                                                                                                                                                                                                                                                                                                                                                                                                                                                                                                                                                                                                              \n",
       "5   Halloween Curious about what you guys do on Halloween, do you give out candy to the little ankle biters? I did last year and it was OK I guess. Normally my husband and I would go out but we now have two dogs and I don't like leaving them alone with so much commotion going on outside. Also my neighbors kids are total brats who I can't stand. \\n\\nI'm just curious. 🤷‍♀️                                                                                                                                                                                                                                                                                                                                                                                                                                                                                                                                                                                                                                                                                                                                                                                                                                                                                                                                                                                                                                                                                                                                                                                                                                                                                                                                                                                                                                                                                                                                                                                                                                                                                                                                                                                                                                                                                                                                                                                                                                                                                                                                                                                                                                                                                                                                                                                                                                                                                                                                                                                                                                                                                                                                                                                                                                                                                                                                                                                                                                                                                                                                                                                                                                                                                                                                                                                                                                                                                                                                                                                                                                                                                                                                                                                                                                                                                                                                                                                                                                                                                                                                                                                                                                                                                                                                                                                                                                                                                                                                                                                                                                                                                                                                                                                                       \n",
       "8   Traveling/vacations without kids is amazing!! Just got back from a week in Newport, CA (US) and I’m looking back at how wonderful it was not worrying about little ones! \\n\\nNo worrying about kids fighting each other, or kids whining about getting the wrong flavor of ice cream, or getting pickles on their burgers, or crying and screaming about long lines at amusement parks (which wasn’t even that bad most the time), or 5 million bathroom trips (not their fault they just have mini bladders), or waking them up to get into the hotel or to get back home...\\n\\nTonight, all I had to do when I got home was grab a few of my things, throw car trash away, and relax from a 12 hr drive home with my hubs (2 or so hrs were added from various stops). \\n\\nHow does it get any better than this? ♥️\\n\\n(Well I could have a job that doesn’t suck my soul and spirit out but that’s not the focus here lol)                                                                                                                                                                                                                                                                                                                                                                                                                                                                                                                                                                                                                                                                                                                                                                                                                                                                                                                                                                                                                                                                                                                                                                                                                                                                                                                                                                                                                                                                                                                                                                                                                                                                                                                                                                                                                                                                                                                                                                                                                                                                                                                                                                                                                                                                                                                                                                                                                                                                                                                                                                                                                                                                                                                                                                                                                                                                                                                                                                                                                                                                                                                                                                                                                                                                                                                                                                                                                                                                                                                                                                                                                                                                                                                                                                                                                                                                                                                                                                                                                                                                                                                                                                                                                                                           \n",
       "10  Puppies vs. Children I got a puppy about a month ago and he is so amazing. A lot of friends and family are visiting often to meet him because he won’t be a puppy for long! \\n\\nMy older sister has a friend with a 2 year old son, and she came to visit today to meet my pup. He is a very calm child and he’s pretty cute. But he recently just started walking/running on his own. Just watching him today was a great reminder of why I don’t want children. People compare having puppies to having a newborn child. But I just don’t agree. \\n\\nWhen you think about it, I have had my pup for 1 month and he is about 3.5 months old. I have taught him to sit, lay down, give me paw, drop it, come and stay and he is also fully potty trained now. Meanwhile, my sisters’s friend has a 2 year old that doesn’t come when his mother calls him, he won’t sit still, he will pick up everything in his sight and throw it, he needs his diaper changed throughout the day, he still has to be hand fed and he really only started walking a few months ago.\\n\\nDon’t get me wrong, having a puppy is hard work, and I’m pretty tired from waking up in the middle of the night to take him outside or getting up at 5am everyday to feed him. He cries at night while we’re still in crate training mode. But I know this stage of his life will only last a few more months. And honestly, it’s not nearly as difficult as I imagine a baby would be. At least my “baby” can walk at his age. Basically what I am trying to say, is that my puppy has been alive for 3.5 months and he’s already learned a lot and is more well behaved than a 2 year old human being. \\n\\nI love being a mom. But only as a Dog Mom. My puppy is great and I am so happy he’s not a human baby. \\n\\nDon’t worry, here is my [Puppy Tax](https://imgur.com/qzcOlR6)\\n\\n [Edit: another tax because he’s cute](https://imgur.com/vWhKZlI)                                                                                                                                                                                                                                                                                                                                                                                                                                                                                                                                                                                                                                                                                                                                                                                                                                                                                                                                                                                                                                                                                                                                                                                                                                                                                                                                                                                                                                                                                                                                                                                                                                                                                                                                                                                                                                                                                                                                                                                                                                                                                                                                                                                                                                                                                                                                                                                                                                                                                                                                                                                                                                                                                                                                                                                                                                                                                                                                                                                                                                                                                                                                                                                                                                                     \n",
       "11  Don't tell me my priorities. **Update**: Good Morning all, first thank you for the support. It really means a lot, and takes a weight off my shoulders. Honestly, I felt like I like I had an obligation. You guys helped clear that up.   \\n\\n\\nI spoke to my buddy this morning on his discord server, he saw that I was on and pinged me:\\n\\nFriend: Hey dude, any update on whether or not you can watch \"son\"?  \\nMe: Whats up man, can you talk right now over mic? \\n\\n\\*hooks up\\*\\n\\nMe: Listen man, I can't watch \"son\", I've got too much going on to just bounce out in the middle of the day. Between the \"X\" this month,\"Y\" next moth and \"Z\" around the corner I can't. \"A\" &amp; \"B\" are on their vacations, I need to be at work. \\n\\nFriend: Ah. Yeah man, I get it. That sucks dude, but OK thanks anyway. \\n\\nI wanted to follow up and say something along the lines of - \"Yeah man, sucks I can't watch your kid for free and enable you guys to kind of do what you want.\" \\n\\nBut honestly my fight isn't with him, it's with the wife. \\n\\nENTER THE FUCKING WIFE. \\n\\nWe have a group chat - for some reason, mainly it's her sharing shit and old memes. \\n\\nHer: Awww, Xjanko (She calls me by the nick name her son has given me, because my name is difficult to pronounce) \"son\" was so excited to see you. \\n\\nI can tell she's trying to leverage/emotionally manipulate me - and I prefer not to be rude.\\n\\nMe: Yeah, that's too bad. I have more pressing matters to take care of at work. \\n\\nHer: Lol, if you say so. \"Son\" just wants to see you. \\n\\nI didn't respond. \\n\\nSurprisingly enough, my friend is suddenly too tired to go out tonight to celebrate another friend's birthday. \\n\\nI hate this shit. I feel for my friend, because I know he genuinely wanted to come and hang out with everyone, it's been a while since he's been able to. \\n\\nAny way, thanks again for the support guys. \\n\\n\\-----\\n\\nI can't just leave fucking work to pick your child up from school and then watch him in the afternoon.\\n\\nSo my old mentor/good friend, his wife and son (3) recently moved to the area I work in. He is working in a different section of the organization that requires a lot of strange hours, and he's about a solid two hour drive from his home.\\n\\nI am now a work center manager (thanks a lot to his guidance) and in a pretty senior position within my organization. Two of my guys are on leave, (honeymoon and well deserved vacation) - and I'm really running the show more hands on than usual.\\n\\nNothing exceedingly crazy, just requires me to be more actively engaged with the day to day than usual versus managing larger picture items for the longer term.\\n\\nSo my friend's wife wants to travel (I hope for work, but I *suspect* it's for fun disguised as work), and needs me to pick up their kid from school, and then watch him for about 2 hours in the middle of the afternoon for about 3 days in the middle of the work week.\\n\\nI reply that I'll have to see, because the next month is super critical.\\n\\nHolidays basically every one leaves, so anything that is not done/prepared before the major holiday- becomes a shit show rush to get done in the new year. Additionally there is critical work that has a hyper-sensitive window that may occur during that time. Said work takes about a year of orchestrating culminating in 3-5 days of intense activity.\\n\\nHusband totally understands. No problem dude - get with me as soon as you can, so I can know.\\n\\nWife insists that the childcare situation is more important, and she needs to know now. I need to go talk to my higher ups to make sure I can take off in the middle of the work day to care for a child that is not mine.\\n\\n*Slow your fucking role.*\\n\\nIt's not like we have a **major** audit from corporate coming up. (We do).\\n\\nIt's not like we have a major project entering completion phase that we've literally been working on since May 2018. (We do). Edit - To clarify this is literally the shining jewel of the organization with C-Suite and board level attention.\\n\\nI want to help my friend out. Really I do, he has been dealing with some mental health issues the past few years, and I genuinely want to help.\\n\\nBut fuck. I really hate when other's make demands of me.\\n\\nAside from the whole fact that it will cost my team a lot if I do this - I plain just don't want to because of how off-putting the wife's tone.                                                                                                                                                                                                                                                                                                                                                                                                                                                                                                                                                                                                                                              \n",
       "13  Career things I can do without kids! So I decided on a communication degree and start that next semester. Goal right now is copywriting but with the degree I've chosen I'll have dozens of options if I decide I change my mind.\\n\\nWith no soccer practice or ballet or playdates or feedings to worry about, I can devote time to honing my writing and building a portfolio AND still get eight hours of sleep. Instead of being the working, learning parents who gets three hours of sleep that you always see in online college commercials. Going to a community college by the way, no ITT Tech or UoP for me! $6000 for an associate's isn't too bad!\\n\\nSorry if this sounds disorganized, it's 5:48 in the morning and I didn't sleep well last night.                                                                                                                                                                                                                                                                                                                                                                                                                                                                                                                                                                                                                                                                                                                                                                                                                                                                                                                                                                                                                                                                                                                                                                                                                                                                                                                                                                                                                                                                                                                                                                                                                                                                                                                                                                                                                                                                                                                                                                                                                                                                                                                                                                                                                                                                                                                                                                                                                                                                                                                                                                                                                                                                                                                                                                                                                                                                                                                                                                                                                                                                                                                                                                                                                                                                                                                                                                                                                                                                                                                                                                                                                                                                                                                                                                                                                                                                                                                                                                                                                                                                                                                                                                                                                                                                                                                                                                                                                      \n",
       "14  There's a reason I don't like kids So I'm sitting at home watching TV and my sister brings her 1 year old and it starts walking around the living room where the tv is. At first I try to ignore it , even when it's walking up to my legs trying to get my attention. I wave back and then continue watching. But the little thing won't stop hovering around me so I move my legs and pick them up so she can't reach and I get scolded because I made her fall. She never cried or anything but now it's a rule that I must drop whatever I'm doing for it. Even if it's not mine . And to just deal with it. Even when I go to another room my sister will go \" where's Anon? Let's go find him\" .                                                                                                                                                                                                                                                                                                                                                                                                                                                                                                                                                                                                                                                                                                                                                                                                                                                                                                                                                                                                                                                                                                                                                                                                                                                                                                                                                                                                                                                                                                                                                                                                                                                                                                                                                                                                                                                                                                                                                                                                                                                                                                                                                                                                                                                                                                                                                                                                                                                                                                                                                                                                                                                                                                                                                                                                                                                                                                                                                                                                                                                                                                                                                                                                                                                                                                                                                                                                                                                                                                                                                                                                                                                                                                                                                                                                                                                                                                                                                                                                                                                                                                                                                                                                                                                                                                                                                                                                                                                                                  \n",
       "19  I am forced to babysit my younger siblings almost daily. (I just want to apologize if this isn’t acceptable in this reddit, I just wasn’t sure where to go.)\\n\\nHi, my name is Carrie. I’m currently 17. I’m not here to tell you my life story, but in order for you to understand this rant (if anyone actually reads it) I feel like I have to tell you a little bit about my past. I’ve always had very bad mental health, multiple suicide attempts, anxiety attacks almost everyday, cutting, not eating, etc., but anyways, to cut to the point of my past, my dad was abusive to everyone so my parents divorced and that’s where I was forced to play the second parent. When I was 10, that’s when I started to have to take care of my little brother, he’s 4 years younger than me. It wasn’t that hard at first since it’s just him and we got along pretty well. My mom then had my littlest brother, my parents divorced very shortly after he was born. He was recently diagnosed with autism, so it’s a little harder to babysit. My mom works 5 days a week, typically it’s a 6am-7pm shift. I do online classes instead of going to school because I currently behind. I haven’t had much of a problem until recently, I feel like I’m a prisoner in my own home and I feel like I’m losing my teenage years due to being a parent I never signed up for. I get frustrated very easily now and I even start to yell and hit things (not the kids, just like the wall). My mom doesn’t know because I’ll just get in trouble. I can tell it is effecting my mental health. I understand that my mom needs to work to have money for us, I really do understand that, but I don’t want to do this anymore. I feel like I’m at my breaking point and I’m gonna snap one day. \\n\\nI want to clarify, I’d never hurt my brothers and I love them to death, so please don’t think otherwise.\\n\\n(EDIT:\\n\\nThank you guys for the support, help, and ideas. I feel like I left some details out that might help. \\n\\nMy littlest brother does in fact go to a special school for kids with autism, but he only goes two days a week, but only for 3 hours. And yes it’s a nice little break so I can do whatever homework or chores I have. But I still have to deal with my other brother, it’s horrible with him. He is an exact copy of my dad, he doesn’t listen at all and he’s very abusive. And I know it sounds stupid that my little brother acts in an abusive way towards me, but he does not take me seriously. He’s even gotten physical with me when he doesn’t get what he wants. And yes, I tell my mom, but he just gets a little slap on the wrist and he doesn’t take her seriously either. I’ve had many breakdowns because of him, no matter what I do or say he doesn’t listen. And he significantly larger than me so he could easily push me around. \\n\\nThose for saying I should talk to a counselor or family: I don’t have much family and I don’t have a school counselor. When I went to public school, I did talk to my counselor but she never really helped and she sent child services to my house because I brought up something that happened but that’s the most action that’s happened. My family is small and it always has been. But there’s a fight going on in the family right now, and for some reason they’re mad at me so no one is talking to me. I have my grandma and my two aunts. I’m not allowed to tell my family about my mental health. That’s what I was told by my mom. That’s the thing about my mom, if it makes her look bad I’m not allowed to say it. And my two aunts know about my mental health very much, but they’re too focused on my cousin because she’s the “first baby” of the family. And I wish I was exaggerating that. I don’t tell my mom anything about my mental health getting worse because everytime I’d try to talk about it it suddenly turned to her and how her life is so much harder. I get completely shut down, if I make one mistake she always has the same three threats: she threatens to get rid of my cat (not certified yet, but my emotional support animal), she threatens to send me to live with my abusive dad, and she threatens to send me to an asylum. When I took a bunch of pills to overdose, I told her and she simply dismissed me and the only reason I went to the hospital is because the school sent me. She is also very, I guess rude, to me. She told me that she gets mad at me easily simply because I look like my dad and my brothers don’t. She yells at me over every little thing, as I was typing this paragraph she called me out of my room and just started yelling because I was just in my bed. We argue a lot because she nags me so much and badgers me. I don’t hate my mom and I don’t want her to get into any trouble because my brothers need her, but I don’t know what to do. )                                                                                                                                                                                                                                                 \n",
       "20  I don't know what to title this. I literally tried like three other titles, but I couldn't think of any that actually described the situation in TLDR manner.\\n\\nThis happened almost a year ago when I was spending time with my grandma. Now, my Dad divorced my Mom almost six years ago, which of course means my Dad got together with a woman who already had a 24 year old daughter and grandkids. \\n\\nNow my Dad's girlfriend, who I will call Janette, is a very demanding person. She will only agree with things that don't concern her grandchildren, and if anything comes up even remotely mentioning the two little crotch stains she either gets all out yelling defensive, or mocks them like they aren't in the room (which they are, most of the time).\\n\\nSo, we were sitting around the small outdoor table my grandmother has in front of her house talking about whatever came to mind. Of course, Janette has to bring up her grandchildren because why the fuck not it's not like nobody else cares. \\n\\nBefore I go any further, I would like to mention that these grandchildren have a cacophony of issues. Both the younger and older have very bad attention issues, which prompts them to make loud noises, make scenes, and yell at people to watch whatever retarded kids show they're watching. This is mostly because their mother, Janette's daughter, lets the TV raise them instead of doing anything. \\n\\nThe two also have many other problems. The eldest constantly gets himself hurt, which then leads to other medical problems since from what I've seen his body can't heal any kind of injury without medical help. He also gets sick every other week, which is a lot more than normal. The youngest on the other hand, is a very punchy little kid who'll fight with his brother over every little thing. He will then cry when he is either disciplined or things go wrong like the eldest fighting back. \\n\\nJanette says that she doesn't know what to do anymore since her grandchildren refuse to listen to any disciplinary action and change for the better. Part of this is because Janette's daughter reverses any kind of disciplinary process by letting them have whatever the fuck they want when they're with her. \\n\\nOf course, neither me or my grandma can actually bring this up because Janette will get angry. So we let her continue her little tirade, which eventually culminates in her wondering if they have something wrong with them mentally.\\n\\nOf course, being the person who had ADHD and borderline Autism (I mean the real Autism not the internet insult) I know exactly why the grandkids act the way they do, because I did the same thing as a kid. Not to mention I had to sit and watch as I learned that Janette's daughter has mental illnesses like depression, ADHD and Bipolar Disorder and takes NONE OF HER MEDS. \\n\\nSo I decided it was time to actually say something. I of course ask something across the lines of \"have you ever considered they have mental issues?\" Which I will admit was a very bad way to put it, but either way Janette gets angry. \\n\\nShe looks at me and says that I don't know anything because she's taken her grandchildren to fifteen different doctors and they've never mentioned anything like Autism (which says a lot about the doctors in Michigan) and that if I wanted to insult her grandchildren then I could do so somewhere else.\\n\\nI say that I wasn't trying to insult her second generation semen demons and go on to say that I was the same way her grandkids are when I was their age, the only problem is that they don't have the medicine they need and the discipline that they need. \\n\\nI promptly ended the conversation by leaving, which I'm sure Janette had a fit about to my grandmother. \\n\\nAnd now almost a year later I learn that Janette has been spewing shit along the line of \"My kids have Autism so please don't mind them\". \\n\\nI can't explain in words the extent to which this infuriates me. It was already a leap to be angry at me for bad parenting, but to turn around and start using what I said as a reason to excuse your kids for their bad behaviour?\\n\\nNews flash, it's not an excuse. It's an explanation. There is a huge difference between the two. It explains why your kids are energetic, but it does not exempt them from the discipline they should be receiving. So not only do you twist my words to your benefit, but you also use it as a reason to retract any kind of disciplinary effort you already had? \\n\\nI could vomit in anger right now just recalling it. \\n\\nSo, moral of the story: Janette is an absolute failure of a parent, her grandchildren will grow up to be good for nothing delinquents if everything goes the way she wants it to, my grandmother will be stuck in the middle (which I am not happy about at all) and I will forever be stuck with my hatred of both Janette and her shitty grandkids. \\n\\nI apologize for my rant, I just needed to convey my anger in words and explain exactly why I should be able to beat sense into people.  \n",
       "21  So you can't handle three, so you have more? First off, I would like to preface this by saying I understand having children is stressful and difficult (some of the reasons I don't have any), and that everyone has bad days. \\n\\nSo I work in a box retail store, and see many of the same people, and see all kinds of behaviour, including shitty kids and parents. Just saw this family that I hadn't seen in a bit, since they had just had twins that were born a month or two early. \\n\\nThey already had three kids (a girl that is 4, a girl that is 3, and a boy that is 2) that are always a terror, running around screaming and throwing things, having tantrums when not getting what they wanted, and their parents are no better, ignoring all their kids' shitty behaviour to bicker with each other over everything under the sun.\\n\\nSo they come in tonight with all 5 kids now, the oldest 3 screaming about wanting McDonalds, and the newborns screaming because they're newborns. The parents are fighting about something, and soon the kids are grabbing clothes and hats, not sitting in the cart, hitting each other, everything you can imagine. \\n\\nAll of a sudden the mom just starts shouting about how she can't handle all of this, and that she just needs to get through the store. The dad tries to calm the mom down, but she just starts yelling at him. Then they just abandon their cart and go to leave.\\n\\nThen the oldest has a complete meltdown, screaming and crying, running around and hitting her parents. Why? She doesn't want to put on her coat. Smh.\\n\\nAll of this makes me wonder, if she already couldn't handle three, why have more? I understand that you can't predict twins, or it may have been unplanned, but you'd think after 3 kids under the age of five, you,'d be trying real hard to stop from getting pregnant again! \\n\\nMakes me so glad I never made that mistake. I knew from a young age that I couldn't handle kids, and it took my boyfriend a long time to come to terms with the fact that he won't have any more (he has a daughter from an ex), not as long as he's with me, that is. \\n\\nI just don't understand why you'd have more if you couldn't handle the ones you have.                                                                                                                                                                                                                                                                                                                                                                                                                                                                                                                                                                                                                                                                                                                                                                                                                                                                                                                                                                                                                                                                                                                                                                                                                                                                                                                                                                                                                                                                                                                                                                                                                                                                                                                                                                                                                                                                                                                                                                                                                                                                                                                                                                                                                                                                                                                                                                                                                                                                                                                                                                                                                                                                                                                                                                                                                                                                                                                   \n",
       "22  What age is the right age to get an endometrial ablation? + Period rant I am 17 years old, and ever since I was young, I’ve hard these excruciatingly painful periods. It usually only happens during the first day, but going to school with them has been absolutely horrible.  My nmom refuses to take me to a doctor or let me have painkillers (and there’s no one else in my life who can get me there), so I have to steal from her when she’s not around or hoard them whenever I find any laying around the house. I only ever use them on the first day, however, and even today as I’m off to school I decided to try a heating pack so I can stop relying on medication. I tried convincing her to let me go on the pill, and even tried finding ways to get it myself (although I’d have to pay AND it’s coming to her address). Nothing has come out of it.\\n\\nMy periods are usually irregular, lasting 5 days max, yet happening almost every other month. The pain makes me so freaking suicidal to the point where I sat in my kitchen for 10 minutes this morning contemplating whether I should go to school or go upstairs and hang myself. Even here on the bus as I type this Ijust want to stab myself with scissors or do something, ANYTHING to end the pain. I’m sweating, I feel like I’m going to collapse, and I have to pee every five seconds (which doesn’t work at school because class). It doesn’t help that I already have severe depression. I’ve read the symptoms of endometriosis and I’m pretty sure I don’t have that, but I can’t be too sure. I never want kids. EVER. And having to deal with this is so unbearable. I’m exhausted just typing this.\\n\\nI’ve heard that if you get an ablation at a young age, the lining will grow back and raise hell. I wanted to get one in college, but I’ve heard that it’s best to wait until your 30s for it to be permanent. \\n\\nWhat age do you recommend getting an ablation at? For women who have had an ablation, what age did you get yours, and was it permanent?                                                                                                                                                                                                                                                                                                                                                                                                                                                                                                                                                                                                                                                                                                                                                                                                                                                                                                                                                                                                                                                                                                                                                                                                                                                                                                                                                                                                                                                                                                                                                                                                                                                                                                                                                                                                                                                                                                                                                                                                                                                                                                                                                                                                                                                                                                                                                                                                                                                                                                                                                                                                                                                                                                                                                                                                                                                                                                                                                                                                                                                                                                                         \n",
       "28  Screaming 3 year old Thanksgiving This kid has always been bratty but holy **** I thought it'd be over by now.  He screams whenever things don't go his way and the parents either make empty threats or argue about how to handle situation.\\n\\nHe simply refuses to eat anything that's not sugar or pizza, and his parents have indulged his unbalanced diet since when he was younger he was underweight. So when he was asked to eat during dinner he screams bloody murder.\\n\\nAnyone know when he might grow out of it, at least the screaming? Thank goodness i dont see him often.                                                                                                                                                                                                                                                                                                                                                                                                                                                                                                                                                                                                                                                                                                                                                                                                                                                                                                                                                                                                                                                                                                                                                                                                                                                                                                                                                                                                                                                                                                                                                                                                                                                                                                                                                                                                                                                                                                                                                                                                                                                                                                                                                                                                                                                                                                                                                                                                                                                                                                                                                                                                                                                                                                                                                                                                                                                                                                                                                                                                                                                                                                                                                                                                                                                                                                                                                                                                                                                                                                                                                                                                                                                                                                                                                                                                                                                                                                                                                                                                                                                                                                                                                                                                                                                                                                                                                                                                                                                                                                                                                                                             \n",
       "29  Spotted this spray paint poem, thought it fit.                                                                                                                                                                                                                                                                                                                                                                                                                                                                                                                                                                                                                                                                                                                                                                                                                                                                                                                                                                                                                                                                                                                                                                                                                                                                                                                                                                                                                                                                                                                                                                                                                                                                                                                                                                                                                                                                                                                                                                                                                                                                                                                                                                                                                                                                                                                                                                                                                                                                                                                                                                                                                                                                                                                                                                                                                                                                                                                                                                                                                                                                                                                                                                                                                                                                                                                                                                                                                                                                                                                                                                                                                                                                                                                                                                                                                                                                                                                                                                                                                                                                                                                                                                                                                                                                                                                                                                                                                                                                                                                                                                                                                                                                                                                                                                                                                                                                                                                                                                                                                                                                                                                                          \n",
       "30  What happens when you get tipsy at family dinner. Got a little too tipsy at Thanksgiving tonight and let it slip I'm childfree. I've never had someone Bingo me before but boy did my partner's family make up for that. Currently hidding from them outside having a toke. A habit I wouldn't be able to afford with kids. Call me selfish but I like spoiling myself. Send good vibes my way. Gotta make it through this weekend. Any tips appreciated.                                                                                                                                                                                                                                                                                                                                                                                                                                                                                                                                                                                                                                                                                                                                                                                                                                                                                                                                                                                                                                                                                                                                                                                                                                                                                                                                                                                                                                                                                                                                                                                                                                                                                                                                                                                                                                                                                                                                                                                                                                                                                                                                                                                                                                                                                                                                                                                                                                                                                                                                                                                                                                                                                                                                                                                                                                                                                                                                                                                                                                                                                                                                                                                                                                                                                                                                                                                                                                                                                                                                                                                                                                                                                                                                                                                                                                                                                                                                                                                                                                                                                                                                                                                                                                                                                                                                                                                                                                                                                                                                                                                                                                                                                                                               \n",
       "31  Brats invading a college campus during peak class hours I was spending my nice, quiet gap between classes enjoying my lunch and catching up on some homework. It was like the calm before the storm - out of nowhere, I hear a terribly cry \"KEEP TO THE RIGHT OF THE SIDEWALK!,\" followed by endless shrieky voices. I look out the library window to see a menacing caterpillar-esque line of brightly clothed toddlers clogging up our only main sidewalk used to get to all the main class buildings. Peppered amongst the rowdy students, they wreaked havoc and caused major transportation delays, as their awful screams bounced off the building walls and echoed throughout campus. How wonderful to have such a loud nuisance on campus during peak midterms week! /s\\n\\n- End Scene - \\n\\nBut seriously, who the fuck thinks it's a good idea to pile toddlers/young children onto a bus and take them to a college campus? They don't know what they're doing, they can't even recognize what it is. There's nothing pretty to look at either, just bland gray architecture. *I* don't even want to be here sometimes, but I do enjoy my education so far. \\n\\nIt's beyond me why having a field trip to the most boring place imaginable (for children) was suggested. They cause immense foot-and-road traffic (we already have car congestion as it is, we certainly don't need those god-awful cheese busses everywhere), and they make us late to class because they clog up all the sidewalks like chicken bones in a garbage disposal. And all of this during midterms week - just why???                                                                                                                                                                                                                                                                                                                                                                                                                                                                                                                                                                                                                                                                                                                                                                                                                                                                                                                                                                                                                                                                                                                                                                                                                                                                                                                                                                                                                                                                                                                                                                                                                                                                                                                                                                                                                                                                                                                                                                                                                                                                                                                                                                                                                                                                                                                                                                                                                                                                                                                                                                                                                                                                                                                                                                                                                                                                                                                                                                                                                                                                                                                                                                                                                                                                                                                                                                                                                                                                                                                                                                           \n",
       "33  Is anyone here a stay-at-home wife or husband? Curious to see if anyone in this community is a stay at home husband or wife without kids. I recently took 2 weeks leave to just stay at home and relax. And I absolutely loved it! I loved being able to keep our house spotless and cooking every night (my partner and I work complete opposite schedules so I’m never home for dinner). I even got to spend 2 weeks just hanging out with our cat who has separation anxiety. \\n\\nHas anyone else decided to stay at home or work part time to spend more time at home? What has your experience been?                                                                                                                                                                                                                                                                                                                                                                                                                                                                                                                                                                                                                                                                                                                                                                                                                                                                                                                                                                                                                                                                                                                                                                                                                                                                                                                                                                                                                                                                                                                                                                                                                                                                                                                                                                                                                                                                                                                                                                                                                                                                                                                                                                                                                                                                                                                                                                                                                                                                                                                                                                                                                                                                                                                                                                                                                                                                                                                                                                                                                                                                                                                                                                                                                                                                                                                                                                                                                                                                                                                                                                                                                                                                                                                                                                                                                                                                                                                                                                                                                                                                                                                                                                                                                                                                                                                                                                                                                                                                                                                                                                               \n",
       "34  Kid's Parties and Baby Showers BLECK! So, my husband's niece had a child a few years ago and I had to suffer through her kid's birthday parties. I hate kid's parties. They are miserable for me. My husband guilts me into going every year \"because that's what family does.\" Except...they know I'm not a kid person so Im not sure why they haven't stopped inviting me.\\n\\nNow she is pregnant and having party after party.  Reveal...baby shower.  Probably more coming. I dont want to go but I dont want to be an ass. I already faked being sick to get out of the reveal party. In the next month is her baby shower and her son's birthday party. \\n\\nDear god help me figure out how to not have to go to this shit anymore.                                                                                                                                                                                                                                                                                                                                                                                                                                                                                                                                                                                                                                                                                                                                                                                                                                                                                                                                                                                                                                                                                                                                                                                                                                                                                                                                                                                                                                                                                                                                                                                                                                                                                                                                                                                                                                                                                                                                                                                                                                                                                                                                                                                                                                                                                                                                                                                                                                                                                                                                                                                                                                                                                                                                                                                                                                                                                                                                                                                                                                                                                                                                                                                                                                                                                                                                                                                                                                                                                                                                                                                                                                                                                                                                                                                                                                                                                                                                                                                                                                                                                                                                                                                                                                                                                                                                                                                                                                               "
      ]
     },
     "execution_count": 232,
     "metadata": {},
     "output_type": "execute_result"
    }
   ],
   "source": [
    "misclassified_df[misclassified_df['true_values']==0] # misclassified childfree posts"
   ]
  },
  {
   "cell_type": "markdown",
   "metadata": {},
   "source": [
    "# Conclusion"
   ]
  },
  {
   "cell_type": "markdown",
   "metadata": {},
   "source": [
    "We had trained a classifier model - Logistic Regression and achieved an accuracy score of 94.1%. However there remains a misclassification rate of 5.9%. \n",
    "\n",
    "False positive and false negative accounts for the 5.9% with a total of 35 posts. As mentioned earlier, these are both equally bad. A parenting post usually highlights the struggles with raising the child and support from the community is much appreciated. If such post are misclassified into childfree subreddit, it will not garner the support, but instead it will draw criticism from the wrong community and may lead to cyberbulling. This will ultimately affect user experience in the reddit website.\n",
    "\n",
    "While machine learning models are able to predict, with great accuracy, the subreddit for the post to be in, we are not able to control users' choice of words(which greatly affect our accuracy). \n",
    "\n",
    "For this case, perhaps other NLP techiques(eg, sentimental anaylsis) have to be used in conjuction to improve the accuracy of the classification."
   ]
  },
  {
   "cell_type": "code",
   "execution_count": null,
   "metadata": {},
   "outputs": [],
   "source": []
  }
 ],
 "metadata": {
  "kernelspec": {
   "display_name": "Python 3",
   "language": "python",
   "name": "python3"
  },
  "language_info": {
   "codemirror_mode": {
    "name": "ipython",
    "version": 3
   },
   "file_extension": ".py",
   "mimetype": "text/x-python",
   "name": "python",
   "nbconvert_exporter": "python",
   "pygments_lexer": "ipython3",
   "version": "3.7.3"
  },
  "toc": {
   "base_numbering": 1,
   "nav_menu": {},
   "number_sections": true,
   "sideBar": true,
   "skip_h1_title": false,
   "title_cell": "Table of Contents",
   "title_sidebar": "Contents",
   "toc_cell": false,
   "toc_position": {
    "height": "calc(100% - 180px)",
    "left": "10px",
    "top": "150px",
    "width": "288px"
   },
   "toc_section_display": true,
   "toc_window_display": true
  },
  "varInspector": {
   "cols": {
    "lenName": 16,
    "lenType": 16,
    "lenVar": 40
   },
   "kernels_config": {
    "python": {
     "delete_cmd_postfix": "",
     "delete_cmd_prefix": "del ",
     "library": "var_list.py",
     "varRefreshCmd": "print(var_dic_list())"
    },
    "r": {
     "delete_cmd_postfix": ") ",
     "delete_cmd_prefix": "rm(",
     "library": "var_list.r",
     "varRefreshCmd": "cat(var_dic_list()) "
    }
   },
   "types_to_exclude": [
    "module",
    "function",
    "builtin_function_or_method",
    "instance",
    "_Feature"
   ],
   "window_display": false
  }
 },
 "nbformat": 4,
 "nbformat_minor": 2
}
